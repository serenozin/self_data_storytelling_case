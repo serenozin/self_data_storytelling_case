{
  "nbformat": 4,
  "nbformat_minor": 5,
  "metadata": {
    "kernelspec": {
      "display_name": "aula",
      "language": "python",
      "name": "aula"
    },
    "language_info": {
      "codemirror_mode": {
        "name": "ipython",
        "version": 3
      },
      "file_extension": ".py",
      "mimetype": "text/x-python",
      "name": "python",
      "nbconvert_exporter": "python",
      "pygments_lexer": "ipython3",
      "version": "3.8.10"
    },
    "colab": {
      "name": "data_linking.ipynb",
      "provenance": [],
      "collapsed_sections": [
        "Ph5pGdtsIADj",
        "FteCJ1rKQdFd",
        "2XiIhOZ1yRdK",
        "q2NN3M14IGu_",
        "l2O0MvC-J4Ed",
        "BgDSno8iPF_I",
        "7wlK48uPxf-C",
        "8RbR7uKmvpfS",
        "vqpHOTaK4cEx",
        "kg0tBb2IRVh1",
        "__NTjAG2BDpy",
        "Pn8WqeJGwim4",
        "uP3dArIcypPd",
        "4aoehtxedL4Y",
        "xdoQhLxLuWyH",
        "aOkUT0irGpS0",
        "Riw_PuXfHamt"
      ]
    }
  },
  "cells": [
    {
      "cell_type": "markdown",
      "metadata": {
        "id": "EcZVBP_dHbXw"
      },
      "source": [
        "### Libs import and configuration"
      ],
      "id": "EcZVBP_dHbXw"
    },
    {
      "cell_type": "code",
      "metadata": {
        "id": "R8DUMX01yB4K",
        "colab": {
          "base_uri": "https://localhost:8080/"
        },
        "outputId": "15998a45-ccc5-4c24-ccc0-947f5a0c0326"
      },
      "source": [
        "!pip install plotly --upgrade"
      ],
      "id": "R8DUMX01yB4K",
      "execution_count": null,
      "outputs": [
        {
          "output_type": "stream",
          "text": [
            "Requirement already satisfied: plotly in /usr/local/lib/python3.7/dist-packages (4.4.1)\n",
            "Collecting plotly\n",
            "  Downloading plotly-5.1.0-py2.py3-none-any.whl (20.6 MB)\n",
            "\u001b[K     |████████████████████████████████| 20.6 MB 1.3 MB/s \n",
            "\u001b[?25hCollecting tenacity>=6.2.0\n",
            "  Downloading tenacity-8.0.1-py3-none-any.whl (24 kB)\n",
            "Requirement already satisfied: six in /usr/local/lib/python3.7/dist-packages (from plotly) (1.15.0)\n",
            "Installing collected packages: tenacity, plotly\n",
            "  Attempting uninstall: plotly\n",
            "    Found existing installation: plotly 4.4.1\n",
            "    Uninstalling plotly-4.4.1:\n",
            "      Successfully uninstalled plotly-4.4.1\n",
            "Successfully installed plotly-5.1.0 tenacity-8.0.1\n"
          ],
          "name": "stdout"
        }
      ]
    },
    {
      "cell_type": "code",
      "metadata": {
        "id": "iH_glfc00bap",
        "colab": {
          "base_uri": "https://localhost:8080/"
        },
        "outputId": "42d0f038-7647-463d-ed9d-0ef641ecb5cb"
      },
      "source": [
        "  from google.colab import drive\n",
        "drive.mount('/content/drive')"
      ],
      "id": "iH_glfc00bap",
      "execution_count": null,
      "outputs": [
        {
          "output_type": "stream",
          "text": [
            "Mounted at /content/drive\n"
          ],
          "name": "stdout"
        }
      ]
    },
    {
      "cell_type": "code",
      "metadata": {
        "id": "ab8406d5-d9c5-4596-973d-e30916c41d62"
      },
      "source": [
        "import pandas as pd\n",
        "import numpy as np\n",
        "import pytz\n",
        "import json\n",
        "import os"
      ],
      "id": "ab8406d5-d9c5-4596-973d-e30916c41d62",
      "execution_count": null,
      "outputs": []
    },
    {
      "cell_type": "code",
      "metadata": {
        "id": "mvzovxekyQs5"
      },
      "source": [
        "pd.options.plotting.backend = \"plotly\""
      ],
      "id": "mvzovxekyQs5",
      "execution_count": null,
      "outputs": []
    },
    {
      "cell_type": "code",
      "metadata": {
        "id": "Pqpm1fT-5xnE"
      },
      "source": [
        "my_timezone = pytz.timezone('Brazil/East')"
      ],
      "id": "Pqpm1fT-5xnE",
      "execution_count": null,
      "outputs": []
    },
    {
      "cell_type": "markdown",
      "metadata": {
        "id": "uAsqzkhxGZ2e"
      },
      "source": [
        "# Data Linking"
      ],
      "id": "uAsqzkhxGZ2e"
    },
    {
      "cell_type": "markdown",
      "metadata": {
        "id": "Ph5pGdtsIADj"
      },
      "source": [
        "### YouTube Data"
      ],
      "id": "Ph5pGdtsIADj"
    },
    {
      "cell_type": "code",
      "metadata": {
        "id": "5i7shgJS3oQi"
      },
      "source": [
        "# juliana = pd.read_csv('/content/drive/Shareddrives/Data Reporting/youtube_categorias/juliana_youtube.csv',parse_dates=['time'])\n",
        "# vithor = pd.read_csv('/content/drive/Shareddrives/Data Reporting/youtube_categorias/vithor_youtube.csv',parse_dates=['time'])\n",
        "# patryck = pd.read_csv('/content/drive/Shareddrives/Data Reporting/youtube_categorias/patryck_youtube.csv',parse_dates=['time']).query('time.dt.year >= 2020')\n"
      ],
      "id": "5i7shgJS3oQi",
      "execution_count": null,
      "outputs": []
    },
    {
      "cell_type": "code",
      "metadata": {
        "id": "5RU3pAiF4SS6"
      },
      "source": [
        "# yt = pd.concat([juliana, vithor, patryck])"
      ],
      "id": "5RU3pAiF4SS6",
      "execution_count": null,
      "outputs": []
    },
    {
      "cell_type": "code",
      "metadata": {
        "id": "_vcgJS7T1QQO"
      },
      "source": [
        "# yt.to_csv('/content/drive/Shareddrives/Data Reporting/youtube_with_categories_linked.csv', index=False)"
      ],
      "id": "_vcgJS7T1QQO",
      "execution_count": null,
      "outputs": []
    },
    {
      "cell_type": "code",
      "metadata": {
        "id": "WfvwgyxX17pN"
      },
      "source": [
        "yt = pd.read_csv(\n",
        "    '/content/drive/Shareddrives/Data Reporting/youtube_with_categories_linked.csv', \n",
        "    parse_dates=['time']\n",
        ")"
      ],
      "id": "WfvwgyxX17pN",
      "execution_count": null,
      "outputs": []
    },
    {
      "cell_type": "code",
      "metadata": {
        "id": "Fl39qqFOKGUm",
        "colab": {
          "base_uri": "https://localhost:8080/",
          "height": 797
        },
        "outputId": "b75696fb-a780-4b27-f981-af93951a8da9"
      },
      "source": [
        "yt"
      ],
      "id": "Fl39qqFOKGUm",
      "execution_count": null,
      "outputs": [
        {
          "output_type": "execute_result",
          "data": {
            "text/html": [
              "<div>\n",
              "<style scoped>\n",
              "    .dataframe tbody tr th:only-of-type {\n",
              "        vertical-align: middle;\n",
              "    }\n",
              "\n",
              "    .dataframe tbody tr th {\n",
              "        vertical-align: top;\n",
              "    }\n",
              "\n",
              "    .dataframe thead th {\n",
              "        text-align: right;\n",
              "    }\n",
              "</style>\n",
              "<table border=\"1\" class=\"dataframe\">\n",
              "  <thead>\n",
              "    <tr style=\"text-align: right;\">\n",
              "      <th></th>\n",
              "      <th>channel</th>\n",
              "      <th>channelUrl</th>\n",
              "      <th>header</th>\n",
              "      <th>title</th>\n",
              "      <th>titleUrl</th>\n",
              "      <th>time</th>\n",
              "      <th>products</th>\n",
              "      <th>details</th>\n",
              "      <th>category</th>\n",
              "      <th>user</th>\n",
              "      <th>period_day</th>\n",
              "    </tr>\n",
              "  </thead>\n",
              "  <tbody>\n",
              "    <tr>\n",
              "      <th>0</th>\n",
              "      <td>Big Brother Brasil</td>\n",
              "      <td>https://www.youtube.com/channel/UC8WT0kby-iTFM...</td>\n",
              "      <td>YouTube</td>\n",
              "      <td>Watched AS MENINAS DESCOBREM O PLANO DE HADSON...</td>\n",
              "      <td>https://www.youtube.com/watch?v=S_IRHjcHZPo</td>\n",
              "      <td>2021-07-17 19:02:37.688000-03:00</td>\n",
              "      <td>YouTube</td>\n",
              "      <td>NaN</td>\n",
              "      <td>Entertainment</td>\n",
              "      <td>Juliana</td>\n",
              "      <td>Noite</td>\n",
              "    </tr>\n",
              "    <tr>\n",
              "      <th>1</th>\n",
              "      <td>GIOH</td>\n",
              "      <td>https://www.youtube.com/channel/UCTCykZFeSbgMu...</td>\n",
              "      <td>YouTube</td>\n",
              "      <td>Watched FESTA DE 1 ANO DO BABY Z 🥳🎪🍭</td>\n",
              "      <td>https://www.youtube.com/watch?v=8HLSmfNoADw</td>\n",
              "      <td>2021-07-17 18:49:49.263000-03:00</td>\n",
              "      <td>YouTube</td>\n",
              "      <td>NaN</td>\n",
              "      <td>Entertainment</td>\n",
              "      <td>Juliana</td>\n",
              "      <td>Tarde</td>\n",
              "    </tr>\n",
              "    <tr>\n",
              "      <th>2</th>\n",
              "      <td>Netflix Brasil</td>\n",
              "      <td>https://www.youtube.com/channel/UCc1l5mTmAv2GC...</td>\n",
              "      <td>YouTube</td>\n",
              "      <td>Watched Mais Brasil na Tela | Netflix Brasil</td>\n",
              "      <td>https://www.youtube.com/watch?v=vGcClIN07kk</td>\n",
              "      <td>2021-07-17 11:33:25.948000-03:00</td>\n",
              "      <td>YouTube</td>\n",
              "      <td>NaN</td>\n",
              "      <td>Entertainment</td>\n",
              "      <td>Juliana</td>\n",
              "      <td>Manhã</td>\n",
              "    </tr>\n",
              "    <tr>\n",
              "      <th>3</th>\n",
              "      <td>Netflix Brasil</td>\n",
              "      <td>https://www.youtube.com/channel/UCc1l5mTmAv2GC...</td>\n",
              "      <td>YouTube</td>\n",
              "      <td>Watched Fugindo do Amor | Trailer oficial | Ne...</td>\n",
              "      <td>https://www.youtube.com/watch?v=mHPNYVyMXtw</td>\n",
              "      <td>2021-07-17 11:31:13.605000-03:00</td>\n",
              "      <td>YouTube</td>\n",
              "      <td>NaN</td>\n",
              "      <td>Entertainment</td>\n",
              "      <td>Juliana</td>\n",
              "      <td>Manhã</td>\n",
              "    </tr>\n",
              "    <tr>\n",
              "      <th>4</th>\n",
              "      <td>Netflix Brasil</td>\n",
              "      <td>https://www.youtube.com/channel/UCc1l5mTmAv2GC...</td>\n",
              "      <td>YouTube</td>\n",
              "      <td>Watched Diários de Intercâmbio | Trailer ofici...</td>\n",
              "      <td>https://www.youtube.com/watch?v=rIXv7zEtN3w</td>\n",
              "      <td>2021-07-17 11:28:46.249000-03:00</td>\n",
              "      <td>YouTube</td>\n",
              "      <td>NaN</td>\n",
              "      <td>Entertainment</td>\n",
              "      <td>Juliana</td>\n",
              "      <td>Manhã</td>\n",
              "    </tr>\n",
              "    <tr>\n",
              "      <th>...</th>\n",
              "      <td>...</td>\n",
              "      <td>...</td>\n",
              "      <td>...</td>\n",
              "      <td>...</td>\n",
              "      <td>...</td>\n",
              "      <td>...</td>\n",
              "      <td>...</td>\n",
              "      <td>...</td>\n",
              "      <td>...</td>\n",
              "      <td>...</td>\n",
              "      <td>...</td>\n",
              "    </tr>\n",
              "    <tr>\n",
              "      <th>29800</th>\n",
              "      <td>RihannaVEVO</td>\n",
              "      <td>https://www.youtube.com/channel/UC2xskkQVFEpLc...</td>\n",
              "      <td>YouTube</td>\n",
              "      <td>Watched Rihanna - Don't Stop The Music</td>\n",
              "      <td>https://www.youtube.com/watch?v=yd8jh9QYfEs</td>\n",
              "      <td>2015-02-23 19:48:42.616000-03:00</td>\n",
              "      <td>YouTube</td>\n",
              "      <td>NaN</td>\n",
              "      <td>Music</td>\n",
              "      <td>Juliana</td>\n",
              "      <td>Noite</td>\n",
              "    </tr>\n",
              "    <tr>\n",
              "      <th>29801</th>\n",
              "      <td>LadyGagaVEVO</td>\n",
              "      <td>https://www.youtube.com/channel/UC07Kxew-cMIay...</td>\n",
              "      <td>YouTube</td>\n",
              "      <td>Watched Lady Gaga - Just Dance ft. Colby O'Don...</td>\n",
              "      <td>https://www.youtube.com/watch?v=2Abk1jAONjw</td>\n",
              "      <td>2015-02-23 19:46:33.496000-03:00</td>\n",
              "      <td>YouTube</td>\n",
              "      <td>NaN</td>\n",
              "      <td>Music</td>\n",
              "      <td>Juliana</td>\n",
              "      <td>Noite</td>\n",
              "    </tr>\n",
              "    <tr>\n",
              "      <th>29802</th>\n",
              "      <td>BeloVEVO</td>\n",
              "      <td>https://www.youtube.com/channel/UCRIxDttbZcb9A...</td>\n",
              "      <td>YouTube</td>\n",
              "      <td>Watched Belo - Perfume / Intriga da Oposição /...</td>\n",
              "      <td>https://www.youtube.com/watch?v=PIyZ0ABh2y0</td>\n",
              "      <td>2015-02-23 19:39:47.480000-03:00</td>\n",
              "      <td>YouTube</td>\n",
              "      <td>NaN</td>\n",
              "      <td>Music</td>\n",
              "      <td>Juliana</td>\n",
              "      <td>Noite</td>\n",
              "    </tr>\n",
              "    <tr>\n",
              "      <th>29803</th>\n",
              "      <td>BeloVEVO</td>\n",
              "      <td>https://www.youtube.com/channel/UCRIxDttbZcb9A...</td>\n",
              "      <td>YouTube</td>\n",
              "      <td>Watched Belo - Reinventar / Pra Ver o Sol Bril...</td>\n",
              "      <td>https://www.youtube.com/watch?v=1WfyBacToIw</td>\n",
              "      <td>2015-02-23 19:36:33.638000-03:00</td>\n",
              "      <td>YouTube</td>\n",
              "      <td>NaN</td>\n",
              "      <td>Music</td>\n",
              "      <td>Juliana</td>\n",
              "      <td>Noite</td>\n",
              "    </tr>\n",
              "    <tr>\n",
              "      <th>29804</th>\n",
              "      <td>nessajrcebola</td>\n",
              "      <td>https://www.youtube.com/channel/UC7NtLRtbi7Z74...</td>\n",
              "      <td>YouTube</td>\n",
              "      <td>Watched Intimidade Juninho</td>\n",
              "      <td>https://www.youtube.com/watch?v=up5aiNk7OY0</td>\n",
              "      <td>2015-02-23 19:31:14.005000-03:00</td>\n",
              "      <td>YouTube</td>\n",
              "      <td>NaN</td>\n",
              "      <td>Music</td>\n",
              "      <td>Juliana</td>\n",
              "      <td>Noite</td>\n",
              "    </tr>\n",
              "  </tbody>\n",
              "</table>\n",
              "<p>29805 rows × 11 columns</p>\n",
              "</div>"
            ],
            "text/plain": [
              "                  channel  ... period_day\n",
              "0      Big Brother Brasil  ...      Noite\n",
              "1                    GIOH  ...      Tarde\n",
              "2          Netflix Brasil  ...      Manhã\n",
              "3          Netflix Brasil  ...      Manhã\n",
              "4          Netflix Brasil  ...      Manhã\n",
              "...                   ...  ...        ...\n",
              "29800         RihannaVEVO  ...      Noite\n",
              "29801        LadyGagaVEVO  ...      Noite\n",
              "29802            BeloVEVO  ...      Noite\n",
              "29803            BeloVEVO  ...      Noite\n",
              "29804       nessajrcebola  ...      Noite\n",
              "\n",
              "[29805 rows x 11 columns]"
            ]
          },
          "metadata": {
            "tags": []
          },
          "execution_count": 4
        }
      ]
    },
    {
      "cell_type": "markdown",
      "metadata": {
        "id": "FteCJ1rKQdFd"
      },
      "source": [
        "### YouTube"
      ],
      "id": "FteCJ1rKQdFd"
    },
    {
      "cell_type": "code",
      "metadata": {
        "id": "0fe69c7c-d368-4cba-b4d0-3512736ba59f"
      },
      "source": [
        "df_list = []\n",
        "for file in next(os.walk('/content/drive/Shareddrives/Data Reporting/historico_youtube'))[2]:\n",
        "    with open(\n",
        "        f'/content/drive/Shareddrives/Data Reporting/historico_youtube/{file}', 'r', \n",
        "        encoding='utf-8'\n",
        "        ) as f:  \n",
        "      data = json.loads(f.read())\n",
        "\n",
        "      no_ads_data = [row for row in data if 'subtitles' in row.keys()]\n",
        "\n",
        "      df = pd.json_normalize(no_ads_data, \n",
        "          record_path=['subtitles'], \n",
        "          meta=['header', 'title', 'titleUrl', 'time', 'products', 'details'],\n",
        "          errors='ignore',\n",
        "          record_prefix='subtitles.'\n",
        "      )\n",
        "\n",
        "      if 'patryck' in file:\n",
        "          df['user'] = 'Patryck'\n",
        "      elif 'vithor' in file:\n",
        "          df['user'] = 'Vithor'\n",
        "      elif 'juliana' in file:\n",
        "          df['user'] = 'Juliana'\n",
        "\n",
        "      df_list.append(df)\n",
        "      \n",
        "youtube = pd.concat(df_list)"
      ],
      "id": "0fe69c7c-d368-4cba-b4d0-3512736ba59f",
      "execution_count": null,
      "outputs": []
    },
    {
      "cell_type": "code",
      "metadata": {
        "id": "a37d95f7-784c-4b56-985f-9637b49ddc9a"
      },
      "source": [
        "youtube.user.unique()"
      ],
      "id": "a37d95f7-784c-4b56-985f-9637b49ddc9a",
      "execution_count": null,
      "outputs": []
    },
    {
      "cell_type": "code",
      "metadata": {
        "id": "cce8d99b-d807-4b12-ada8-7bb06ea88f8d"
      },
      "source": [
        "youtube.info()"
      ],
      "id": "cce8d99b-d807-4b12-ada8-7bb06ea88f8d",
      "execution_count": null,
      "outputs": []
    },
    {
      "cell_type": "code",
      "metadata": {
        "id": "iSCIlMb_Er0z"
      },
      "source": [
        ""
      ],
      "id": "iSCIlMb_Er0z",
      "execution_count": null,
      "outputs": []
    },
    {
      "cell_type": "code",
      "metadata": {
        "id": "X12mAlEmIIWG"
      },
      "source": [
        "youtube['time'] = pd.to_datetime(youtube['time'])"
      ],
      "id": "X12mAlEmIIWG",
      "execution_count": null,
      "outputs": []
    },
    {
      "cell_type": "code",
      "metadata": {
        "id": "veY0VM9lICWg"
      },
      "source": [
        "youtube['time'] = youtube['time'].dt.tz_convert(my_timezone)"
      ],
      "id": "veY0VM9lICWg",
      "execution_count": null,
      "outputs": []
    },
    {
      "cell_type": "code",
      "metadata": {
        "id": "BAcHbBbT6t1b"
      },
      "source": [
        "youtube[['user', 'chanel', 'chanelUrl', 'title', 'titleUrl', 'time']].to_csv('/content/drive/Shareddrives/Data Reporting/youtube_hist_linked.csv', index=False)"
      ],
      "id": "BAcHbBbT6t1b",
      "execution_count": null,
      "outputs": []
    },
    {
      "cell_type": "markdown",
      "metadata": {
        "id": "2XiIhOZ1yRdK"
      },
      "source": [
        "### Kindle "
      ],
      "id": "2XiIhOZ1yRdK"
    },
    {
      "cell_type": "code",
      "metadata": {
        "id": "fIAMXWwrxdsb"
      },
      "source": [
        "df_list = []\n",
        "for file in next(os.walk('/content/drive/Shareddrives/Data Reporting/kindle'))[2]:\n",
        "    temp_df = pd.read_csv(f'/content/drive/Shareddrives/Data Reporting/kindle/{file}')\n",
        "    \n",
        "    temp_df['plataform'] = 'kindle'\n",
        "\n",
        "    if 'vithor' in file:\n",
        "      temp_df['user'] = 'Vithor'\n",
        "    elif 'juliana' in file:\n",
        "      temp_df['user'] = 'Juliana'\n",
        "    elif 'patryck' in file:\n",
        "      temp_df['user'] = 'Patryck'\n",
        "\n",
        "    df_list.append(temp_df)\n",
        "\n",
        "kindle = pd.concat(df_list)"
      ],
      "id": "fIAMXWwrxdsb",
      "execution_count": null,
      "outputs": []
    },
    {
      "cell_type": "code",
      "metadata": {
        "colab": {
          "base_uri": "https://localhost:8080/"
        },
        "id": "he1n5msR4uJV",
        "outputId": "55448a1f-ed02-4d09-8b94-7c4cdfb05374"
      },
      "source": [
        "kindle.head()"
      ],
      "id": "he1n5msR4uJV",
      "execution_count": null,
      "outputs": [
        {
          "output_type": "execute_result",
          "data": {
            "text/html": [
              "<div>\n",
              "<style scoped>\n",
              "    .dataframe tbody tr th:only-of-type {\n",
              "        vertical-align: middle;\n",
              "    }\n",
              "\n",
              "    .dataframe tbody tr th {\n",
              "        vertical-align: top;\n",
              "    }\n",
              "\n",
              "    .dataframe thead th {\n",
              "        text-align: right;\n",
              "    }\n",
              "</style>\n",
              "<table border=\"1\" class=\"dataframe\">\n",
              "  <thead>\n",
              "    <tr style=\"text-align: right;\">\n",
              "      <th></th>\n",
              "      <th>startdate</th>\n",
              "      <th>enddate</th>\n",
              "      <th>ASIN</th>\n",
              "      <th>purchased_marketplace</th>\n",
              "      <th>preferred_marketplace</th>\n",
              "      <th>device_family</th>\n",
              "      <th>DSN</th>\n",
              "      <th>device_software_version</th>\n",
              "      <th>content_type</th>\n",
              "      <th>total_reading_millis</th>\n",
              "      <th>number_of_page_flips</th>\n",
              "      <th>plataform</th>\n",
              "      <th>user</th>\n",
              "    </tr>\n",
              "  </thead>\n",
              "  <tbody>\n",
              "    <tr>\n",
              "      <th>0</th>\n",
              "      <td>Not Available</td>\n",
              "      <td>2020-06-26T21:31:00Z</td>\n",
              "      <td>B07Y48CCRZ</td>\n",
              "      <td>NaN</td>\n",
              "      <td>Brazil</td>\n",
              "      <td>Kindle E-reader</td>\n",
              "      <td>G0910L049356003F</td>\n",
              "      <td>NaN</td>\n",
              "      <td>E-Book</td>\n",
              "      <td>NaN</td>\n",
              "      <td>NaN</td>\n",
              "      <td>kindle</td>\n",
              "      <td>Juliana</td>\n",
              "    </tr>\n",
              "    <tr>\n",
              "      <th>1</th>\n",
              "      <td>Not Available</td>\n",
              "      <td>2020-06-03T02:18:36Z</td>\n",
              "      <td>XK3MO2EJ5XYHRD6UNCPCE3ORTIYXUQ6N</td>\n",
              "      <td>NaN</td>\n",
              "      <td>Brazil</td>\n",
              "      <td>Kindle E-reader</td>\n",
              "      <td>G0910L049356003F</td>\n",
              "      <td>NaN</td>\n",
              "      <td>Personal Document</td>\n",
              "      <td>NaN</td>\n",
              "      <td>NaN</td>\n",
              "      <td>kindle</td>\n",
              "      <td>Juliana</td>\n",
              "    </tr>\n",
              "    <tr>\n",
              "      <th>2</th>\n",
              "      <td>Not Available</td>\n",
              "      <td>2020-06-04T22:20:28Z</td>\n",
              "      <td>B07Y48CCRZ</td>\n",
              "      <td>Brazil</td>\n",
              "      <td>Brazil</td>\n",
              "      <td>Kindle E-reader</td>\n",
              "      <td>G0910L049356003F</td>\n",
              "      <td>NaN</td>\n",
              "      <td>E-Book</td>\n",
              "      <td>NaN</td>\n",
              "      <td>NaN</td>\n",
              "      <td>kindle</td>\n",
              "      <td>Juliana</td>\n",
              "    </tr>\n",
              "    <tr>\n",
              "      <th>3</th>\n",
              "      <td>Not Available</td>\n",
              "      <td>2020-06-11T01:09:30Z</td>\n",
              "      <td>B07Y48CCRZ</td>\n",
              "      <td>Brazil</td>\n",
              "      <td>Brazil</td>\n",
              "      <td>Kindle E-reader</td>\n",
              "      <td>G0910L049356003F</td>\n",
              "      <td>NaN</td>\n",
              "      <td>E-Book</td>\n",
              "      <td>NaN</td>\n",
              "      <td>NaN</td>\n",
              "      <td>kindle</td>\n",
              "      <td>Juliana</td>\n",
              "    </tr>\n",
              "    <tr>\n",
              "      <th>4</th>\n",
              "      <td>Not Available</td>\n",
              "      <td>2020-03-26T20:28:11Z</td>\n",
              "      <td>B01GXN4MQ0</td>\n",
              "      <td>Brazil</td>\n",
              "      <td>Brazil</td>\n",
              "      <td>Kindle E-reader</td>\n",
              "      <td>G0910L049356003F</td>\n",
              "      <td>NaN</td>\n",
              "      <td>E-Book</td>\n",
              "      <td>NaN</td>\n",
              "      <td>NaN</td>\n",
              "      <td>kindle</td>\n",
              "      <td>Juliana</td>\n",
              "    </tr>\n",
              "  </tbody>\n",
              "</table>\n",
              "</div>"
            ],
            "text/plain": [
              "       startdate               enddate  ... plataform     user\n",
              "0  Not Available  2020-06-26T21:31:00Z  ...    kindle  Juliana\n",
              "1  Not Available  2020-06-03T02:18:36Z  ...    kindle  Juliana\n",
              "2  Not Available  2020-06-04T22:20:28Z  ...    kindle  Juliana\n",
              "3  Not Available  2020-06-11T01:09:30Z  ...    kindle  Juliana\n",
              "4  Not Available  2020-03-26T20:28:11Z  ...    kindle  Juliana\n",
              "\n",
              "[5 rows x 13 columns]"
            ]
          },
          "metadata": {
            "tags": []
          },
          "execution_count": 20
        }
      ]
    },
    {
      "cell_type": "code",
      "metadata": {
        "colab": {
          "base_uri": "https://localhost:8080/"
        },
        "id": "OstTQKuF4yPc",
        "outputId": "3527d5df-695d-4572-d8cf-8daea9288cf9"
      },
      "source": [
        "kindle.user.value_counts()"
      ],
      "id": "OstTQKuF4yPc",
      "execution_count": null,
      "outputs": [
        {
          "output_type": "execute_result",
          "data": {
            "text/plain": [
              "Patryck    271\n",
              "Juliana    261\n",
              "Vithor     182\n",
              "Name: user, dtype: int64"
            ]
          },
          "metadata": {
            "tags": []
          },
          "execution_count": 21
        }
      ]
    },
    {
      "cell_type": "code",
      "metadata": {
        "id": "_opjN7XP6PYD"
      },
      "source": [
        "kindle['enddate'] = pd.to_datetime(kindle['enddate'])"
      ],
      "id": "_opjN7XP6PYD",
      "execution_count": null,
      "outputs": []
    },
    {
      "cell_type": "code",
      "metadata": {
        "id": "mLh8IHKH5E48"
      },
      "source": [
        "kindle['time'] = kindle['enddate'].dt.tz_convert(my_timezone)"
      ],
      "id": "mLh8IHKH5E48",
      "execution_count": null,
      "outputs": []
    },
    {
      "cell_type": "code",
      "metadata": {
        "colab": {
          "base_uri": "https://localhost:8080/",
          "height": 934
        },
        "id": "R3-okyvQ7qLx",
        "outputId": "faf6c6fc-441b-4fad-cb8d-09aa31b3b401"
      },
      "source": [
        "kindle.drop(columns='enddate')"
      ],
      "id": "R3-okyvQ7qLx",
      "execution_count": null,
      "outputs": [
        {
          "output_type": "execute_result",
          "data": {
            "text/html": [
              "<div>\n",
              "<style scoped>\n",
              "    .dataframe tbody tr th:only-of-type {\n",
              "        vertical-align: middle;\n",
              "    }\n",
              "\n",
              "    .dataframe tbody tr th {\n",
              "        vertical-align: top;\n",
              "    }\n",
              "\n",
              "    .dataframe thead th {\n",
              "        text-align: right;\n",
              "    }\n",
              "</style>\n",
              "<table border=\"1\" class=\"dataframe\">\n",
              "  <thead>\n",
              "    <tr style=\"text-align: right;\">\n",
              "      <th></th>\n",
              "      <th>startdate</th>\n",
              "      <th>ASIN</th>\n",
              "      <th>purchased_marketplace</th>\n",
              "      <th>preferred_marketplace</th>\n",
              "      <th>device_family</th>\n",
              "      <th>DSN</th>\n",
              "      <th>device_software_version</th>\n",
              "      <th>content_type</th>\n",
              "      <th>total_reading_millis</th>\n",
              "      <th>number_of_page_flips</th>\n",
              "      <th>plataform</th>\n",
              "      <th>user</th>\n",
              "      <th>time</th>\n",
              "    </tr>\n",
              "  </thead>\n",
              "  <tbody>\n",
              "    <tr>\n",
              "      <th>0</th>\n",
              "      <td>Not Available</td>\n",
              "      <td>B07Y48CCRZ</td>\n",
              "      <td>NaN</td>\n",
              "      <td>Brazil</td>\n",
              "      <td>Kindle E-reader</td>\n",
              "      <td>G0910L049356003F</td>\n",
              "      <td>NaN</td>\n",
              "      <td>E-Book</td>\n",
              "      <td>NaN</td>\n",
              "      <td>NaN</td>\n",
              "      <td>kindle</td>\n",
              "      <td>Juliana</td>\n",
              "      <td>2020-06-26 18:31:00-03:00</td>\n",
              "    </tr>\n",
              "    <tr>\n",
              "      <th>1</th>\n",
              "      <td>Not Available</td>\n",
              "      <td>XK3MO2EJ5XYHRD6UNCPCE3ORTIYXUQ6N</td>\n",
              "      <td>NaN</td>\n",
              "      <td>Brazil</td>\n",
              "      <td>Kindle E-reader</td>\n",
              "      <td>G0910L049356003F</td>\n",
              "      <td>NaN</td>\n",
              "      <td>Personal Document</td>\n",
              "      <td>NaN</td>\n",
              "      <td>NaN</td>\n",
              "      <td>kindle</td>\n",
              "      <td>Juliana</td>\n",
              "      <td>2020-06-02 23:18:36-03:00</td>\n",
              "    </tr>\n",
              "    <tr>\n",
              "      <th>2</th>\n",
              "      <td>Not Available</td>\n",
              "      <td>B07Y48CCRZ</td>\n",
              "      <td>Brazil</td>\n",
              "      <td>Brazil</td>\n",
              "      <td>Kindle E-reader</td>\n",
              "      <td>G0910L049356003F</td>\n",
              "      <td>NaN</td>\n",
              "      <td>E-Book</td>\n",
              "      <td>NaN</td>\n",
              "      <td>NaN</td>\n",
              "      <td>kindle</td>\n",
              "      <td>Juliana</td>\n",
              "      <td>2020-06-04 19:20:28-03:00</td>\n",
              "    </tr>\n",
              "    <tr>\n",
              "      <th>3</th>\n",
              "      <td>Not Available</td>\n",
              "      <td>B07Y48CCRZ</td>\n",
              "      <td>Brazil</td>\n",
              "      <td>Brazil</td>\n",
              "      <td>Kindle E-reader</td>\n",
              "      <td>G0910L049356003F</td>\n",
              "      <td>NaN</td>\n",
              "      <td>E-Book</td>\n",
              "      <td>NaN</td>\n",
              "      <td>NaN</td>\n",
              "      <td>kindle</td>\n",
              "      <td>Juliana</td>\n",
              "      <td>2020-06-10 22:09:30-03:00</td>\n",
              "    </tr>\n",
              "    <tr>\n",
              "      <th>4</th>\n",
              "      <td>Not Available</td>\n",
              "      <td>B01GXN4MQ0</td>\n",
              "      <td>Brazil</td>\n",
              "      <td>Brazil</td>\n",
              "      <td>Kindle E-reader</td>\n",
              "      <td>G0910L049356003F</td>\n",
              "      <td>NaN</td>\n",
              "      <td>E-Book</td>\n",
              "      <td>NaN</td>\n",
              "      <td>NaN</td>\n",
              "      <td>kindle</td>\n",
              "      <td>Juliana</td>\n",
              "      <td>2020-03-26 17:28:11-03:00</td>\n",
              "    </tr>\n",
              "    <tr>\n",
              "      <th>...</th>\n",
              "      <td>...</td>\n",
              "      <td>...</td>\n",
              "      <td>...</td>\n",
              "      <td>...</td>\n",
              "      <td>...</td>\n",
              "      <td>...</td>\n",
              "      <td>...</td>\n",
              "      <td>...</td>\n",
              "      <td>...</td>\n",
              "      <td>...</td>\n",
              "      <td>...</td>\n",
              "      <td>...</td>\n",
              "      <td>...</td>\n",
              "    </tr>\n",
              "    <tr>\n",
              "      <th>266</th>\n",
              "      <td>Not Available</td>\n",
              "      <td>VCP6WMC3NDOEBKROVZMII6ZBRAGFPEXH</td>\n",
              "      <td>NaN</td>\n",
              "      <td>Brazil</td>\n",
              "      <td>Kindle E-reader</td>\n",
              "      <td>G090WF05009302PK</td>\n",
              "      <td>NaN</td>\n",
              "      <td>Personal Document</td>\n",
              "      <td>NaN</td>\n",
              "      <td>NaN</td>\n",
              "      <td>kindle</td>\n",
              "      <td>Patryck</td>\n",
              "      <td>2020-12-28 06:16:43-02:00</td>\n",
              "    </tr>\n",
              "    <tr>\n",
              "      <th>267</th>\n",
              "      <td>Not Available</td>\n",
              "      <td>VCP6WMC3NDOEBKROVZMII6ZBRAGFPEXH</td>\n",
              "      <td>NaN</td>\n",
              "      <td>Brazil</td>\n",
              "      <td>Kindle E-reader</td>\n",
              "      <td>G090WF05009302PK</td>\n",
              "      <td>NaN</td>\n",
              "      <td>Personal Document</td>\n",
              "      <td>NaN</td>\n",
              "      <td>NaN</td>\n",
              "      <td>kindle</td>\n",
              "      <td>Patryck</td>\n",
              "      <td>2020-12-28 07:30:36-02:00</td>\n",
              "    </tr>\n",
              "    <tr>\n",
              "      <th>268</th>\n",
              "      <td>Not Available</td>\n",
              "      <td>NQAAWCK2IF3B7BRQRGDSZW2V2NF5OYBC</td>\n",
              "      <td>NaN</td>\n",
              "      <td>Brazil</td>\n",
              "      <td>Kindle E-reader</td>\n",
              "      <td>G090WF05009302PK</td>\n",
              "      <td>NaN</td>\n",
              "      <td>Personal Document</td>\n",
              "      <td>NaN</td>\n",
              "      <td>NaN</td>\n",
              "      <td>kindle</td>\n",
              "      <td>Patryck</td>\n",
              "      <td>2021-06-06 05:24:11-03:00</td>\n",
              "    </tr>\n",
              "    <tr>\n",
              "      <th>269</th>\n",
              "      <td>Not Available</td>\n",
              "      <td>NQAAWCK2IF3B7BRQRGDSZW2V2NF5OYBC</td>\n",
              "      <td>NaN</td>\n",
              "      <td>Brazil</td>\n",
              "      <td>NaN</td>\n",
              "      <td>662007b8a291476b9b45c2f8805bc903</td>\n",
              "      <td>NaN</td>\n",
              "      <td>Personal Document</td>\n",
              "      <td>NaN</td>\n",
              "      <td>NaN</td>\n",
              "      <td>kindle</td>\n",
              "      <td>Patryck</td>\n",
              "      <td>2021-05-01 01:19:01-03:00</td>\n",
              "    </tr>\n",
              "    <tr>\n",
              "      <th>270</th>\n",
              "      <td>Not Available</td>\n",
              "      <td>LZN56AACDI7AU523HP4B2DT2EKROFHSL</td>\n",
              "      <td>NaN</td>\n",
              "      <td>Brazil</td>\n",
              "      <td>Kindle E-reader</td>\n",
              "      <td>G090WF05009302PK</td>\n",
              "      <td>NaN</td>\n",
              "      <td>Personal Document</td>\n",
              "      <td>NaN</td>\n",
              "      <td>NaN</td>\n",
              "      <td>kindle</td>\n",
              "      <td>Patryck</td>\n",
              "      <td>2020-08-16 13:59:48-03:00</td>\n",
              "    </tr>\n",
              "  </tbody>\n",
              "</table>\n",
              "<p>714 rows × 13 columns</p>\n",
              "</div>"
            ],
            "text/plain": [
              "         startdate  ...                      time\n",
              "0    Not Available  ... 2020-06-26 18:31:00-03:00\n",
              "1    Not Available  ... 2020-06-02 23:18:36-03:00\n",
              "2    Not Available  ... 2020-06-04 19:20:28-03:00\n",
              "3    Not Available  ... 2020-06-10 22:09:30-03:00\n",
              "4    Not Available  ... 2020-03-26 17:28:11-03:00\n",
              "..             ...  ...                       ...\n",
              "266  Not Available  ... 2020-12-28 06:16:43-02:00\n",
              "267  Not Available  ... 2020-12-28 07:30:36-02:00\n",
              "268  Not Available  ... 2021-06-06 05:24:11-03:00\n",
              "269  Not Available  ... 2021-05-01 01:19:01-03:00\n",
              "270  Not Available  ... 2020-08-16 13:59:48-03:00\n",
              "\n",
              "[714 rows x 13 columns]"
            ]
          },
          "metadata": {
            "tags": []
          },
          "execution_count": 79
        }
      ]
    },
    {
      "cell_type": "code",
      "metadata": {
        "id": "tPRIgw8-76uC"
      },
      "source": [
        "kindle.to_csv('/content/drive/Shareddrives/Data Reporting/kindle_linked.csv', index=False)"
      ],
      "id": "tPRIgw8-76uC",
      "execution_count": null,
      "outputs": []
    },
    {
      "cell_type": "markdown",
      "metadata": {
        "id": "q2NN3M14IGu_"
      },
      "source": [
        "### Browser"
      ],
      "id": "q2NN3M14IGu_"
    },
    {
      "cell_type": "code",
      "metadata": {
        "id": "GR23SvNlJsgN"
      },
      "source": [
        "from datetime import timezone, datetime"
      ],
      "id": "GR23SvNlJsgN",
      "execution_count": null,
      "outputs": []
    },
    {
      "cell_type": "code",
      "metadata": {
        "id": "AORcvvlPVHSt"
      },
      "source": [
        "browser = pd.read_json('/content/drive/Shareddrives/Data Reporting/historico_chrome /google_hist_vithor.json')\n",
        "browser['user'] = 'Vithor'"
      ],
      "id": "AORcvvlPVHSt",
      "execution_count": null,
      "outputs": []
    },
    {
      "cell_type": "code",
      "metadata": {
        "id": "FZxO_MDaIVzJ"
      },
      "source": [
        "for file in next(os.walk('/content/drive/Shareddrives/Data Reporting/historico_chrome '))[2][1:]:\n",
        "    with open(\n",
        "        f'/content/drive/Shareddrives/Data Reporting/historico_chrome /{file}', 'r', \n",
        "        encoding='utf-8'\n",
        "        ) as f:  \n",
        "      data = json.loads(f.read())\n",
        "\n",
        "      temp_df = pd.json_normalize(data, record_path=['Browser History'])\n",
        "      if 'patryck' in file:\n",
        "          temp_df['user'] = 'Patryck'\n",
        "      elif 'juliana' in file:\n",
        "          temp_df['user'] = 'Juliana'\n",
        "\n",
        "      browser = pd.concat([browser, temp_df])"
      ],
      "id": "FZxO_MDaIVzJ",
      "execution_count": null,
      "outputs": []
    },
    {
      "cell_type": "code",
      "metadata": {
        "colab": {
          "base_uri": "https://localhost:8080/"
        },
        "id": "26-cJdL3MGlv",
        "outputId": "8846544e-f90e-4614-dcce-79bf79dbbc11"
      },
      "source": [
        "browser.shape"
      ],
      "id": "26-cJdL3MGlv",
      "execution_count": null,
      "outputs": [
        {
          "output_type": "execute_result",
          "data": {
            "text/plain": [
              "(125786, 7)"
            ]
          },
          "metadata": {
            "tags": []
          },
          "execution_count": 54
        }
      ]
    },
    {
      "cell_type": "code",
      "metadata": {
        "colab": {
          "base_uri": "https://localhost:8080/"
        },
        "id": "y1vjQ0e3PvBT",
        "outputId": "6adfb155-8e44-4664-d296-7ff463f8d5d2"
      },
      "source": [
        "browser['user'].unique()"
      ],
      "id": "y1vjQ0e3PvBT",
      "execution_count": null,
      "outputs": [
        {
          "output_type": "execute_result",
          "data": {
            "text/plain": [
              "array(['Vithor', 'Patryck', 'Juliana'], dtype=object)"
            ]
          },
          "metadata": {
            "tags": []
          },
          "execution_count": 55
        }
      ]
    },
    {
      "cell_type": "code",
      "metadata": {
        "id": "z0GheQXQOcoK"
      },
      "source": [
        "browser['time'] = pd.to_datetime(browser['time_usec'], unit='us')"
      ],
      "id": "z0GheQXQOcoK",
      "execution_count": null,
      "outputs": []
    },
    {
      "cell_type": "code",
      "metadata": {
        "id": "MA2zI5tjzJk8"
      },
      "source": [
        "pd.to_timedelta?"
      ],
      "id": "MA2zI5tjzJk8",
      "execution_count": null,
      "outputs": []
    },
    {
      "cell_type": "code",
      "metadata": {
        "colab": {
          "base_uri": "https://localhost:8080/"
        },
        "id": "4f3pN8dCPQaT",
        "outputId": "74bb33a4-b44f-4697-d92b-aa9065a3f3d8"
      },
      "source": [
        "browser.time.dt.year.unique()"
      ],
      "id": "4f3pN8dCPQaT",
      "execution_count": null,
      "outputs": [
        {
          "output_type": "execute_result",
          "data": {
            "text/plain": [
              "array([2021, 2020])"
            ]
          },
          "metadata": {
            "tags": []
          },
          "execution_count": 58
        }
      ]
    },
    {
      "cell_type": "code",
      "metadata": {
        "id": "rPTJmv1_JlKd"
      },
      "source": [
        "browser['time'] = browser['time'].dt.tz_localize(timezone.utc)"
      ],
      "id": "rPTJmv1_JlKd",
      "execution_count": null,
      "outputs": []
    },
    {
      "cell_type": "code",
      "metadata": {
        "id": "Xq83GCLOJZU_"
      },
      "source": [
        "browser['time'] = browser['time'].dt.tz_convert(my_timezone)"
      ],
      "id": "Xq83GCLOJZU_",
      "execution_count": null,
      "outputs": []
    },
    {
      "cell_type": "code",
      "metadata": {
        "id": "YF3WXzv4QJgd"
      },
      "source": [
        "browser[['user', 'page_transition', 'title', 'url', 'time']].to_csv('/content/drive/Shareddrives/Data Reporting/browser_hist_linked.csv', index=False)"
      ],
      "id": "YF3WXzv4QJgd",
      "execution_count": null,
      "outputs": []
    },
    {
      "cell_type": "markdown",
      "metadata": {
        "id": "l2O0MvC-J4Ed"
      },
      "source": [
        "### Spotify"
      ],
      "id": "l2O0MvC-J4Ed"
    },
    {
      "cell_type": "code",
      "metadata": {
        "id": "kEY7SLaQJ7v2"
      },
      "source": [
        "df_list = []\n",
        "for file in next(os.walk('/content/drive/Shareddrives/Data Reporting/spotify'))[2]:\n",
        "    \n",
        "    temp_df = pd.read_json(f'/content/drive/Shareddrives/Data Reporting/spotify/{file}')\n",
        "\n",
        "    if 'Patryck' in file:\n",
        "        temp_df['user'] = 'Patryck'\n",
        "    elif 'Vithor' in file:\n",
        "        temp_df['user'] = 'Vithor'\n",
        "\n",
        "    df_list.append(temp_df)\n",
        "\n",
        "spotify = pd.concat(df_list)"
      ],
      "id": "kEY7SLaQJ7v2",
      "execution_count": null,
      "outputs": []
    },
    {
      "cell_type": "code",
      "metadata": {
        "colab": {
          "base_uri": "https://localhost:8080/"
        },
        "id": "rSndzrC6J7s1",
        "outputId": "38d5cc89-c889-4cd4-8640-1adf43acc00f"
      },
      "source": [
        "spotify.info()"
      ],
      "id": "rSndzrC6J7s1",
      "execution_count": null,
      "outputs": [
        {
          "output_type": "stream",
          "text": [
            "<class 'pandas.core.frame.DataFrame'>\n",
            "Int64Index: 12649 entries, 0 to 9999\n",
            "Data columns (total 5 columns):\n",
            " #   Column      Non-Null Count  Dtype \n",
            "---  ------      --------------  ----- \n",
            " 0   endTime     12649 non-null  object\n",
            " 1   artistName  12649 non-null  object\n",
            " 2   trackName   12649 non-null  object\n",
            " 3   msPlayed    12649 non-null  int64 \n",
            " 4   user        12649 non-null  object\n",
            "dtypes: int64(1), object(4)\n",
            "memory usage: 592.9+ KB\n"
          ],
          "name": "stdout"
        }
      ]
    },
    {
      "cell_type": "code",
      "metadata": {
        "colab": {
          "base_uri": "https://localhost:8080/"
        },
        "id": "h2VeYhnPJ7qF",
        "outputId": "9386835f-1486-45d9-ae8f-390e1bbef7b7"
      },
      "source": [
        "spotify.user.value_counts()"
      ],
      "id": "h2VeYhnPJ7qF",
      "execution_count": null,
      "outputs": [
        {
          "output_type": "execute_result",
          "data": {
            "text/plain": [
              "Patryck    10769\n",
              "Vithor      1880\n",
              "Name: user, dtype: int64"
            ]
          },
          "metadata": {
            "tags": []
          },
          "execution_count": 64
        }
      ]
    },
    {
      "cell_type": "code",
      "metadata": {
        "colab": {
          "base_uri": "https://localhost:8080/"
        },
        "id": "ouyBNYjxLrKH",
        "outputId": "c1131871-dd5d-4952-82a7-e18eb1934aaa"
      },
      "source": [
        "spotify.head()"
      ],
      "id": "ouyBNYjxLrKH",
      "execution_count": null,
      "outputs": [
        {
          "output_type": "execute_result",
          "data": {
            "text/html": [
              "<div>\n",
              "<style scoped>\n",
              "    .dataframe tbody tr th:only-of-type {\n",
              "        vertical-align: middle;\n",
              "    }\n",
              "\n",
              "    .dataframe tbody tr th {\n",
              "        vertical-align: top;\n",
              "    }\n",
              "\n",
              "    .dataframe thead th {\n",
              "        text-align: right;\n",
              "    }\n",
              "</style>\n",
              "<table border=\"1\" class=\"dataframe\">\n",
              "  <thead>\n",
              "    <tr style=\"text-align: right;\">\n",
              "      <th></th>\n",
              "      <th>endTime</th>\n",
              "      <th>artistName</th>\n",
              "      <th>trackName</th>\n",
              "      <th>msPlayed</th>\n",
              "      <th>user</th>\n",
              "    </tr>\n",
              "  </thead>\n",
              "  <tbody>\n",
              "    <tr>\n",
              "      <th>0</th>\n",
              "      <td>2020-07-14 02:52</td>\n",
              "      <td>My Name Is</td>\n",
              "      <td>O que é o poço ?</td>\n",
              "      <td>0</td>\n",
              "      <td>Vithor</td>\n",
              "    </tr>\n",
              "    <tr>\n",
              "      <th>1</th>\n",
              "      <td>2020-07-14 02:52</td>\n",
              "      <td>My Name Is</td>\n",
              "      <td>Old tow road</td>\n",
              "      <td>47560</td>\n",
              "      <td>Vithor</td>\n",
              "    </tr>\n",
              "    <tr>\n",
              "      <th>2</th>\n",
              "      <td>2020-07-14 02:53</td>\n",
              "      <td>Tenacious D</td>\n",
              "      <td>Classico</td>\n",
              "      <td>30707</td>\n",
              "      <td>Vithor</td>\n",
              "    </tr>\n",
              "    <tr>\n",
              "      <th>3</th>\n",
              "      <td>2020-07-14 02:53</td>\n",
              "      <td>My Name Is</td>\n",
              "      <td>O verdadeiro final de a caverna do dragão</td>\n",
              "      <td>2200</td>\n",
              "      <td>Vithor</td>\n",
              "    </tr>\n",
              "    <tr>\n",
              "      <th>4</th>\n",
              "      <td>2020-07-14 02:56</td>\n",
              "      <td>Eville at the Road</td>\n",
              "      <td>Future Days- Joel Cover</td>\n",
              "      <td>47952</td>\n",
              "      <td>Vithor</td>\n",
              "    </tr>\n",
              "  </tbody>\n",
              "</table>\n",
              "</div>"
            ],
            "text/plain": [
              "            endTime          artistName  ... msPlayed    user\n",
              "0  2020-07-14 02:52          My Name Is  ...        0  Vithor\n",
              "1  2020-07-14 02:52          My Name Is  ...    47560  Vithor\n",
              "2  2020-07-14 02:53         Tenacious D  ...    30707  Vithor\n",
              "3  2020-07-14 02:53          My Name Is  ...     2200  Vithor\n",
              "4  2020-07-14 02:56  Eville at the Road  ...    47952  Vithor\n",
              "\n",
              "[5 rows x 5 columns]"
            ]
          },
          "metadata": {
            "tags": []
          },
          "execution_count": 65
        }
      ]
    },
    {
      "cell_type": "code",
      "metadata": {
        "id": "8x5H_wo2Lufl"
      },
      "source": [
        "spotify['time'] = pd.to_datetime(spotify['endTime'])"
      ],
      "id": "8x5H_wo2Lufl",
      "execution_count": null,
      "outputs": []
    },
    {
      "cell_type": "code",
      "metadata": {
        "id": "PeRYI282MIkG"
      },
      "source": [
        "spotify['time'] = spotify['time'].dt.tz_localize(timezone.utc)"
      ],
      "id": "PeRYI282MIkG",
      "execution_count": null,
      "outputs": []
    },
    {
      "cell_type": "code",
      "metadata": {
        "id": "v54UytQPMIkG"
      },
      "source": [
        "spotify['time'] = spotify['time'].dt.tz_convert(my_timezone)"
      ],
      "id": "v54UytQPMIkG",
      "execution_count": null,
      "outputs": []
    },
    {
      "cell_type": "code",
      "metadata": {
        "id": "NmQ16XdFMPKr"
      },
      "source": [
        "spotify.to_csv('/content/drive/Shareddrives/Data Reporting/spotify_linked.csv', index=False)"
      ],
      "id": "NmQ16XdFMPKr",
      "execution_count": null,
      "outputs": []
    },
    {
      "cell_type": "markdown",
      "metadata": {
        "id": "BgDSno8iPF_I"
      },
      "source": [
        "## API Youtube - Categories"
      ],
      "id": "BgDSno8iPF_I"
    },
    {
      "cell_type": "code",
      "metadata": {
        "id": "P5GJ6Aa7PJob"
      },
      "source": [
        "from googleapiclient.discovery import build"
      ],
      "id": "P5GJ6Aa7PJob",
      "execution_count": null,
      "outputs": []
    },
    {
      "cell_type": "code",
      "metadata": {
        "id": "JIB9TXdOPj4o"
      },
      "source": [
        "yt.titleUrl.fillna(value='', inplace=True)\n",
        "yt = yt[yt.titleUrl != '']"
      ],
      "id": "JIB9TXdOPj4o",
      "execution_count": null,
      "outputs": []
    },
    {
      "cell_type": "code",
      "metadata": {
        "id": "wRmYzpVBP2_8"
      },
      "source": [
        "# Carregando csv categorias\n",
        "categories = pd.read_csv('https://gist.githubusercontent.com/Vithork/7e9d0fe79796e4cfd27411d5e92df601/raw/c943eafd695f123bc0e5fc5167846e2fa4265fbc/csv')\n",
        "categories = categories.set_index('name').number.to_dict()\n",
        "categories = dict((str(y),x) for x,y in categories.items())"
      ],
      "id": "wRmYzpVBP2_8",
      "execution_count": null,
      "outputs": []
    },
    {
      "cell_type": "code",
      "metadata": {
        "id": "dkJuCGLWQA0q"
      },
      "source": [
        "# Documentar depois\n",
        "def main(api_key, df):\n",
        "  def puxa_categoria():\n",
        "    lista = puxa_json()\n",
        "    lista_categorias = []\n",
        "    for i in range(len(lista)):\n",
        "      try:\n",
        "        lista_categorias.append(lista[i]['items'][0]['snippet']['categoryId'])\n",
        "      except:\n",
        "        lista_categorias.append('00')\n",
        "    return [categories.get(n, n) for n in lista_categorias]\n",
        "  \n",
        "  def puxa_json():\n",
        "    youtube = build('youtube', 'v3', developerKey=api_key)\n",
        "    part_string = 'snippet'\n",
        "    lista = []\n",
        "    video_ids = 0 \n",
        "    for index, row in df.iterrows():\n",
        "      video_ids = (row['titleUrl'][-11:])\n",
        "      requests = youtube.videos().list(\n",
        "        \tpart=part_string,\n",
        "        \tid=video_ids\n",
        "        ).execute()\n",
        "      lista.append(requests)\n",
        "    return lista\n",
        "  return puxa_categoria()"
      ],
      "id": "dkJuCGLWQA0q",
      "execution_count": null,
      "outputs": []
    },
    {
      "cell_type": "code",
      "metadata": {
        "id": "Gd-6n-6NQH1r"
      },
      "source": [
        "#categoria_valores = main('API-KEY',yt)\n",
        "#df['categories'] = categoria_valores"
      ],
      "id": "Gd-6n-6NQH1r",
      "execution_count": null,
      "outputs": []
    },
    {
      "cell_type": "markdown",
      "metadata": {
        "id": "7wlK48uPxf-C"
      },
      "source": [
        "## Platforms usage time linking"
      ],
      "id": "7wlK48uPxf-C"
    },
    {
      "cell_type": "code",
      "metadata": {
        "id": "NGtpoRpwNUXr"
      },
      "source": [
        "youtube['plataform'] = 'youtube'\n",
        "kindle['plataform'] = 'kindle'\n",
        "browser['plataform'] = 'browser'\n",
        "spotify['plataform'] = 'spotify'"
      ],
      "id": "NGtpoRpwNUXr",
      "execution_count": null,
      "outputs": []
    },
    {
      "cell_type": "code",
      "metadata": {
        "id": "ISNcnoSANqrb"
      },
      "source": [
        "plataforms_time_behav = pd.concat([\n",
        "      youtube[['time', 'plataform', 'user']],\n",
        "      kindle[['time', 'plataform', 'user']],\n",
        "      browser[['time', 'plataform', 'user']],\n",
        "      spotify[['time', 'plataform', 'user']]\n",
        "])"
      ],
      "id": "ISNcnoSANqrb",
      "execution_count": null,
      "outputs": []
    },
    {
      "cell_type": "code",
      "metadata": {
        "colab": {
          "base_uri": "https://localhost:8080/",
          "height": 202
        },
        "id": "W1HFKVu7OG_K",
        "outputId": "c3d4a6d1-7df9-4714-a6e3-5013cf562d08"
      },
      "source": [
        "plataforms_time_behav.head()"
      ],
      "id": "W1HFKVu7OG_K",
      "execution_count": null,
      "outputs": [
        {
          "output_type": "execute_result",
          "data": {
            "text/html": [
              "<div>\n",
              "<style scoped>\n",
              "    .dataframe tbody tr th:only-of-type {\n",
              "        vertical-align: middle;\n",
              "    }\n",
              "\n",
              "    .dataframe tbody tr th {\n",
              "        vertical-align: top;\n",
              "    }\n",
              "\n",
              "    .dataframe thead th {\n",
              "        text-align: right;\n",
              "    }\n",
              "</style>\n",
              "<table border=\"1\" class=\"dataframe\">\n",
              "  <thead>\n",
              "    <tr style=\"text-align: right;\">\n",
              "      <th></th>\n",
              "      <th>time</th>\n",
              "      <th>plataform</th>\n",
              "      <th>user</th>\n",
              "    </tr>\n",
              "  </thead>\n",
              "  <tbody>\n",
              "    <tr>\n",
              "      <th>0</th>\n",
              "      <td>2021-07-17 11:53:58.854000-03:00</td>\n",
              "      <td>youtube</td>\n",
              "      <td>Patryck</td>\n",
              "    </tr>\n",
              "    <tr>\n",
              "      <th>1</th>\n",
              "      <td>2021-07-17 11:40:19.659000-03:00</td>\n",
              "      <td>youtube</td>\n",
              "      <td>Patryck</td>\n",
              "    </tr>\n",
              "    <tr>\n",
              "      <th>2</th>\n",
              "      <td>2021-07-17 02:39:08.866000-03:00</td>\n",
              "      <td>youtube</td>\n",
              "      <td>Patryck</td>\n",
              "    </tr>\n",
              "    <tr>\n",
              "      <th>3</th>\n",
              "      <td>2021-07-17 00:30:42.648000-03:00</td>\n",
              "      <td>youtube</td>\n",
              "      <td>Patryck</td>\n",
              "    </tr>\n",
              "    <tr>\n",
              "      <th>4</th>\n",
              "      <td>2021-07-16 23:56:11.099000-03:00</td>\n",
              "      <td>youtube</td>\n",
              "      <td>Patryck</td>\n",
              "    </tr>\n",
              "  </tbody>\n",
              "</table>\n",
              "</div>"
            ],
            "text/plain": [
              "                              time plataform     user\n",
              "0 2021-07-17 11:53:58.854000-03:00   youtube  Patryck\n",
              "1 2021-07-17 11:40:19.659000-03:00   youtube  Patryck\n",
              "2 2021-07-17 02:39:08.866000-03:00   youtube  Patryck\n",
              "3 2021-07-17 00:30:42.648000-03:00   youtube  Patryck\n",
              "4 2021-07-16 23:56:11.099000-03:00   youtube  Patryck"
            ]
          },
          "metadata": {
            "tags": []
          },
          "execution_count": 51
        }
      ]
    },
    {
      "cell_type": "code",
      "metadata": {
        "id": "F0vct6A3Qruf"
      },
      "source": [
        ""
      ],
      "id": "F0vct6A3Qruf",
      "execution_count": null,
      "outputs": []
    },
    {
      "cell_type": "code",
      "metadata": {
        "colab": {
          "base_uri": "https://localhost:8080/"
        },
        "id": "NlNZIzmfOLux",
        "outputId": "2b7a946b-2e50-4329-b3ca-5d963a210912"
      },
      "source": [
        "plataforms_time_behav.shape"
      ],
      "id": "NlNZIzmfOLux",
      "execution_count": null,
      "outputs": [
        {
          "output_type": "execute_result",
          "data": {
            "text/plain": [
              "(185249, 3)"
            ]
          },
          "metadata": {
            "tags": []
          },
          "execution_count": 82
        }
      ]
    },
    {
      "cell_type": "code",
      "metadata": {
        "id": "WCdNi3g0OPVx"
      },
      "source": [
        "plataforms_time_behav.to_csv('/content/drive/Shareddrives/Data Reporting/plataforms_time_behavior_linked.csv', index=False)"
      ],
      "id": "WCdNi3g0OPVx",
      "execution_count": null,
      "outputs": []
    },
    {
      "cell_type": "code",
      "metadata": {
        "id": "MLYq4pDyOsPR"
      },
      "source": [
        "pth = plataforms_time_behav"
      ],
      "id": "MLYq4pDyOsPR",
      "execution_count": null,
      "outputs": []
    },
    {
      "cell_type": "code",
      "metadata": {
        "id": "M1iFRLTgj5i6",
        "colab": {
          "base_uri": "https://localhost:8080/",
          "height": 162
        },
        "outputId": "c35c62e8-aef3-48dd-9107-6b3934add91f"
      },
      "source": [
        "pth['time_interval'] = pth['time'].dt.hour.apply(time_interval_day)"
      ],
      "id": "M1iFRLTgj5i6",
      "execution_count": null,
      "outputs": [
        {
          "output_type": "error",
          "ename": "NameError",
          "evalue": "ignored",
          "traceback": [
            "\u001b[0;31m---------------------------------------------------------------------------\u001b[0m",
            "\u001b[0;31mNameError\u001b[0m                                 Traceback (most recent call last)",
            "\u001b[0;32m<ipython-input-84-21a8ee9834f9>\u001b[0m in \u001b[0;36m<module>\u001b[0;34m()\u001b[0m\n\u001b[0;32m----> 1\u001b[0;31m \u001b[0mpth\u001b[0m\u001b[0;34m[\u001b[0m\u001b[0;34m'time_interval'\u001b[0m\u001b[0;34m]\u001b[0m \u001b[0;34m=\u001b[0m \u001b[0mpth\u001b[0m\u001b[0;34m[\u001b[0m\u001b[0;34m'time'\u001b[0m\u001b[0;34m]\u001b[0m\u001b[0;34m.\u001b[0m\u001b[0mdt\u001b[0m\u001b[0;34m.\u001b[0m\u001b[0mhour\u001b[0m\u001b[0;34m.\u001b[0m\u001b[0mapply\u001b[0m\u001b[0;34m(\u001b[0m\u001b[0mtime_interval_day\u001b[0m\u001b[0;34m)\u001b[0m\u001b[0;34m\u001b[0m\u001b[0;34m\u001b[0m\u001b[0m\n\u001b[0m",
            "\u001b[0;31mNameError\u001b[0m: name 'time_interval_day' is not defined"
          ]
        }
      ]
    },
    {
      "cell_type": "code",
      "metadata": {
        "id": "Ygfse9k6OyWj"
      },
      "source": [
        "pth_grouped_size = (\n",
        "    pth.groupby(['user', 'plataform', 'time_interval'])\n",
        "    .size()\n",
        "    .groupby(level=[0, 1])\n",
        "    .apply(lambda x: (x / x.sum()) * 100)\n",
        "    .reset_index()\n",
        "\n",
        ")\n",
        "pth_grouped_size.columns = ['user', 'plataform', 'time_interval', 'percentage']"
      ],
      "id": "Ygfse9k6OyWj",
      "execution_count": null,
      "outputs": []
    },
    {
      "cell_type": "code",
      "metadata": {
        "id": "NIOz6uNOe-Ok"
      },
      "source": [
        "pth_grouped_size.head(6)"
      ],
      "id": "NIOz6uNOe-Ok",
      "execution_count": null,
      "outputs": []
    },
    {
      "cell_type": "code",
      "metadata": {
        "id": "HJ5CC5dBPUEp"
      },
      "source": [
        "pth_grouped_size[pth_grouped_size['user'] == 'Vithor'].plot(kind='bar', x='time_interval', y='percentage', color='plataform', barmode='group')"
      ],
      "id": "HJ5CC5dBPUEp",
      "execution_count": null,
      "outputs": []
    },
    {
      "cell_type": "code",
      "metadata": {
        "id": "UZtPiWmqyFQN"
      },
      "source": [
        "brwr = pd.read_csv('/content/drive/Shareddrives/Data Reporting/plataforms_time_behavior_linked.csv')"
      ],
      "id": "UZtPiWmqyFQN",
      "execution_count": null,
      "outputs": []
    },
    {
      "cell_type": "code",
      "metadata": {
        "colab": {
          "base_uri": "https://localhost:8080/",
          "height": 205
        },
        "id": "m9JVYy9lzEZ4",
        "outputId": "e87d5f2e-886a-41ac-83a4-8509518f5b4d"
      },
      "source": [
        "brwr.head()"
      ],
      "id": "m9JVYy9lzEZ4",
      "execution_count": null,
      "outputs": [
        {
          "output_type": "execute_result",
          "data": {
            "text/html": [
              "<div>\n",
              "<style scoped>\n",
              "    .dataframe tbody tr th:only-of-type {\n",
              "        vertical-align: middle;\n",
              "    }\n",
              "\n",
              "    .dataframe tbody tr th {\n",
              "        vertical-align: top;\n",
              "    }\n",
              "\n",
              "    .dataframe thead th {\n",
              "        text-align: right;\n",
              "    }\n",
              "</style>\n",
              "<table border=\"1\" class=\"dataframe\">\n",
              "  <thead>\n",
              "    <tr style=\"text-align: right;\">\n",
              "      <th></th>\n",
              "      <th>time</th>\n",
              "      <th>plataform</th>\n",
              "      <th>user</th>\n",
              "      <th>period_day</th>\n",
              "    </tr>\n",
              "  </thead>\n",
              "  <tbody>\n",
              "    <tr>\n",
              "      <th>0</th>\n",
              "      <td>2021-07-17 11:53:58.854000-03:00</td>\n",
              "      <td>youtube</td>\n",
              "      <td>Patryck</td>\n",
              "      <td>Manhã</td>\n",
              "    </tr>\n",
              "    <tr>\n",
              "      <th>1</th>\n",
              "      <td>2021-07-17 11:40:19.659000-03:00</td>\n",
              "      <td>youtube</td>\n",
              "      <td>Patryck</td>\n",
              "      <td>Manhã</td>\n",
              "    </tr>\n",
              "    <tr>\n",
              "      <th>2</th>\n",
              "      <td>2021-07-17 02:39:08.866000-03:00</td>\n",
              "      <td>youtube</td>\n",
              "      <td>Patryck</td>\n",
              "      <td>Madrugada</td>\n",
              "    </tr>\n",
              "    <tr>\n",
              "      <th>3</th>\n",
              "      <td>2021-07-17 00:30:42.648000-03:00</td>\n",
              "      <td>youtube</td>\n",
              "      <td>Patryck</td>\n",
              "      <td>Madrugada</td>\n",
              "    </tr>\n",
              "    <tr>\n",
              "      <th>4</th>\n",
              "      <td>2021-07-16 23:56:11.099000-03:00</td>\n",
              "      <td>youtube</td>\n",
              "      <td>Patryck</td>\n",
              "      <td>Noite</td>\n",
              "    </tr>\n",
              "  </tbody>\n",
              "</table>\n",
              "</div>"
            ],
            "text/plain": [
              "                              time plataform     user period_day\n",
              "0 2021-07-17 11:53:58.854000-03:00   youtube  Patryck      Manhã\n",
              "1 2021-07-17 11:40:19.659000-03:00   youtube  Patryck      Manhã\n",
              "2 2021-07-17 02:39:08.866000-03:00   youtube  Patryck  Madrugada\n",
              "3 2021-07-17 00:30:42.648000-03:00   youtube  Patryck  Madrugada\n",
              "4 2021-07-16 23:56:11.099000-03:00   youtube  Patryck      Noite"
            ]
          },
          "metadata": {
            "tags": []
          },
          "execution_count": 27
        }
      ]
    },
    {
      "cell_type": "code",
      "metadata": {
        "colab": {
          "base_uri": "https://localhost:8080/"
        },
        "id": "i0k_t7pJzIKz",
        "outputId": "50ba8f58-cf04-4128-b6bb-7b0abdb467da"
      },
      "source": [
        "brwr.info()"
      ],
      "id": "i0k_t7pJzIKz",
      "execution_count": null,
      "outputs": [
        {
          "output_type": "stream",
          "text": [
            "<class 'pandas.core.frame.DataFrame'>\n",
            "RangeIndex: 185249 entries, 0 to 185248\n",
            "Data columns (total 3 columns):\n",
            " #   Column     Non-Null Count   Dtype              \n",
            "---  ------     --------------   -----              \n",
            " 0   time       185249 non-null  datetime64[ns, UTC]\n",
            " 1   plataform  185249 non-null  object             \n",
            " 2   user       185249 non-null  object             \n",
            "dtypes: datetime64[ns, UTC](1), object(2)\n",
            "memory usage: 4.2+ MB\n"
          ],
          "name": "stdout"
        }
      ]
    },
    {
      "cell_type": "code",
      "metadata": {
        "id": "jp_TZu8hzMSH"
      },
      "source": [
        "brwr['time'] = pd.to_datetime(brwr['time'])"
      ],
      "id": "jp_TZu8hzMSH",
      "execution_count": null,
      "outputs": []
    },
    {
      "cell_type": "code",
      "metadata": {
        "id": "rTvEAPQoz0Jc"
      },
      "source": [
        "brwr['time'] = brwr['time'].dt.tz_convert(my_timezone)"
      ],
      "id": "rTvEAPQoz0Jc",
      "execution_count": null,
      "outputs": []
    },
    {
      "cell_type": "code",
      "metadata": {
        "id": "FFmhy4GCywqM"
      },
      "source": [
        "brwr['period_day'] = brwr['time'].dt.hour.apply(time_interval_day)"
      ],
      "id": "FFmhy4GCywqM",
      "execution_count": null,
      "outputs": []
    },
    {
      "cell_type": "code",
      "metadata": {
        "id": "1OimigSuz6GN"
      },
      "source": [
        "brwr.to_csv('/content/drive/Shareddrives/Data Reporting/plataforms_time_behavior_linked.csv', index=False)"
      ],
      "id": "1OimigSuz6GN",
      "execution_count": null,
      "outputs": []
    },
    {
      "cell_type": "markdown",
      "metadata": {
        "id": "_TrQWk-S6_KB"
      },
      "source": [
        "# Analyses"
      ],
      "id": "_TrQWk-S6_KB"
    },
    {
      "cell_type": "code",
      "metadata": {
        "id": "FjUDGPXFhtBf"
      },
      "source": [
        "def time_interval_day(x):\n",
        "  if x >= 0 and x <= 5:\n",
        "    time = 'Madrugada'\n",
        "  elif x >= 5 and x <= 12:\n",
        "    time = 'Manhã'\n",
        "  elif x >= 12 and x <= 18:\n",
        "    time = 'Tarde'\n",
        "  else:\n",
        "    time = 'Noite'\n",
        "  return time"
      ],
      "id": "FjUDGPXFhtBf",
      "execution_count": null,
      "outputs": []
    },
    {
      "cell_type": "markdown",
      "metadata": {
        "id": "8RbR7uKmvpfS"
      },
      "source": [
        "## YouTube"
      ],
      "id": "8RbR7uKmvpfS"
    },
    {
      "cell_type": "markdown",
      "metadata": {
        "id": "vqpHOTaK4cEx"
      },
      "source": [
        "### Quais categorias de vídeos são mais vistos?"
      ],
      "id": "vqpHOTaK4cEx"
    },
    {
      "cell_type": "code",
      "metadata": {
        "id": "4DgeMeyQffIz"
      },
      "source": [
        "yt = pd.read_csv('/content/drive/Shareddrives/Data Reporting/youtube_with_categories_linked.csv')"
      ],
      "id": "4DgeMeyQffIz",
      "execution_count": null,
      "outputs": []
    },
    {
      "cell_type": "code",
      "metadata": {
        "id": "jexVyEMHWqrw"
      },
      "source": [
        "yt['time'] = pd.to_datetime(yt['time'], utc=True)"
      ],
      "id": "jexVyEMHWqrw",
      "execution_count": null,
      "outputs": []
    },
    {
      "cell_type": "code",
      "metadata": {
        "id": "kjWhtOhWWwLX"
      },
      "source": [
        "yt['time'] = yt['time'].dt.tz_convert(my_timezone)"
      ],
      "id": "kjWhtOhWWwLX",
      "execution_count": null,
      "outputs": []
    },
    {
      "cell_type": "code",
      "metadata": {
        "id": "f188d915-a318-45d0-8ad1-007d59a627e4"
      },
      "source": [
        "por_categoria = yt.groupby(['user', 'category'], as_index=False).size()"
      ],
      "id": "f188d915-a318-45d0-8ad1-007d59a627e4",
      "execution_count": null,
      "outputs": []
    },
    {
      "cell_type": "code",
      "metadata": {
        "id": "12e348zU63y3"
      },
      "source": [
        "por_categoria.head()"
      ],
      "id": "12e348zU63y3",
      "execution_count": null,
      "outputs": []
    },
    {
      "cell_type": "code",
      "metadata": {
        "id": "a6-BtF0w46L8",
        "colab": {
          "base_uri": "https://localhost:8080/",
          "height": 542
        },
        "outputId": "ebc524c6-8f02-4b65-d51a-49342ddd57d8"
      },
      "source": [
        "por_categoria.plot(\n",
        "    kind='bar', \n",
        "    x='size', \n",
        "    y='category', \n",
        "    color='user', \n",
        "    barmode='group',\n",
        "    title='Número de vídeos visualizados por categoria')"
      ],
      "id": "a6-BtF0w46L8",
      "execution_count": null,
      "outputs": [
        {
          "output_type": "display_data",
          "data": {
            "text/html": [
              "<html>\n",
              "<head><meta charset=\"utf-8\" /></head>\n",
              "<body>\n",
              "    <div>            <script src=\"https://cdnjs.cloudflare.com/ajax/libs/mathjax/2.7.5/MathJax.js?config=TeX-AMS-MML_SVG\"></script><script type=\"text/javascript\">if (window.MathJax) {MathJax.Hub.Config({SVG: {font: \"STIX-Web\"}});}</script>                <script type=\"text/javascript\">window.PlotlyConfig = {MathJaxConfig: 'local'};</script>\n",
              "        <script src=\"https://cdn.plot.ly/plotly-2.2.0.min.js\"></script>                <div id=\"08b27554-455e-4200-83c6-d1f5c36568cd\" class=\"plotly-graph-div\" style=\"height:525px; width:100%;\"></div>            <script type=\"text/javascript\">                                    window.PLOTLYENV=window.PLOTLYENV || {};                                    if (document.getElementById(\"08b27554-455e-4200-83c6-d1f5c36568cd\")) {                    Plotly.newPlot(                        \"08b27554-455e-4200-83c6-d1f5c36568cd\",                        [{\"alignmentgroup\":\"True\",\"hovertemplate\":\"user=Juliana<br>size=%{x}<br>category=%{y}<extra></extra>\",\"legendgroup\":\"Juliana\",\"marker\":{\"color\":\"#636efa\",\"pattern\":{\"shape\":\"\"}},\"name\":\"Juliana\",\"offsetgroup\":\"Juliana\",\"orientation\":\"h\",\"showlegend\":true,\"textposition\":\"auto\",\"type\":\"bar\",\"x\":[3,16,239,308,2463,85,217,108,2444,55,48,2016,9,154,12,17,715],\"xaxis\":\"x\",\"y\":[\"00\",\"Autos & Vehicles\",\"Comedy\",\"Education\",\"Entertainment\",\"Film & Animation\",\"Gaming\",\"Howto & Style\",\"Music\",\"News & Politics\",\"Nonprofits &Activism\",\"People & Blogs\",\"Pets & Animals\",\"Science & Technology\",\"Sports\",\"Trailers\",\"Travel & Events\"],\"yaxis\":\"y\"},{\"alignmentgroup\":\"True\",\"hovertemplate\":\"user=Patryck<br>size=%{x}<br>category=%{y}<extra></extra>\",\"legendgroup\":\"Patryck\",\"marker\":{\"color\":\"#EF553B\",\"pattern\":{\"shape\":\"\"}},\"name\":\"Patryck\",\"offsetgroup\":\"Patryck\",\"orientation\":\"h\",\"showlegend\":true,\"textposition\":\"auto\",\"type\":\"bar\",\"x\":[1,1178,815,2348,75,176,135,1,2713,338,62,1430,7,1641,28,64],\"xaxis\":\"x\",\"y\":[\"Autos & Vehicles\",\"Comedy\",\"Education\",\"Entertainment\",\"Film & Animation\",\"Gaming\",\"Howto & Style\",\"Movies\",\"Music\",\"News & Politics\",\"Nonprofits &Activism\",\"People & Blogs\",\"Pets & Animals\",\"Science & Technology\",\"Sports\",\"Travel & Events\"],\"yaxis\":\"y\"},{\"alignmentgroup\":\"True\",\"hovertemplate\":\"user=Vithor<br>size=%{x}<br>category=%{y}<extra></extra>\",\"legendgroup\":\"Vithor\",\"marker\":{\"color\":\"#00cc96\",\"pattern\":{\"shape\":\"\"}},\"name\":\"Vithor\",\"offsetgroup\":\"Vithor\",\"orientation\":\"h\",\"showlegend\":true,\"textposition\":\"auto\",\"type\":\"bar\",\"x\":[25,308,545,1612,240,1408,172,1738,267,25,2344,186,585,379,1,49],\"xaxis\":\"x\",\"y\":[\"Autos & Vehicles\",\"Comedy\",\"Education\",\"Entertainment\",\"Film & Animation\",\"Gaming\",\"Howto & Style\",\"Music\",\"News & Politics\",\"Nonprofits &Activism\",\"People & Blogs\",\"Pets & Animals\",\"Science & Technology\",\"Sports\",\"Trailers\",\"Travel & Events\"],\"yaxis\":\"y\"}],                        {\"barmode\":\"group\",\"legend\":{\"title\":{\"text\":\"user\"},\"tracegroupgap\":0},\"template\":{\"data\":{\"bar\":[{\"error_x\":{\"color\":\"#2a3f5f\"},\"error_y\":{\"color\":\"#2a3f5f\"},\"marker\":{\"line\":{\"color\":\"#E5ECF6\",\"width\":0.5},\"pattern\":{\"fillmode\":\"overlay\",\"size\":10,\"solidity\":0.2}},\"type\":\"bar\"}],\"barpolar\":[{\"marker\":{\"line\":{\"color\":\"#E5ECF6\",\"width\":0.5},\"pattern\":{\"fillmode\":\"overlay\",\"size\":10,\"solidity\":0.2}},\"type\":\"barpolar\"}],\"carpet\":[{\"aaxis\":{\"endlinecolor\":\"#2a3f5f\",\"gridcolor\":\"white\",\"linecolor\":\"white\",\"minorgridcolor\":\"white\",\"startlinecolor\":\"#2a3f5f\"},\"baxis\":{\"endlinecolor\":\"#2a3f5f\",\"gridcolor\":\"white\",\"linecolor\":\"white\",\"minorgridcolor\":\"white\",\"startlinecolor\":\"#2a3f5f\"},\"type\":\"carpet\"}],\"choropleth\":[{\"colorbar\":{\"outlinewidth\":0,\"ticks\":\"\"},\"type\":\"choropleth\"}],\"contour\":[{\"colorbar\":{\"outlinewidth\":0,\"ticks\":\"\"},\"colorscale\":[[0.0,\"#0d0887\"],[0.1111111111111111,\"#46039f\"],[0.2222222222222222,\"#7201a8\"],[0.3333333333333333,\"#9c179e\"],[0.4444444444444444,\"#bd3786\"],[0.5555555555555556,\"#d8576b\"],[0.6666666666666666,\"#ed7953\"],[0.7777777777777778,\"#fb9f3a\"],[0.8888888888888888,\"#fdca26\"],[1.0,\"#f0f921\"]],\"type\":\"contour\"}],\"contourcarpet\":[{\"colorbar\":{\"outlinewidth\":0,\"ticks\":\"\"},\"type\":\"contourcarpet\"}],\"heatmap\":[{\"colorbar\":{\"outlinewidth\":0,\"ticks\":\"\"},\"colorscale\":[[0.0,\"#0d0887\"],[0.1111111111111111,\"#46039f\"],[0.2222222222222222,\"#7201a8\"],[0.3333333333333333,\"#9c179e\"],[0.4444444444444444,\"#bd3786\"],[0.5555555555555556,\"#d8576b\"],[0.6666666666666666,\"#ed7953\"],[0.7777777777777778,\"#fb9f3a\"],[0.8888888888888888,\"#fdca26\"],[1.0,\"#f0f921\"]],\"type\":\"heatmap\"}],\"heatmapgl\":[{\"colorbar\":{\"outlinewidth\":0,\"ticks\":\"\"},\"colorscale\":[[0.0,\"#0d0887\"],[0.1111111111111111,\"#46039f\"],[0.2222222222222222,\"#7201a8\"],[0.3333333333333333,\"#9c179e\"],[0.4444444444444444,\"#bd3786\"],[0.5555555555555556,\"#d8576b\"],[0.6666666666666666,\"#ed7953\"],[0.7777777777777778,\"#fb9f3a\"],[0.8888888888888888,\"#fdca26\"],[1.0,\"#f0f921\"]],\"type\":\"heatmapgl\"}],\"histogram\":[{\"marker\":{\"pattern\":{\"fillmode\":\"overlay\",\"size\":10,\"solidity\":0.2}},\"type\":\"histogram\"}],\"histogram2d\":[{\"colorbar\":{\"outlinewidth\":0,\"ticks\":\"\"},\"colorscale\":[[0.0,\"#0d0887\"],[0.1111111111111111,\"#46039f\"],[0.2222222222222222,\"#7201a8\"],[0.3333333333333333,\"#9c179e\"],[0.4444444444444444,\"#bd3786\"],[0.5555555555555556,\"#d8576b\"],[0.6666666666666666,\"#ed7953\"],[0.7777777777777778,\"#fb9f3a\"],[0.8888888888888888,\"#fdca26\"],[1.0,\"#f0f921\"]],\"type\":\"histogram2d\"}],\"histogram2dcontour\":[{\"colorbar\":{\"outlinewidth\":0,\"ticks\":\"\"},\"colorscale\":[[0.0,\"#0d0887\"],[0.1111111111111111,\"#46039f\"],[0.2222222222222222,\"#7201a8\"],[0.3333333333333333,\"#9c179e\"],[0.4444444444444444,\"#bd3786\"],[0.5555555555555556,\"#d8576b\"],[0.6666666666666666,\"#ed7953\"],[0.7777777777777778,\"#fb9f3a\"],[0.8888888888888888,\"#fdca26\"],[1.0,\"#f0f921\"]],\"type\":\"histogram2dcontour\"}],\"mesh3d\":[{\"colorbar\":{\"outlinewidth\":0,\"ticks\":\"\"},\"type\":\"mesh3d\"}],\"parcoords\":[{\"line\":{\"colorbar\":{\"outlinewidth\":0,\"ticks\":\"\"}},\"type\":\"parcoords\"}],\"pie\":[{\"automargin\":true,\"type\":\"pie\"}],\"scatter\":[{\"marker\":{\"colorbar\":{\"outlinewidth\":0,\"ticks\":\"\"}},\"type\":\"scatter\"}],\"scatter3d\":[{\"line\":{\"colorbar\":{\"outlinewidth\":0,\"ticks\":\"\"}},\"marker\":{\"colorbar\":{\"outlinewidth\":0,\"ticks\":\"\"}},\"type\":\"scatter3d\"}],\"scattercarpet\":[{\"marker\":{\"colorbar\":{\"outlinewidth\":0,\"ticks\":\"\"}},\"type\":\"scattercarpet\"}],\"scattergeo\":[{\"marker\":{\"colorbar\":{\"outlinewidth\":0,\"ticks\":\"\"}},\"type\":\"scattergeo\"}],\"scattergl\":[{\"marker\":{\"colorbar\":{\"outlinewidth\":0,\"ticks\":\"\"}},\"type\":\"scattergl\"}],\"scattermapbox\":[{\"marker\":{\"colorbar\":{\"outlinewidth\":0,\"ticks\":\"\"}},\"type\":\"scattermapbox\"}],\"scatterpolar\":[{\"marker\":{\"colorbar\":{\"outlinewidth\":0,\"ticks\":\"\"}},\"type\":\"scatterpolar\"}],\"scatterpolargl\":[{\"marker\":{\"colorbar\":{\"outlinewidth\":0,\"ticks\":\"\"}},\"type\":\"scatterpolargl\"}],\"scatterternary\":[{\"marker\":{\"colorbar\":{\"outlinewidth\":0,\"ticks\":\"\"}},\"type\":\"scatterternary\"}],\"surface\":[{\"colorbar\":{\"outlinewidth\":0,\"ticks\":\"\"},\"colorscale\":[[0.0,\"#0d0887\"],[0.1111111111111111,\"#46039f\"],[0.2222222222222222,\"#7201a8\"],[0.3333333333333333,\"#9c179e\"],[0.4444444444444444,\"#bd3786\"],[0.5555555555555556,\"#d8576b\"],[0.6666666666666666,\"#ed7953\"],[0.7777777777777778,\"#fb9f3a\"],[0.8888888888888888,\"#fdca26\"],[1.0,\"#f0f921\"]],\"type\":\"surface\"}],\"table\":[{\"cells\":{\"fill\":{\"color\":\"#EBF0F8\"},\"line\":{\"color\":\"white\"}},\"header\":{\"fill\":{\"color\":\"#C8D4E3\"},\"line\":{\"color\":\"white\"}},\"type\":\"table\"}]},\"layout\":{\"annotationdefaults\":{\"arrowcolor\":\"#2a3f5f\",\"arrowhead\":0,\"arrowwidth\":1},\"autotypenumbers\":\"strict\",\"coloraxis\":{\"colorbar\":{\"outlinewidth\":0,\"ticks\":\"\"}},\"colorscale\":{\"diverging\":[[0,\"#8e0152\"],[0.1,\"#c51b7d\"],[0.2,\"#de77ae\"],[0.3,\"#f1b6da\"],[0.4,\"#fde0ef\"],[0.5,\"#f7f7f7\"],[0.6,\"#e6f5d0\"],[0.7,\"#b8e186\"],[0.8,\"#7fbc41\"],[0.9,\"#4d9221\"],[1,\"#276419\"]],\"sequential\":[[0.0,\"#0d0887\"],[0.1111111111111111,\"#46039f\"],[0.2222222222222222,\"#7201a8\"],[0.3333333333333333,\"#9c179e\"],[0.4444444444444444,\"#bd3786\"],[0.5555555555555556,\"#d8576b\"],[0.6666666666666666,\"#ed7953\"],[0.7777777777777778,\"#fb9f3a\"],[0.8888888888888888,\"#fdca26\"],[1.0,\"#f0f921\"]],\"sequentialminus\":[[0.0,\"#0d0887\"],[0.1111111111111111,\"#46039f\"],[0.2222222222222222,\"#7201a8\"],[0.3333333333333333,\"#9c179e\"],[0.4444444444444444,\"#bd3786\"],[0.5555555555555556,\"#d8576b\"],[0.6666666666666666,\"#ed7953\"],[0.7777777777777778,\"#fb9f3a\"],[0.8888888888888888,\"#fdca26\"],[1.0,\"#f0f921\"]]},\"colorway\":[\"#636efa\",\"#EF553B\",\"#00cc96\",\"#ab63fa\",\"#FFA15A\",\"#19d3f3\",\"#FF6692\",\"#B6E880\",\"#FF97FF\",\"#FECB52\"],\"font\":{\"color\":\"#2a3f5f\"},\"geo\":{\"bgcolor\":\"white\",\"lakecolor\":\"white\",\"landcolor\":\"#E5ECF6\",\"showlakes\":true,\"showland\":true,\"subunitcolor\":\"white\"},\"hoverlabel\":{\"align\":\"left\"},\"hovermode\":\"closest\",\"mapbox\":{\"style\":\"light\"},\"paper_bgcolor\":\"white\",\"plot_bgcolor\":\"#E5ECF6\",\"polar\":{\"angularaxis\":{\"gridcolor\":\"white\",\"linecolor\":\"white\",\"ticks\":\"\"},\"bgcolor\":\"#E5ECF6\",\"radialaxis\":{\"gridcolor\":\"white\",\"linecolor\":\"white\",\"ticks\":\"\"}},\"scene\":{\"xaxis\":{\"backgroundcolor\":\"#E5ECF6\",\"gridcolor\":\"white\",\"gridwidth\":2,\"linecolor\":\"white\",\"showbackground\":true,\"ticks\":\"\",\"zerolinecolor\":\"white\"},\"yaxis\":{\"backgroundcolor\":\"#E5ECF6\",\"gridcolor\":\"white\",\"gridwidth\":2,\"linecolor\":\"white\",\"showbackground\":true,\"ticks\":\"\",\"zerolinecolor\":\"white\"},\"zaxis\":{\"backgroundcolor\":\"#E5ECF6\",\"gridcolor\":\"white\",\"gridwidth\":2,\"linecolor\":\"white\",\"showbackground\":true,\"ticks\":\"\",\"zerolinecolor\":\"white\"}},\"shapedefaults\":{\"line\":{\"color\":\"#2a3f5f\"}},\"ternary\":{\"aaxis\":{\"gridcolor\":\"white\",\"linecolor\":\"white\",\"ticks\":\"\"},\"baxis\":{\"gridcolor\":\"white\",\"linecolor\":\"white\",\"ticks\":\"\"},\"bgcolor\":\"#E5ECF6\",\"caxis\":{\"gridcolor\":\"white\",\"linecolor\":\"white\",\"ticks\":\"\"}},\"title\":{\"x\":0.05},\"xaxis\":{\"automargin\":true,\"gridcolor\":\"white\",\"linecolor\":\"white\",\"ticks\":\"\",\"title\":{\"standoff\":15},\"zerolinecolor\":\"white\",\"zerolinewidth\":2},\"yaxis\":{\"automargin\":true,\"gridcolor\":\"white\",\"linecolor\":\"white\",\"ticks\":\"\",\"title\":{\"standoff\":15},\"zerolinecolor\":\"white\",\"zerolinewidth\":2}}},\"title\":{\"text\":\"N\\u00famero de v\\u00eddeos visualizados por categoria\"},\"xaxis\":{\"anchor\":\"y\",\"domain\":[0.0,1.0],\"title\":{\"text\":\"size\"}},\"yaxis\":{\"anchor\":\"x\",\"domain\":[0.0,1.0],\"title\":{\"text\":\"category\"}}},                        {\"responsive\": true}                    ).then(function(){\n",
              "                            \n",
              "var gd = document.getElementById('08b27554-455e-4200-83c6-d1f5c36568cd');\n",
              "var x = new MutationObserver(function (mutations, observer) {{\n",
              "        var display = window.getComputedStyle(gd).display;\n",
              "        if (!display || display === 'none') {{\n",
              "            console.log([gd, 'removed!']);\n",
              "            Plotly.purge(gd);\n",
              "            observer.disconnect();\n",
              "        }}\n",
              "}});\n",
              "\n",
              "// Listen for the removal of the full notebook cells\n",
              "var notebookContainer = gd.closest('#notebook-container');\n",
              "if (notebookContainer) {{\n",
              "    x.observe(notebookContainer, {childList: true});\n",
              "}}\n",
              "\n",
              "// Listen for the clearing of the current output cell\n",
              "var outputEl = gd.closest('.output');\n",
              "if (outputEl) {{\n",
              "    x.observe(outputEl, {childList: true});\n",
              "}}\n",
              "\n",
              "                        })                };                            </script>        </div>\n",
              "</body>\n",
              "</html>"
            ]
          },
          "metadata": {
            "tags": []
          }
        }
      ]
    },
    {
      "cell_type": "code",
      "metadata": {
        "id": "WY3EfEA26Dp1"
      },
      "source": [
        "category_prop = (\n",
        "    yt\n",
        "    .groupby(['user', 'category'])\n",
        "    .size()\n",
        "    .groupby(level=[0])\n",
        "    .apply(lambda x: (x / x.sum()) * 100)\n",
        "    \n",
        ").reset_index()"
      ],
      "id": "WY3EfEA26Dp1",
      "execution_count": null,
      "outputs": []
    },
    {
      "cell_type": "code",
      "metadata": {
        "id": "RE1-Uhru76-V"
      },
      "source": [
        "category_prop.columns = ['user', 'categorie', 'percentage']"
      ],
      "id": "RE1-Uhru76-V",
      "execution_count": null,
      "outputs": []
    },
    {
      "cell_type": "code",
      "metadata": {
        "id": "Yyma68G07z09",
        "colab": {
          "base_uri": "https://localhost:8080/",
          "height": 542
        },
        "outputId": "d75f51c8-3595-4420-b5d6-4cad083d02a3"
      },
      "source": [
        "category_prop.plot(kind='bar', \n",
        "                   y='percentage', \n",
        "                   x='categorie', \n",
        "                   color='user', \n",
        "                   barmode='group',\n",
        "                   title='Porcentagem de categoria de vídeos assistidos')"
      ],
      "id": "Yyma68G07z09",
      "execution_count": null,
      "outputs": [
        {
          "output_type": "display_data",
          "data": {
            "text/html": [
              "<html>\n",
              "<head><meta charset=\"utf-8\" /></head>\n",
              "<body>\n",
              "    <div>            <script src=\"https://cdnjs.cloudflare.com/ajax/libs/mathjax/2.7.5/MathJax.js?config=TeX-AMS-MML_SVG\"></script><script type=\"text/javascript\">if (window.MathJax) {MathJax.Hub.Config({SVG: {font: \"STIX-Web\"}});}</script>                <script type=\"text/javascript\">window.PlotlyConfig = {MathJaxConfig: 'local'};</script>\n",
              "        <script src=\"https://cdn.plot.ly/plotly-2.2.0.min.js\"></script>                <div id=\"2988ce1f-ae2d-4923-b0bf-7c64a7b0eb8b\" class=\"plotly-graph-div\" style=\"height:525px; width:100%;\"></div>            <script type=\"text/javascript\">                                    window.PLOTLYENV=window.PLOTLYENV || {};                                    if (document.getElementById(\"2988ce1f-ae2d-4923-b0bf-7c64a7b0eb8b\")) {                    Plotly.newPlot(                        \"2988ce1f-ae2d-4923-b0bf-7c64a7b0eb8b\",                        [{\"alignmentgroup\":\"True\",\"hovertemplate\":\"user=Juliana<br>categorie=%{x}<br>percentage=%{y}<extra></extra>\",\"legendgroup\":\"Juliana\",\"marker\":{\"color\":\"#636efa\",\"pattern\":{\"shape\":\"\"}},\"name\":\"Juliana\",\"offsetgroup\":\"Juliana\",\"orientation\":\"v\",\"showlegend\":true,\"textposition\":\"auto\",\"type\":\"bar\",\"x\":[\"00\",\"Autos & Vehicles\",\"Comedy\",\"Education\",\"Entertainment\",\"Film & Animation\",\"Gaming\",\"Howto & Style\",\"Music\",\"News & Politics\",\"Nonprofits &Activism\",\"People & Blogs\",\"Pets & Animals\",\"Science & Technology\",\"Sports\",\"Trailers\",\"Travel & Events\"],\"xaxis\":\"x\",\"y\":[0.033673812998091815,0.17959366932315637,2.6826804355146483,3.4571781344707597,27.64620047143338,0.9540913682792682,2.435739140195308,1.2122572679313053,27.432932989112135,0.61735323829835,0.538781007969469,22.6288023347177,0.10102143899427544,1.7285890672353799,0.13469525199236726,0.19081827365585363,8.02559209787855],\"yaxis\":\"y\"},{\"alignmentgroup\":\"True\",\"hovertemplate\":\"user=Patryck<br>categorie=%{x}<br>percentage=%{y}<extra></extra>\",\"legendgroup\":\"Patryck\",\"marker\":{\"color\":\"#EF553B\",\"pattern\":{\"shape\":\"\"}},\"name\":\"Patryck\",\"offsetgroup\":\"Patryck\",\"orientation\":\"v\",\"showlegend\":true,\"textposition\":\"auto\",\"type\":\"bar\",\"x\":[\"Autos & Vehicles\",\"Comedy\",\"Education\",\"Entertainment\",\"Film & Animation\",\"Gaming\",\"Howto & Style\",\"Movies\",\"Music\",\"News & Politics\",\"Nonprofits &Activism\",\"People & Blogs\",\"Pets & Animals\",\"Science & Technology\",\"Sports\",\"Travel & Events\"],\"xaxis\":\"x\",\"y\":[0.009081002542680712,10.697420995277879,7.4010170722847795,21.32219397021431,0.6810751907010534,1.5982564475118053,1.225935343261896,0.009081002542680712,24.63675989829277,3.069378859426081,0.5630221576462041,12.985833636033417,0.06356701779876499,14.901925172539048,0.25426807119505995,0.5811841627315656],\"yaxis\":\"y\"},{\"alignmentgroup\":\"True\",\"hovertemplate\":\"user=Vithor<br>categorie=%{x}<br>percentage=%{y}<extra></extra>\",\"legendgroup\":\"Vithor\",\"marker\":{\"color\":\"#00cc96\",\"pattern\":{\"shape\":\"\"}},\"name\":\"Vithor\",\"offsetgroup\":\"Vithor\",\"orientation\":\"v\",\"showlegend\":true,\"textposition\":\"auto\",\"type\":\"bar\",\"x\":[\"Autos & Vehicles\",\"Comedy\",\"Education\",\"Entertainment\",\"Film & Animation\",\"Gaming\",\"Howto & Style\",\"Music\",\"News & Politics\",\"Nonprofits &Activism\",\"People & Blogs\",\"Pets & Animals\",\"Science & Technology\",\"Sports\",\"Trailers\",\"Travel & Events\"],\"xaxis\":\"x\",\"y\":[0.2529340348037232,3.1161473087818696,5.513961958721166,16.30918656414407,2.4281667341157425,14.245244840145691,1.7401861594496155,17.583974099554837,2.7013354917037637,0.2529340348037232,23.715095103197086,1.8818292189397006,5.918656414407122,3.8344799676244437,0.010117361392148928,0.49575070821529743],\"yaxis\":\"y\"}],                        {\"barmode\":\"group\",\"legend\":{\"title\":{\"text\":\"user\"},\"tracegroupgap\":0},\"template\":{\"data\":{\"bar\":[{\"error_x\":{\"color\":\"#2a3f5f\"},\"error_y\":{\"color\":\"#2a3f5f\"},\"marker\":{\"line\":{\"color\":\"#E5ECF6\",\"width\":0.5},\"pattern\":{\"fillmode\":\"overlay\",\"size\":10,\"solidity\":0.2}},\"type\":\"bar\"}],\"barpolar\":[{\"marker\":{\"line\":{\"color\":\"#E5ECF6\",\"width\":0.5},\"pattern\":{\"fillmode\":\"overlay\",\"size\":10,\"solidity\":0.2}},\"type\":\"barpolar\"}],\"carpet\":[{\"aaxis\":{\"endlinecolor\":\"#2a3f5f\",\"gridcolor\":\"white\",\"linecolor\":\"white\",\"minorgridcolor\":\"white\",\"startlinecolor\":\"#2a3f5f\"},\"baxis\":{\"endlinecolor\":\"#2a3f5f\",\"gridcolor\":\"white\",\"linecolor\":\"white\",\"minorgridcolor\":\"white\",\"startlinecolor\":\"#2a3f5f\"},\"type\":\"carpet\"}],\"choropleth\":[{\"colorbar\":{\"outlinewidth\":0,\"ticks\":\"\"},\"type\":\"choropleth\"}],\"contour\":[{\"colorbar\":{\"outlinewidth\":0,\"ticks\":\"\"},\"colorscale\":[[0.0,\"#0d0887\"],[0.1111111111111111,\"#46039f\"],[0.2222222222222222,\"#7201a8\"],[0.3333333333333333,\"#9c179e\"],[0.4444444444444444,\"#bd3786\"],[0.5555555555555556,\"#d8576b\"],[0.6666666666666666,\"#ed7953\"],[0.7777777777777778,\"#fb9f3a\"],[0.8888888888888888,\"#fdca26\"],[1.0,\"#f0f921\"]],\"type\":\"contour\"}],\"contourcarpet\":[{\"colorbar\":{\"outlinewidth\":0,\"ticks\":\"\"},\"type\":\"contourcarpet\"}],\"heatmap\":[{\"colorbar\":{\"outlinewidth\":0,\"ticks\":\"\"},\"colorscale\":[[0.0,\"#0d0887\"],[0.1111111111111111,\"#46039f\"],[0.2222222222222222,\"#7201a8\"],[0.3333333333333333,\"#9c179e\"],[0.4444444444444444,\"#bd3786\"],[0.5555555555555556,\"#d8576b\"],[0.6666666666666666,\"#ed7953\"],[0.7777777777777778,\"#fb9f3a\"],[0.8888888888888888,\"#fdca26\"],[1.0,\"#f0f921\"]],\"type\":\"heatmap\"}],\"heatmapgl\":[{\"colorbar\":{\"outlinewidth\":0,\"ticks\":\"\"},\"colorscale\":[[0.0,\"#0d0887\"],[0.1111111111111111,\"#46039f\"],[0.2222222222222222,\"#7201a8\"],[0.3333333333333333,\"#9c179e\"],[0.4444444444444444,\"#bd3786\"],[0.5555555555555556,\"#d8576b\"],[0.6666666666666666,\"#ed7953\"],[0.7777777777777778,\"#fb9f3a\"],[0.8888888888888888,\"#fdca26\"],[1.0,\"#f0f921\"]],\"type\":\"heatmapgl\"}],\"histogram\":[{\"marker\":{\"pattern\":{\"fillmode\":\"overlay\",\"size\":10,\"solidity\":0.2}},\"type\":\"histogram\"}],\"histogram2d\":[{\"colorbar\":{\"outlinewidth\":0,\"ticks\":\"\"},\"colorscale\":[[0.0,\"#0d0887\"],[0.1111111111111111,\"#46039f\"],[0.2222222222222222,\"#7201a8\"],[0.3333333333333333,\"#9c179e\"],[0.4444444444444444,\"#bd3786\"],[0.5555555555555556,\"#d8576b\"],[0.6666666666666666,\"#ed7953\"],[0.7777777777777778,\"#fb9f3a\"],[0.8888888888888888,\"#fdca26\"],[1.0,\"#f0f921\"]],\"type\":\"histogram2d\"}],\"histogram2dcontour\":[{\"colorbar\":{\"outlinewidth\":0,\"ticks\":\"\"},\"colorscale\":[[0.0,\"#0d0887\"],[0.1111111111111111,\"#46039f\"],[0.2222222222222222,\"#7201a8\"],[0.3333333333333333,\"#9c179e\"],[0.4444444444444444,\"#bd3786\"],[0.5555555555555556,\"#d8576b\"],[0.6666666666666666,\"#ed7953\"],[0.7777777777777778,\"#fb9f3a\"],[0.8888888888888888,\"#fdca26\"],[1.0,\"#f0f921\"]],\"type\":\"histogram2dcontour\"}],\"mesh3d\":[{\"colorbar\":{\"outlinewidth\":0,\"ticks\":\"\"},\"type\":\"mesh3d\"}],\"parcoords\":[{\"line\":{\"colorbar\":{\"outlinewidth\":0,\"ticks\":\"\"}},\"type\":\"parcoords\"}],\"pie\":[{\"automargin\":true,\"type\":\"pie\"}],\"scatter\":[{\"marker\":{\"colorbar\":{\"outlinewidth\":0,\"ticks\":\"\"}},\"type\":\"scatter\"}],\"scatter3d\":[{\"line\":{\"colorbar\":{\"outlinewidth\":0,\"ticks\":\"\"}},\"marker\":{\"colorbar\":{\"outlinewidth\":0,\"ticks\":\"\"}},\"type\":\"scatter3d\"}],\"scattercarpet\":[{\"marker\":{\"colorbar\":{\"outlinewidth\":0,\"ticks\":\"\"}},\"type\":\"scattercarpet\"}],\"scattergeo\":[{\"marker\":{\"colorbar\":{\"outlinewidth\":0,\"ticks\":\"\"}},\"type\":\"scattergeo\"}],\"scattergl\":[{\"marker\":{\"colorbar\":{\"outlinewidth\":0,\"ticks\":\"\"}},\"type\":\"scattergl\"}],\"scattermapbox\":[{\"marker\":{\"colorbar\":{\"outlinewidth\":0,\"ticks\":\"\"}},\"type\":\"scattermapbox\"}],\"scatterpolar\":[{\"marker\":{\"colorbar\":{\"outlinewidth\":0,\"ticks\":\"\"}},\"type\":\"scatterpolar\"}],\"scatterpolargl\":[{\"marker\":{\"colorbar\":{\"outlinewidth\":0,\"ticks\":\"\"}},\"type\":\"scatterpolargl\"}],\"scatterternary\":[{\"marker\":{\"colorbar\":{\"outlinewidth\":0,\"ticks\":\"\"}},\"type\":\"scatterternary\"}],\"surface\":[{\"colorbar\":{\"outlinewidth\":0,\"ticks\":\"\"},\"colorscale\":[[0.0,\"#0d0887\"],[0.1111111111111111,\"#46039f\"],[0.2222222222222222,\"#7201a8\"],[0.3333333333333333,\"#9c179e\"],[0.4444444444444444,\"#bd3786\"],[0.5555555555555556,\"#d8576b\"],[0.6666666666666666,\"#ed7953\"],[0.7777777777777778,\"#fb9f3a\"],[0.8888888888888888,\"#fdca26\"],[1.0,\"#f0f921\"]],\"type\":\"surface\"}],\"table\":[{\"cells\":{\"fill\":{\"color\":\"#EBF0F8\"},\"line\":{\"color\":\"white\"}},\"header\":{\"fill\":{\"color\":\"#C8D4E3\"},\"line\":{\"color\":\"white\"}},\"type\":\"table\"}]},\"layout\":{\"annotationdefaults\":{\"arrowcolor\":\"#2a3f5f\",\"arrowhead\":0,\"arrowwidth\":1},\"autotypenumbers\":\"strict\",\"coloraxis\":{\"colorbar\":{\"outlinewidth\":0,\"ticks\":\"\"}},\"colorscale\":{\"diverging\":[[0,\"#8e0152\"],[0.1,\"#c51b7d\"],[0.2,\"#de77ae\"],[0.3,\"#f1b6da\"],[0.4,\"#fde0ef\"],[0.5,\"#f7f7f7\"],[0.6,\"#e6f5d0\"],[0.7,\"#b8e186\"],[0.8,\"#7fbc41\"],[0.9,\"#4d9221\"],[1,\"#276419\"]],\"sequential\":[[0.0,\"#0d0887\"],[0.1111111111111111,\"#46039f\"],[0.2222222222222222,\"#7201a8\"],[0.3333333333333333,\"#9c179e\"],[0.4444444444444444,\"#bd3786\"],[0.5555555555555556,\"#d8576b\"],[0.6666666666666666,\"#ed7953\"],[0.7777777777777778,\"#fb9f3a\"],[0.8888888888888888,\"#fdca26\"],[1.0,\"#f0f921\"]],\"sequentialminus\":[[0.0,\"#0d0887\"],[0.1111111111111111,\"#46039f\"],[0.2222222222222222,\"#7201a8\"],[0.3333333333333333,\"#9c179e\"],[0.4444444444444444,\"#bd3786\"],[0.5555555555555556,\"#d8576b\"],[0.6666666666666666,\"#ed7953\"],[0.7777777777777778,\"#fb9f3a\"],[0.8888888888888888,\"#fdca26\"],[1.0,\"#f0f921\"]]},\"colorway\":[\"#636efa\",\"#EF553B\",\"#00cc96\",\"#ab63fa\",\"#FFA15A\",\"#19d3f3\",\"#FF6692\",\"#B6E880\",\"#FF97FF\",\"#FECB52\"],\"font\":{\"color\":\"#2a3f5f\"},\"geo\":{\"bgcolor\":\"white\",\"lakecolor\":\"white\",\"landcolor\":\"#E5ECF6\",\"showlakes\":true,\"showland\":true,\"subunitcolor\":\"white\"},\"hoverlabel\":{\"align\":\"left\"},\"hovermode\":\"closest\",\"mapbox\":{\"style\":\"light\"},\"paper_bgcolor\":\"white\",\"plot_bgcolor\":\"#E5ECF6\",\"polar\":{\"angularaxis\":{\"gridcolor\":\"white\",\"linecolor\":\"white\",\"ticks\":\"\"},\"bgcolor\":\"#E5ECF6\",\"radialaxis\":{\"gridcolor\":\"white\",\"linecolor\":\"white\",\"ticks\":\"\"}},\"scene\":{\"xaxis\":{\"backgroundcolor\":\"#E5ECF6\",\"gridcolor\":\"white\",\"gridwidth\":2,\"linecolor\":\"white\",\"showbackground\":true,\"ticks\":\"\",\"zerolinecolor\":\"white\"},\"yaxis\":{\"backgroundcolor\":\"#E5ECF6\",\"gridcolor\":\"white\",\"gridwidth\":2,\"linecolor\":\"white\",\"showbackground\":true,\"ticks\":\"\",\"zerolinecolor\":\"white\"},\"zaxis\":{\"backgroundcolor\":\"#E5ECF6\",\"gridcolor\":\"white\",\"gridwidth\":2,\"linecolor\":\"white\",\"showbackground\":true,\"ticks\":\"\",\"zerolinecolor\":\"white\"}},\"shapedefaults\":{\"line\":{\"color\":\"#2a3f5f\"}},\"ternary\":{\"aaxis\":{\"gridcolor\":\"white\",\"linecolor\":\"white\",\"ticks\":\"\"},\"baxis\":{\"gridcolor\":\"white\",\"linecolor\":\"white\",\"ticks\":\"\"},\"bgcolor\":\"#E5ECF6\",\"caxis\":{\"gridcolor\":\"white\",\"linecolor\":\"white\",\"ticks\":\"\"}},\"title\":{\"x\":0.05},\"xaxis\":{\"automargin\":true,\"gridcolor\":\"white\",\"linecolor\":\"white\",\"ticks\":\"\",\"title\":{\"standoff\":15},\"zerolinecolor\":\"white\",\"zerolinewidth\":2},\"yaxis\":{\"automargin\":true,\"gridcolor\":\"white\",\"linecolor\":\"white\",\"ticks\":\"\",\"title\":{\"standoff\":15},\"zerolinecolor\":\"white\",\"zerolinewidth\":2}}},\"title\":{\"text\":\"Porcentagem de categoria de v\\u00eddeos assistidos\"},\"xaxis\":{\"anchor\":\"y\",\"domain\":[0.0,1.0],\"title\":{\"text\":\"categorie\"}},\"yaxis\":{\"anchor\":\"x\",\"domain\":[0.0,1.0],\"title\":{\"text\":\"percentage\"}}},                        {\"responsive\": true}                    ).then(function(){\n",
              "                            \n",
              "var gd = document.getElementById('2988ce1f-ae2d-4923-b0bf-7c64a7b0eb8b');\n",
              "var x = new MutationObserver(function (mutations, observer) {{\n",
              "        var display = window.getComputedStyle(gd).display;\n",
              "        if (!display || display === 'none') {{\n",
              "            console.log([gd, 'removed!']);\n",
              "            Plotly.purge(gd);\n",
              "            observer.disconnect();\n",
              "        }}\n",
              "}});\n",
              "\n",
              "// Listen for the removal of the full notebook cells\n",
              "var notebookContainer = gd.closest('#notebook-container');\n",
              "if (notebookContainer) {{\n",
              "    x.observe(notebookContainer, {childList: true});\n",
              "}}\n",
              "\n",
              "// Listen for the clearing of the current output cell\n",
              "var outputEl = gd.closest('.output');\n",
              "if (outputEl) {{\n",
              "    x.observe(outputEl, {childList: true});\n",
              "}}\n",
              "\n",
              "                        })                };                            </script>        </div>\n",
              "</body>\n",
              "</html>"
            ]
          },
          "metadata": {
            "tags": []
          }
        }
      ]
    },
    {
      "cell_type": "markdown",
      "metadata": {
        "id": "kg0tBb2IRVh1"
      },
      "source": [
        "### As categorias mais assistidas mudaram durante o tempo?"
      ],
      "id": "kg0tBb2IRVh1"
    },
    {
      "cell_type": "code",
      "metadata": {
        "id": "1uO7dIVdTNV7"
      },
      "source": [
        "category_prop = (\n",
        "    yt\n",
        "    .groupby(['user', 'category'])\n",
        "    .size()\n",
        "    .groupby(level=[0])\n",
        "    .apply(lambda x: (x / x.sum()) * 100)\n",
        "    \n",
        ").reset_index()"
      ],
      "id": "1uO7dIVdTNV7",
      "execution_count": null,
      "outputs": []
    },
    {
      "cell_type": "code",
      "metadata": {
        "id": "TNgYHVAWReSc",
        "colab": {
          "base_uri": "https://localhost:8080/"
        },
        "outputId": "5347e675-9751-4ab8-f9a1-026750a66447"
      },
      "source": [
        "category_in_years = (\n",
        "    yt\n",
        "    .groupby(['user', yt.time.dt.day, 'category'])\n",
        "    .size()\n",
        "    .groupby(level=[0, 1])\n",
        "    .apply(lambda x: (x / x.sum()) * 100)\n",
        ").reset_index()\n",
        "category_in_years.head(10)"
      ],
      "id": "TNgYHVAWReSc",
      "execution_count": null,
      "outputs": [
        {
          "output_type": "execute_result",
          "data": {
            "text/html": [
              "<div>\n",
              "<style scoped>\n",
              "    .dataframe tbody tr th:only-of-type {\n",
              "        vertical-align: middle;\n",
              "    }\n",
              "\n",
              "    .dataframe tbody tr th {\n",
              "        vertical-align: top;\n",
              "    }\n",
              "\n",
              "    .dataframe thead th {\n",
              "        text-align: right;\n",
              "    }\n",
              "</style>\n",
              "<table border=\"1\" class=\"dataframe\">\n",
              "  <thead>\n",
              "    <tr style=\"text-align: right;\">\n",
              "      <th></th>\n",
              "      <th>user</th>\n",
              "      <th>time</th>\n",
              "      <th>category</th>\n",
              "      <th>0</th>\n",
              "    </tr>\n",
              "  </thead>\n",
              "  <tbody>\n",
              "    <tr>\n",
              "      <th>0</th>\n",
              "      <td>Juliana</td>\n",
              "      <td>1</td>\n",
              "      <td>Comedy</td>\n",
              "      <td>3.525641</td>\n",
              "    </tr>\n",
              "    <tr>\n",
              "      <th>1</th>\n",
              "      <td>Juliana</td>\n",
              "      <td>1</td>\n",
              "      <td>Education</td>\n",
              "      <td>7.051282</td>\n",
              "    </tr>\n",
              "    <tr>\n",
              "      <th>2</th>\n",
              "      <td>Juliana</td>\n",
              "      <td>1</td>\n",
              "      <td>Entertainment</td>\n",
              "      <td>24.358974</td>\n",
              "    </tr>\n",
              "    <tr>\n",
              "      <th>3</th>\n",
              "      <td>Juliana</td>\n",
              "      <td>1</td>\n",
              "      <td>Gaming</td>\n",
              "      <td>1.282051</td>\n",
              "    </tr>\n",
              "    <tr>\n",
              "      <th>4</th>\n",
              "      <td>Juliana</td>\n",
              "      <td>1</td>\n",
              "      <td>Howto &amp; Style</td>\n",
              "      <td>3.205128</td>\n",
              "    </tr>\n",
              "    <tr>\n",
              "      <th>5</th>\n",
              "      <td>Juliana</td>\n",
              "      <td>1</td>\n",
              "      <td>Music</td>\n",
              "      <td>23.397436</td>\n",
              "    </tr>\n",
              "    <tr>\n",
              "      <th>6</th>\n",
              "      <td>Juliana</td>\n",
              "      <td>1</td>\n",
              "      <td>Nonprofits &amp;Activism</td>\n",
              "      <td>0.320513</td>\n",
              "    </tr>\n",
              "    <tr>\n",
              "      <th>7</th>\n",
              "      <td>Juliana</td>\n",
              "      <td>1</td>\n",
              "      <td>People &amp; Blogs</td>\n",
              "      <td>23.717949</td>\n",
              "    </tr>\n",
              "    <tr>\n",
              "      <th>8</th>\n",
              "      <td>Juliana</td>\n",
              "      <td>1</td>\n",
              "      <td>Pets &amp; Animals</td>\n",
              "      <td>0.320513</td>\n",
              "    </tr>\n",
              "    <tr>\n",
              "      <th>9</th>\n",
              "      <td>Juliana</td>\n",
              "      <td>1</td>\n",
              "      <td>Science &amp; Technology</td>\n",
              "      <td>1.602564</td>\n",
              "    </tr>\n",
              "  </tbody>\n",
              "</table>\n",
              "</div>"
            ],
            "text/plain": [
              "      user  time              category          0\n",
              "0  Juliana     1                Comedy   3.525641\n",
              "1  Juliana     1             Education   7.051282\n",
              "2  Juliana     1         Entertainment  24.358974\n",
              "3  Juliana     1                Gaming   1.282051\n",
              "4  Juliana     1         Howto & Style   3.205128\n",
              "5  Juliana     1                 Music  23.397436\n",
              "6  Juliana     1  Nonprofits &Activism   0.320513\n",
              "7  Juliana     1        People & Blogs  23.717949\n",
              "8  Juliana     1        Pets & Animals   0.320513\n",
              "9  Juliana     1  Science & Technology   1.602564"
            ]
          },
          "metadata": {
            "tags": []
          },
          "execution_count": 91
        }
      ]
    },
    {
      "cell_type": "code",
      "metadata": {
        "id": "1RBYXj0xUB86"
      },
      "source": [
        "category_in_years.columns = ['user', 'time', 'category', 'percentage']"
      ],
      "id": "1RBYXj0xUB86",
      "execution_count": null,
      "outputs": []
    },
    {
      "cell_type": "code",
      "metadata": {
        "id": "vm4rvVgrR5M9",
        "colab": {
          "base_uri": "https://localhost:8080/"
        },
        "outputId": "5d5310ee-7189-401d-c300-cf232f132367"
      },
      "source": [
        "(\n",
        "    category_in_years[\n",
        "                      category_in_years['user'] == 'Juliana'\n",
        "                      #& (category_in_years['time'] < 2021)\n",
        "                      ]\n",
        "    .plot(kind='area', x='time', y='percentage', line_group='category', color='category')\n",
        ")"
      ],
      "id": "vm4rvVgrR5M9",
      "execution_count": null,
      "outputs": [
        {
          "output_type": "display_data",
          "data": {
            "text/html": [
              "<html>\n",
              "<head><meta charset=\"utf-8\" /></head>\n",
              "<body>\n",
              "    <div>            <script src=\"https://cdnjs.cloudflare.com/ajax/libs/mathjax/2.7.5/MathJax.js?config=TeX-AMS-MML_SVG\"></script><script type=\"text/javascript\">if (window.MathJax) {MathJax.Hub.Config({SVG: {font: \"STIX-Web\"}});}</script>                <script type=\"text/javascript\">window.PlotlyConfig = {MathJaxConfig: 'local'};</script>\n",
              "        <script src=\"https://cdn.plot.ly/plotly-2.2.0.min.js\"></script>                <div id=\"672bf7dd-da0a-422a-905f-2d0dce3b4eb2\" class=\"plotly-graph-div\" style=\"height:525px; width:100%;\"></div>            <script type=\"text/javascript\">                                    window.PLOTLYENV=window.PLOTLYENV || {};                                    if (document.getElementById(\"672bf7dd-da0a-422a-905f-2d0dce3b4eb2\")) {                    Plotly.newPlot(                        \"672bf7dd-da0a-422a-905f-2d0dce3b4eb2\",                        [{\"hovertemplate\":\"category=Comedy<br>time=%{x}<br>percentage=%{y}<extra></extra>\",\"legendgroup\":\"Comedy\",\"line\":{\"color\":\"#636efa\"},\"mode\":\"lines\",\"name\":\"Comedy\",\"orientation\":\"v\",\"showlegend\":true,\"stackgroup\":\"1\",\"type\":\"scatter\",\"x\":[1,2,3,4,5,6,7,8,9,10,11,12,13,14,15,16,17,18,19,20,21,22,23,24,25,26,27,28,29,30,31],\"xaxis\":\"x\",\"y\":[3.5256410256410255,3.9473684210526314,1.6339869281045754,4.838709677419355,1.694915254237288,2.464788732394366,2.4330900243309004,3.2653061224489797,3.686635944700461,1.2658227848101267,0.6944444444444444,0.45871559633027525,1.0526315789473684,1.079136690647482,2.284263959390863,1.8404907975460123,1.5444015444015444,3.71900826446281,3.4934497816593884,2.6200873362445414,4.263565891472868,6.122448979591836,1.6355140186915886,4.6875,2.4691358024691357,2.240325865580448,1.7241379310344827,3.8363171355498724,6.048387096774194,2.0348837209302326,3.9735099337748347],\"yaxis\":\"y\"},{\"hovertemplate\":\"category=Education<br>time=%{x}<br>percentage=%{y}<extra></extra>\",\"legendgroup\":\"Education\",\"line\":{\"color\":\"#EF553B\"},\"mode\":\"lines\",\"name\":\"Education\",\"orientation\":\"v\",\"showlegend\":true,\"stackgroup\":\"1\",\"type\":\"scatter\",\"x\":[1,2,3,4,5,6,7,8,9,10,11,12,13,14,15,16,17,18,19,20,21,22,23,24,25,26,27,28,29,30,31],\"xaxis\":\"x\",\"y\":[7.051282051282051,10.197368421052632,3.2679738562091507,8.064516129032258,2.0338983050847457,0.7042253521126761,1.70316301703163,1.6326530612244898,3.225806451612903,2.2151898734177213,0.6944444444444444,1.3761467889908259,5.614035087719298,3.9568345323741005,4.060913705583756,1.8404907975460123,2.3166023166023164,2.479338842975207,5.240174672489083,2.6200873362445414,2.7131782945736433,2.857142857142857,2.570093457943925,4.6875,4.11522633744856,3.6659877800407332,6.0344827586206895,3.0690537084398977,2.0161290322580645,3.488372093023256,1.9867549668874174],\"yaxis\":\"y\"},{\"hovertemplate\":\"category=Entertainment<br>time=%{x}<br>percentage=%{y}<extra></extra>\",\"legendgroup\":\"Entertainment\",\"line\":{\"color\":\"#00cc96\"},\"mode\":\"lines\",\"name\":\"Entertainment\",\"orientation\":\"v\",\"showlegend\":true,\"stackgroup\":\"1\",\"type\":\"scatter\",\"x\":[1,2,3,4,5,6,7,8,9,10,11,12,13,14,15,16,17,18,19,20,21,22,23,24,25,26,27,28,29,30,31],\"xaxis\":\"x\",\"y\":[24.358974358974358,21.38157894736842,24.836601307189543,27.419354838709676,21.01694915254237,37.32394366197183,23.600973236009732,22.857142857142858,25.806451612903224,22.468354430379748,27.083333333333332,35.321100917431195,27.017543859649123,25.179856115107913,30.710659898477154,34.355828220858896,35.521235521235525,30.991735537190085,25.327510917030565,20.52401746724891,25.968992248062015,38.775510204081634,24.766355140186917,31.770833333333332,35.390946502057616,25.865580448065174,31.896551724137932,25.063938618925828,31.048387096774192,28.488372093023255,22.516556291390728],\"yaxis\":\"y\"},{\"hovertemplate\":\"category=Gaming<br>time=%{x}<br>percentage=%{y}<extra></extra>\",\"legendgroup\":\"Gaming\",\"line\":{\"color\":\"#ab63fa\"},\"mode\":\"lines\",\"name\":\"Gaming\",\"orientation\":\"v\",\"showlegend\":true,\"stackgroup\":\"1\",\"type\":\"scatter\",\"x\":[1,2,3,4,5,6,7,8,9,10,11,12,13,14,15,16,17,18,19,20,21,22,23,24,25,26,27,28,29,30],\"xaxis\":\"x\",\"y\":[1.282051282051282,0.9868421052631579,0.32679738562091504,2.0161290322580645,0.3389830508474576,1.4084507042253522,1.70316301703163,3.6734693877551026,3.225806451612903,0.6329113924050633,3.4722222222222223,4.587155963302752,4.56140350877193,2.5179856115107913,2.284263959390863,2.147239263803681,4.247104247104247,7.851239669421488,0.8733624454148471,3.056768558951965,4.651162790697675,6.122448979591836,0.7009345794392523,1.5625,1.646090534979424,0.40733197556008144,5.603448275862069,1.5345268542199488,4.435483870967742,2.9069767441860463],\"yaxis\":\"y\"},{\"hovertemplate\":\"category=Howto & Style<br>time=%{x}<br>percentage=%{y}<extra></extra>\",\"legendgroup\":\"Howto & Style\",\"line\":{\"color\":\"#FFA15A\"},\"mode\":\"lines\",\"name\":\"Howto & Style\",\"orientation\":\"v\",\"showlegend\":true,\"stackgroup\":\"1\",\"type\":\"scatter\",\"x\":[1,2,3,4,5,6,7,8,9,10,11,12,14,15,16,17,19,20,22,23,24,25,26,27,28,29,30,31],\"xaxis\":\"x\",\"y\":[3.205128205128205,1.644736842105263,0.32679738562091504,1.6129032258064515,0.6779661016949152,0.7042253521126761,0.48661800486618007,1.6326530612244898,1.3824884792626728,1.89873417721519,0.3472222222222222,0.9174311926605505,0.7194244604316548,2.284263959390863,1.5337423312883436,0.7722007722007722,0.8733624454148471,4.8034934497816595,1.2244897959183674,0.46728971962616817,2.604166666666667,1.2345679012345678,2.0366598778004072,1.293103448275862,0.2557544757033248,1.6129032258064515,0.5813953488372093,1.3245033112582782],\"yaxis\":\"y\"},{\"hovertemplate\":\"category=Music<br>time=%{x}<br>percentage=%{y}<extra></extra>\",\"legendgroup\":\"Music\",\"line\":{\"color\":\"#19d3f3\"},\"mode\":\"lines\",\"name\":\"Music\",\"orientation\":\"v\",\"showlegend\":true,\"stackgroup\":\"1\",\"type\":\"scatter\",\"x\":[1,2,3,4,5,6,7,8,9,10,11,12,13,14,15,16,17,18,19,20,21,22,23,24,25,26,27,28,29,30,31],\"xaxis\":\"x\",\"y\":[23.397435897435898,31.25,35.294117647058826,12.903225806451612,36.94915254237288,22.535211267605636,43.79562043795621,21.224489795918366,23.502304147465438,31.329113924050635,36.80555555555556,28.440366972477065,24.912280701754387,26.258992805755394,28.17258883248731,26.07361963190184,26.640926640926644,21.487603305785125,26.637554585152838,29.257641921397383,23.25581395348837,2.857142857142857,31.074766355140188,17.1875,18.930041152263374,31.975560081466398,10.344827586206897,36.31713554987212,22.983870967741936,28.488372093023255,44.370860927152314],\"yaxis\":\"y\"},{\"hovertemplate\":\"category=Nonprofits &Activism<br>time=%{x}<br>percentage=%{y}<extra></extra>\",\"legendgroup\":\"Nonprofits &Activism\",\"line\":{\"color\":\"#FF6692\"},\"mode\":\"lines\",\"name\":\"Nonprofits &Activism\",\"orientation\":\"v\",\"showlegend\":true,\"stackgroup\":\"1\",\"type\":\"scatter\",\"x\":[1,2,5,6,7,8,9,11,12,13,14,17,18,19,20,22,23,24,25,26,28,29,30,31],\"xaxis\":\"x\",\"y\":[0.3205128205128205,0.3289473684210526,1.3559322033898304,1.4084507042253522,0.24330900243309003,0.8163265306122449,1.8433179723502304,0.3472222222222222,0.9174311926605505,0.3508771929824561,0.3597122302158274,0.3861003861003861,0.4132231404958678,0.43668122270742354,0.8733624454148471,0.40816326530612246,2.102803738317757,1.0416666666666665,0.411522633744856,0.40733197556008144,0.7672634271099744,0.4032258064516129,0.29069767441860467,0.6622516556291391],\"yaxis\":\"y\"},{\"hovertemplate\":\"category=People & Blogs<br>time=%{x}<br>percentage=%{y}<extra></extra>\",\"legendgroup\":\"People & Blogs\",\"line\":{\"color\":\"#B6E880\"},\"mode\":\"lines\",\"name\":\"People & Blogs\",\"orientation\":\"v\",\"showlegend\":true,\"stackgroup\":\"1\",\"type\":\"scatter\",\"x\":[1,2,3,4,5,6,7,8,9,10,11,12,13,14,15,16,17,18,19,20,21,22,23,24,25,26,27,28,29,30,31],\"xaxis\":\"x\",\"y\":[23.717948717948715,22.039473684210524,21.241830065359476,30.64516129032258,23.050847457627118,23.239436619718308,13.138686131386862,30.20408163265306,17.972350230414747,23.10126582278481,20.833333333333336,14.220183486238533,22.45614035087719,26.978417266187048,18.02030456852792,20.245398773006134,18.91891891891892,22.31404958677686,26.637554585152838,24.45414847161572,25.968992248062015,30.20408163265306,23.598130841121495,28.125,25.102880658436217,25.254582484725052,27.586206896551722,21.22762148337596,19.758064516129032,20.058139534883722,17.880794701986755],\"yaxis\":\"y\"},{\"hovertemplate\":\"category=Pets & Animals<br>time=%{x}<br>percentage=%{y}<extra></extra>\",\"legendgroup\":\"Pets & Animals\",\"line\":{\"color\":\"#FF97FF\"},\"mode\":\"lines\",\"name\":\"Pets & Animals\",\"orientation\":\"v\",\"showlegend\":true,\"stackgroup\":\"1\",\"type\":\"scatter\",\"x\":[1,3,7,10,11,17,22,23,30],\"xaxis\":\"x\",\"y\":[0.3205128205128205,0.32679738562091504,0.24330900243309003,0.31645569620253167,0.3472222222222222,0.3861003861003861,0.40816326530612246,0.23364485981308408,0.29069767441860467],\"yaxis\":\"y\"},{\"hovertemplate\":\"category=Science & Technology<br>time=%{x}<br>percentage=%{y}<extra></extra>\",\"legendgroup\":\"Science & Technology\",\"line\":{\"color\":\"#FECB52\"},\"mode\":\"lines\",\"name\":\"Science & Technology\",\"orientation\":\"v\",\"showlegend\":true,\"stackgroup\":\"1\",\"type\":\"scatter\",\"x\":[1,2,3,4,5,6,7,8,9,10,11,12,13,14,15,16,17,18,19,20,21,22,23,24,25,26,27,28,29,30,31],\"xaxis\":\"x\",\"y\":[1.6025641025641024,2.631578947368421,3.9215686274509802,2.82258064516129,2.0338983050847457,1.056338028169014,0.9732360097323601,2.0408163265306123,1.8433179723502304,2.5316455696202533,1.3888888888888888,1.3761467889908259,1.0526315789473684,4.316546762589928,1.015228426395939,2.147239263803681,1.5444015444015444,2.066115702479339,0.8733624454148471,2.6200873362445414,2.7131782945736433,0.8163265306122449,1.4018691588785046,1.0416666666666665,1.2345679012345678,1.0183299389002036,1.7241379310344827,0.5115089514066496,0.4032258064516129,2.3255813953488373,1.3245033112582782],\"yaxis\":\"y\"},{\"hovertemplate\":\"category=Travel & Events<br>time=%{x}<br>percentage=%{y}<extra></extra>\",\"legendgroup\":\"Travel & Events\",\"line\":{\"color\":\"#636efa\"},\"mode\":\"lines\",\"name\":\"Travel & Events\",\"orientation\":\"v\",\"showlegend\":true,\"stackgroup\":\"1\",\"type\":\"scatter\",\"x\":[1,2,3,4,5,6,7,8,9,10,11,12,13,14,15,16,17,18,19,20,21,22,23,24,25,26,27,28,29,30,31],\"xaxis\":\"x\",\"y\":[11.217948717948719,3.289473684210526,7.516339869281046,6.048387096774194,8.47457627118644,6.690140845070422,10.70559610705596,10.204081632653061,13.36405529953917,12.341772151898734,5.902777777777778,10.091743119266056,11.228070175438596,8.273381294964029,8.375634517766498,8.588957055214724,4.633204633204633,6.198347107438017,6.986899563318777,5.240174672489083,8.914728682170542,8.571428571428571,8.878504672897195,6.25,6.584362139917696,3.6659877800407332,13.36206896551724,6.3938618925831205,9.67741935483871,8.430232558139535,2.6490066225165565],\"yaxis\":\"y\"},{\"hovertemplate\":\"category=Autos & Vehicles<br>time=%{x}<br>percentage=%{y}<extra></extra>\",\"legendgroup\":\"Autos & Vehicles\",\"line\":{\"color\":\"#EF553B\"},\"mode\":\"lines\",\"name\":\"Autos & Vehicles\",\"orientation\":\"v\",\"showlegend\":true,\"stackgroup\":\"1\",\"type\":\"scatter\",\"x\":[2,4,15,22,26,28,30,31],\"xaxis\":\"x\",\"y\":[0.6578947368421052,2.0161290322580645,0.25380710659898476,0.40816326530612246,0.20366598778004072,0.2557544757033248,0.872093023255814,1.3245033112582782],\"yaxis\":\"y\"},{\"hovertemplate\":\"category=Film & Animation<br>time=%{x}<br>percentage=%{y}<extra></extra>\",\"legendgroup\":\"Film & Animation\",\"line\":{\"color\":\"#00cc96\"},\"mode\":\"lines\",\"name\":\"Film & Animation\",\"orientation\":\"v\",\"showlegend\":true,\"stackgroup\":\"1\",\"type\":\"scatter\",\"x\":[2,3,4,5,6,7,8,9,10,11,12,13,15,16,17,18,19,20,23,24,25,26,27,28,29,30],\"xaxis\":\"x\",\"y\":[0.6578947368421052,0.32679738562091504,0.8064516129032258,2.0338983050847457,0.35211267605633806,0.24330900243309003,1.2244897959183674,3.225806451612903,0.31645569620253167,2.083333333333333,1.834862385321101,0.3508771929824561,1.015228426395939,1.2269938650306749,1.1583011583011582,2.066115702479339,1.3100436681222707,1.3100436681222707,1.4018691588785046,0.5208333333333333,1.646090534979424,2.240325865580448,0.43103448275862066,0.2557544757033248,0.8064516129032258,0.5813953488372093],\"yaxis\":\"y\"},{\"hovertemplate\":\"category=News & Politics<br>time=%{x}<br>percentage=%{y}<extra></extra>\",\"legendgroup\":\"News & Politics\",\"line\":{\"color\":\"#ab63fa\"},\"mode\":\"lines\",\"name\":\"News & Politics\",\"orientation\":\"v\",\"showlegend\":true,\"stackgroup\":\"1\",\"type\":\"scatter\",\"x\":[2,3,4,5,6,10,12,13,14,15,17,19,20,21,22,23,25,26,28,29,30,31],\"xaxis\":\"x\",\"y\":[0.3289473684210526,0.9803921568627451,0.4032258064516129,0.3389830508474576,1.7605633802816902,1.5822784810126582,0.45871559633027525,0.7017543859649122,0.3597122302158274,1.5228426395939088,0.7722007722007722,1.3100436681222707,1.7467248908296942,1.1627906976744187,0.40816326530612246,0.9345794392523363,1.2345679012345678,0.6109979633401221,0.5115089514066496,0.4032258064516129,0.5813953488372093,0.6622516556291391],\"yaxis\":\"y\"},{\"hovertemplate\":\"category=Sports<br>time=%{x}<br>percentage=%{y}<extra></extra>\",\"legendgroup\":\"Sports\",\"line\":{\"color\":\"#FFA15A\"},\"mode\":\"lines\",\"name\":\"Sports\",\"orientation\":\"v\",\"showlegend\":true,\"stackgroup\":\"1\",\"type\":\"scatter\",\"x\":[2,8,13,17,18,20,21,22,24,30],\"xaxis\":\"x\",\"y\":[0.3289473684210526,0.40816326530612246,0.3508771929824561,1.1583011583011582,0.4132231404958678,0.43668122270742354,0.3875968992248062,0.40816326530612246,0.5208333333333333,0.29069767441860467],\"yaxis\":\"y\"},{\"hovertemplate\":\"category=Trailers<br>time=%{x}<br>percentage=%{y}<extra></extra>\",\"legendgroup\":\"Trailers\",\"line\":{\"color\":\"#19d3f3\"},\"mode\":\"lines\",\"name\":\"Trailers\",\"orientation\":\"v\",\"showlegend\":true,\"stackgroup\":\"1\",\"type\":\"scatter\",\"x\":[2,4,6,7,8,9,13,20,23,26,29,30,31],\"xaxis\":\"x\",\"y\":[0.3289473684210526,0.4032258064516129,0.35211267605633806,0.7299270072992701,0.40816326530612246,0.9216589861751152,0.3508771929824561,0.43668122270742354,0.23364485981308408,0.40733197556008144,0.4032258064516129,0.29069767441860467,0.6622516556291391],\"yaxis\":\"y\"},{\"hovertemplate\":\"category=00<br>time=%{x}<br>percentage=%{y}<extra></extra>\",\"legendgroup\":\"00\",\"line\":{\"color\":\"#FF6692\"},\"mode\":\"lines\",\"name\":\"00\",\"orientation\":\"v\",\"showlegend\":true,\"stackgroup\":\"1\",\"type\":\"scatter\",\"x\":[8,22,31],\"xaxis\":\"x\",\"y\":[0.40816326530612246,0.40816326530612246,0.6622516556291391],\"yaxis\":\"y\"}],                        {\"legend\":{\"title\":{\"text\":\"category\"},\"tracegroupgap\":0},\"margin\":{\"t\":60},\"template\":{\"data\":{\"bar\":[{\"error_x\":{\"color\":\"#2a3f5f\"},\"error_y\":{\"color\":\"#2a3f5f\"},\"marker\":{\"line\":{\"color\":\"#E5ECF6\",\"width\":0.5},\"pattern\":{\"fillmode\":\"overlay\",\"size\":10,\"solidity\":0.2}},\"type\":\"bar\"}],\"barpolar\":[{\"marker\":{\"line\":{\"color\":\"#E5ECF6\",\"width\":0.5},\"pattern\":{\"fillmode\":\"overlay\",\"size\":10,\"solidity\":0.2}},\"type\":\"barpolar\"}],\"carpet\":[{\"aaxis\":{\"endlinecolor\":\"#2a3f5f\",\"gridcolor\":\"white\",\"linecolor\":\"white\",\"minorgridcolor\":\"white\",\"startlinecolor\":\"#2a3f5f\"},\"baxis\":{\"endlinecolor\":\"#2a3f5f\",\"gridcolor\":\"white\",\"linecolor\":\"white\",\"minorgridcolor\":\"white\",\"startlinecolor\":\"#2a3f5f\"},\"type\":\"carpet\"}],\"choropleth\":[{\"colorbar\":{\"outlinewidth\":0,\"ticks\":\"\"},\"type\":\"choropleth\"}],\"contour\":[{\"colorbar\":{\"outlinewidth\":0,\"ticks\":\"\"},\"colorscale\":[[0.0,\"#0d0887\"],[0.1111111111111111,\"#46039f\"],[0.2222222222222222,\"#7201a8\"],[0.3333333333333333,\"#9c179e\"],[0.4444444444444444,\"#bd3786\"],[0.5555555555555556,\"#d8576b\"],[0.6666666666666666,\"#ed7953\"],[0.7777777777777778,\"#fb9f3a\"],[0.8888888888888888,\"#fdca26\"],[1.0,\"#f0f921\"]],\"type\":\"contour\"}],\"contourcarpet\":[{\"colorbar\":{\"outlinewidth\":0,\"ticks\":\"\"},\"type\":\"contourcarpet\"}],\"heatmap\":[{\"colorbar\":{\"outlinewidth\":0,\"ticks\":\"\"},\"colorscale\":[[0.0,\"#0d0887\"],[0.1111111111111111,\"#46039f\"],[0.2222222222222222,\"#7201a8\"],[0.3333333333333333,\"#9c179e\"],[0.4444444444444444,\"#bd3786\"],[0.5555555555555556,\"#d8576b\"],[0.6666666666666666,\"#ed7953\"],[0.7777777777777778,\"#fb9f3a\"],[0.8888888888888888,\"#fdca26\"],[1.0,\"#f0f921\"]],\"type\":\"heatmap\"}],\"heatmapgl\":[{\"colorbar\":{\"outlinewidth\":0,\"ticks\":\"\"},\"colorscale\":[[0.0,\"#0d0887\"],[0.1111111111111111,\"#46039f\"],[0.2222222222222222,\"#7201a8\"],[0.3333333333333333,\"#9c179e\"],[0.4444444444444444,\"#bd3786\"],[0.5555555555555556,\"#d8576b\"],[0.6666666666666666,\"#ed7953\"],[0.7777777777777778,\"#fb9f3a\"],[0.8888888888888888,\"#fdca26\"],[1.0,\"#f0f921\"]],\"type\":\"heatmapgl\"}],\"histogram\":[{\"marker\":{\"pattern\":{\"fillmode\":\"overlay\",\"size\":10,\"solidity\":0.2}},\"type\":\"histogram\"}],\"histogram2d\":[{\"colorbar\":{\"outlinewidth\":0,\"ticks\":\"\"},\"colorscale\":[[0.0,\"#0d0887\"],[0.1111111111111111,\"#46039f\"],[0.2222222222222222,\"#7201a8\"],[0.3333333333333333,\"#9c179e\"],[0.4444444444444444,\"#bd3786\"],[0.5555555555555556,\"#d8576b\"],[0.6666666666666666,\"#ed7953\"],[0.7777777777777778,\"#fb9f3a\"],[0.8888888888888888,\"#fdca26\"],[1.0,\"#f0f921\"]],\"type\":\"histogram2d\"}],\"histogram2dcontour\":[{\"colorbar\":{\"outlinewidth\":0,\"ticks\":\"\"},\"colorscale\":[[0.0,\"#0d0887\"],[0.1111111111111111,\"#46039f\"],[0.2222222222222222,\"#7201a8\"],[0.3333333333333333,\"#9c179e\"],[0.4444444444444444,\"#bd3786\"],[0.5555555555555556,\"#d8576b\"],[0.6666666666666666,\"#ed7953\"],[0.7777777777777778,\"#fb9f3a\"],[0.8888888888888888,\"#fdca26\"],[1.0,\"#f0f921\"]],\"type\":\"histogram2dcontour\"}],\"mesh3d\":[{\"colorbar\":{\"outlinewidth\":0,\"ticks\":\"\"},\"type\":\"mesh3d\"}],\"parcoords\":[{\"line\":{\"colorbar\":{\"outlinewidth\":0,\"ticks\":\"\"}},\"type\":\"parcoords\"}],\"pie\":[{\"automargin\":true,\"type\":\"pie\"}],\"scatter\":[{\"marker\":{\"colorbar\":{\"outlinewidth\":0,\"ticks\":\"\"}},\"type\":\"scatter\"}],\"scatter3d\":[{\"line\":{\"colorbar\":{\"outlinewidth\":0,\"ticks\":\"\"}},\"marker\":{\"colorbar\":{\"outlinewidth\":0,\"ticks\":\"\"}},\"type\":\"scatter3d\"}],\"scattercarpet\":[{\"marker\":{\"colorbar\":{\"outlinewidth\":0,\"ticks\":\"\"}},\"type\":\"scattercarpet\"}],\"scattergeo\":[{\"marker\":{\"colorbar\":{\"outlinewidth\":0,\"ticks\":\"\"}},\"type\":\"scattergeo\"}],\"scattergl\":[{\"marker\":{\"colorbar\":{\"outlinewidth\":0,\"ticks\":\"\"}},\"type\":\"scattergl\"}],\"scattermapbox\":[{\"marker\":{\"colorbar\":{\"outlinewidth\":0,\"ticks\":\"\"}},\"type\":\"scattermapbox\"}],\"scatterpolar\":[{\"marker\":{\"colorbar\":{\"outlinewidth\":0,\"ticks\":\"\"}},\"type\":\"scatterpolar\"}],\"scatterpolargl\":[{\"marker\":{\"colorbar\":{\"outlinewidth\":0,\"ticks\":\"\"}},\"type\":\"scatterpolargl\"}],\"scatterternary\":[{\"marker\":{\"colorbar\":{\"outlinewidth\":0,\"ticks\":\"\"}},\"type\":\"scatterternary\"}],\"surface\":[{\"colorbar\":{\"outlinewidth\":0,\"ticks\":\"\"},\"colorscale\":[[0.0,\"#0d0887\"],[0.1111111111111111,\"#46039f\"],[0.2222222222222222,\"#7201a8\"],[0.3333333333333333,\"#9c179e\"],[0.4444444444444444,\"#bd3786\"],[0.5555555555555556,\"#d8576b\"],[0.6666666666666666,\"#ed7953\"],[0.7777777777777778,\"#fb9f3a\"],[0.8888888888888888,\"#fdca26\"],[1.0,\"#f0f921\"]],\"type\":\"surface\"}],\"table\":[{\"cells\":{\"fill\":{\"color\":\"#EBF0F8\"},\"line\":{\"color\":\"white\"}},\"header\":{\"fill\":{\"color\":\"#C8D4E3\"},\"line\":{\"color\":\"white\"}},\"type\":\"table\"}]},\"layout\":{\"annotationdefaults\":{\"arrowcolor\":\"#2a3f5f\",\"arrowhead\":0,\"arrowwidth\":1},\"autotypenumbers\":\"strict\",\"coloraxis\":{\"colorbar\":{\"outlinewidth\":0,\"ticks\":\"\"}},\"colorscale\":{\"diverging\":[[0,\"#8e0152\"],[0.1,\"#c51b7d\"],[0.2,\"#de77ae\"],[0.3,\"#f1b6da\"],[0.4,\"#fde0ef\"],[0.5,\"#f7f7f7\"],[0.6,\"#e6f5d0\"],[0.7,\"#b8e186\"],[0.8,\"#7fbc41\"],[0.9,\"#4d9221\"],[1,\"#276419\"]],\"sequential\":[[0.0,\"#0d0887\"],[0.1111111111111111,\"#46039f\"],[0.2222222222222222,\"#7201a8\"],[0.3333333333333333,\"#9c179e\"],[0.4444444444444444,\"#bd3786\"],[0.5555555555555556,\"#d8576b\"],[0.6666666666666666,\"#ed7953\"],[0.7777777777777778,\"#fb9f3a\"],[0.8888888888888888,\"#fdca26\"],[1.0,\"#f0f921\"]],\"sequentialminus\":[[0.0,\"#0d0887\"],[0.1111111111111111,\"#46039f\"],[0.2222222222222222,\"#7201a8\"],[0.3333333333333333,\"#9c179e\"],[0.4444444444444444,\"#bd3786\"],[0.5555555555555556,\"#d8576b\"],[0.6666666666666666,\"#ed7953\"],[0.7777777777777778,\"#fb9f3a\"],[0.8888888888888888,\"#fdca26\"],[1.0,\"#f0f921\"]]},\"colorway\":[\"#636efa\",\"#EF553B\",\"#00cc96\",\"#ab63fa\",\"#FFA15A\",\"#19d3f3\",\"#FF6692\",\"#B6E880\",\"#FF97FF\",\"#FECB52\"],\"font\":{\"color\":\"#2a3f5f\"},\"geo\":{\"bgcolor\":\"white\",\"lakecolor\":\"white\",\"landcolor\":\"#E5ECF6\",\"showlakes\":true,\"showland\":true,\"subunitcolor\":\"white\"},\"hoverlabel\":{\"align\":\"left\"},\"hovermode\":\"closest\",\"mapbox\":{\"style\":\"light\"},\"paper_bgcolor\":\"white\",\"plot_bgcolor\":\"#E5ECF6\",\"polar\":{\"angularaxis\":{\"gridcolor\":\"white\",\"linecolor\":\"white\",\"ticks\":\"\"},\"bgcolor\":\"#E5ECF6\",\"radialaxis\":{\"gridcolor\":\"white\",\"linecolor\":\"white\",\"ticks\":\"\"}},\"scene\":{\"xaxis\":{\"backgroundcolor\":\"#E5ECF6\",\"gridcolor\":\"white\",\"gridwidth\":2,\"linecolor\":\"white\",\"showbackground\":true,\"ticks\":\"\",\"zerolinecolor\":\"white\"},\"yaxis\":{\"backgroundcolor\":\"#E5ECF6\",\"gridcolor\":\"white\",\"gridwidth\":2,\"linecolor\":\"white\",\"showbackground\":true,\"ticks\":\"\",\"zerolinecolor\":\"white\"},\"zaxis\":{\"backgroundcolor\":\"#E5ECF6\",\"gridcolor\":\"white\",\"gridwidth\":2,\"linecolor\":\"white\",\"showbackground\":true,\"ticks\":\"\",\"zerolinecolor\":\"white\"}},\"shapedefaults\":{\"line\":{\"color\":\"#2a3f5f\"}},\"ternary\":{\"aaxis\":{\"gridcolor\":\"white\",\"linecolor\":\"white\",\"ticks\":\"\"},\"baxis\":{\"gridcolor\":\"white\",\"linecolor\":\"white\",\"ticks\":\"\"},\"bgcolor\":\"#E5ECF6\",\"caxis\":{\"gridcolor\":\"white\",\"linecolor\":\"white\",\"ticks\":\"\"}},\"title\":{\"x\":0.05},\"xaxis\":{\"automargin\":true,\"gridcolor\":\"white\",\"linecolor\":\"white\",\"ticks\":\"\",\"title\":{\"standoff\":15},\"zerolinecolor\":\"white\",\"zerolinewidth\":2},\"yaxis\":{\"automargin\":true,\"gridcolor\":\"white\",\"linecolor\":\"white\",\"ticks\":\"\",\"title\":{\"standoff\":15},\"zerolinecolor\":\"white\",\"zerolinewidth\":2}}},\"xaxis\":{\"anchor\":\"y\",\"domain\":[0.0,1.0],\"title\":{\"text\":\"time\"}},\"yaxis\":{\"anchor\":\"x\",\"domain\":[0.0,1.0],\"title\":{\"text\":\"percentage\"}}},                        {\"responsive\": true}                    ).then(function(){\n",
              "                            \n",
              "var gd = document.getElementById('672bf7dd-da0a-422a-905f-2d0dce3b4eb2');\n",
              "var x = new MutationObserver(function (mutations, observer) {{\n",
              "        var display = window.getComputedStyle(gd).display;\n",
              "        if (!display || display === 'none') {{\n",
              "            console.log([gd, 'removed!']);\n",
              "            Plotly.purge(gd);\n",
              "            observer.disconnect();\n",
              "        }}\n",
              "}});\n",
              "\n",
              "// Listen for the removal of the full notebook cells\n",
              "var notebookContainer = gd.closest('#notebook-container');\n",
              "if (notebookContainer) {{\n",
              "    x.observe(notebookContainer, {childList: true});\n",
              "}}\n",
              "\n",
              "// Listen for the clearing of the current output cell\n",
              "var outputEl = gd.closest('.output');\n",
              "if (outputEl) {{\n",
              "    x.observe(outputEl, {childList: true});\n",
              "}}\n",
              "\n",
              "                        })                };                            </script>        </div>\n",
              "</body>\n",
              "</html>"
            ]
          },
          "metadata": {
            "tags": []
          }
        }
      ]
    },
    {
      "cell_type": "markdown",
      "metadata": {
        "id": "-aayaQPo-DnF"
      },
      "source": [
        "### Quais categorias de vídeos são mais vistos em diferentes horários?"
      ],
      "id": "-aayaQPo-DnF"
    },
    {
      "cell_type": "code",
      "metadata": {
        "id": "p5Iky_518vXi",
        "colab": {
          "base_uri": "https://localhost:8080/",
          "height": 362
        },
        "outputId": "dccc3848-0ab2-4420-95ba-6522f3bd9b5a"
      },
      "source": [
        "category_in_years = (\n",
        "    yt\n",
        "    .groupby(['user', yt.time.dt.hour, 'category'])\n",
        "    .size()\n",
        "    .groupby(level=[0, 1])\n",
        "    .apply(lambda x: (x / x.sum()) * 100)\n",
        ").reset_index()\n",
        "category_in_years.head(10)"
      ],
      "id": "p5Iky_518vXi",
      "execution_count": null,
      "outputs": [
        {
          "output_type": "execute_result",
          "data": {
            "text/html": [
              "<div>\n",
              "<style scoped>\n",
              "    .dataframe tbody tr th:only-of-type {\n",
              "        vertical-align: middle;\n",
              "    }\n",
              "\n",
              "    .dataframe tbody tr th {\n",
              "        vertical-align: top;\n",
              "    }\n",
              "\n",
              "    .dataframe thead th {\n",
              "        text-align: right;\n",
              "    }\n",
              "</style>\n",
              "<table border=\"1\" class=\"dataframe\">\n",
              "  <thead>\n",
              "    <tr style=\"text-align: right;\">\n",
              "      <th></th>\n",
              "      <th>user</th>\n",
              "      <th>time</th>\n",
              "      <th>category</th>\n",
              "      <th>0</th>\n",
              "    </tr>\n",
              "  </thead>\n",
              "  <tbody>\n",
              "    <tr>\n",
              "      <th>0</th>\n",
              "      <td>Juliana</td>\n",
              "      <td>0</td>\n",
              "      <td>Autos &amp; Vehicles</td>\n",
              "      <td>0.353357</td>\n",
              "    </tr>\n",
              "    <tr>\n",
              "      <th>1</th>\n",
              "      <td>Juliana</td>\n",
              "      <td>0</td>\n",
              "      <td>Comedy</td>\n",
              "      <td>2.826855</td>\n",
              "    </tr>\n",
              "    <tr>\n",
              "      <th>2</th>\n",
              "      <td>Juliana</td>\n",
              "      <td>0</td>\n",
              "      <td>Education</td>\n",
              "      <td>2.650177</td>\n",
              "    </tr>\n",
              "    <tr>\n",
              "      <th>3</th>\n",
              "      <td>Juliana</td>\n",
              "      <td>0</td>\n",
              "      <td>Entertainment</td>\n",
              "      <td>29.681979</td>\n",
              "    </tr>\n",
              "    <tr>\n",
              "      <th>4</th>\n",
              "      <td>Juliana</td>\n",
              "      <td>0</td>\n",
              "      <td>Film &amp; Animation</td>\n",
              "      <td>0.883392</td>\n",
              "    </tr>\n",
              "    <tr>\n",
              "      <th>5</th>\n",
              "      <td>Juliana</td>\n",
              "      <td>0</td>\n",
              "      <td>Gaming</td>\n",
              "      <td>5.123675</td>\n",
              "    </tr>\n",
              "    <tr>\n",
              "      <th>6</th>\n",
              "      <td>Juliana</td>\n",
              "      <td>0</td>\n",
              "      <td>Howto &amp; Style</td>\n",
              "      <td>1.236749</td>\n",
              "    </tr>\n",
              "    <tr>\n",
              "      <th>7</th>\n",
              "      <td>Juliana</td>\n",
              "      <td>0</td>\n",
              "      <td>Music</td>\n",
              "      <td>10.954064</td>\n",
              "    </tr>\n",
              "    <tr>\n",
              "      <th>8</th>\n",
              "      <td>Juliana</td>\n",
              "      <td>0</td>\n",
              "      <td>News &amp; Politics</td>\n",
              "      <td>0.883392</td>\n",
              "    </tr>\n",
              "    <tr>\n",
              "      <th>9</th>\n",
              "      <td>Juliana</td>\n",
              "      <td>0</td>\n",
              "      <td>Nonprofits &amp;Activism</td>\n",
              "      <td>0.530035</td>\n",
              "    </tr>\n",
              "  </tbody>\n",
              "</table>\n",
              "</div>"
            ],
            "text/plain": [
              "      user  time              category          0\n",
              "0  Juliana     0      Autos & Vehicles   0.353357\n",
              "1  Juliana     0                Comedy   2.826855\n",
              "2  Juliana     0             Education   2.650177\n",
              "3  Juliana     0         Entertainment  29.681979\n",
              "4  Juliana     0      Film & Animation   0.883392\n",
              "5  Juliana     0                Gaming   5.123675\n",
              "6  Juliana     0         Howto & Style   1.236749\n",
              "7  Juliana     0                 Music  10.954064\n",
              "8  Juliana     0       News & Politics   0.883392\n",
              "9  Juliana     0  Nonprofits &Activism   0.530035"
            ]
          },
          "metadata": {
            "tags": []
          },
          "execution_count": 94
        }
      ]
    },
    {
      "cell_type": "markdown",
      "metadata": {
        "id": "__NTjAG2BDpy"
      },
      "source": [
        "### Quais os canais mais assistidos?"
      ],
      "id": "__NTjAG2BDpy"
    },
    {
      "cell_type": "code",
      "metadata": {
        "id": "P7ERls0mBTSY",
        "colab": {
          "base_uri": "https://localhost:8080/",
          "height": 166
        },
        "outputId": "bcbb99e7-a54e-4d87-c275-b53a0c812982"
      },
      "source": [
        "channel[(channel.user == 'Juliana')].sort_values(by='size', ascending=False).head(10)"
      ],
      "id": "P7ERls0mBTSY",
      "execution_count": null,
      "outputs": [
        {
          "output_type": "error",
          "ename": "NameError",
          "evalue": "ignored",
          "traceback": [
            "\u001b[0;31m---------------------------------------------------------------------------\u001b[0m",
            "\u001b[0;31mNameError\u001b[0m                                 Traceback (most recent call last)",
            "\u001b[0;32m<ipython-input-95-ace372df1304>\u001b[0m in \u001b[0;36m<module>\u001b[0;34m()\u001b[0m\n\u001b[0;32m----> 1\u001b[0;31m \u001b[0mchannel\u001b[0m\u001b[0;34m[\u001b[0m\u001b[0;34m(\u001b[0m\u001b[0mchannel\u001b[0m\u001b[0;34m.\u001b[0m\u001b[0muser\u001b[0m \u001b[0;34m==\u001b[0m \u001b[0;34m'Juliana'\u001b[0m\u001b[0;34m)\u001b[0m\u001b[0;34m]\u001b[0m\u001b[0;34m.\u001b[0m\u001b[0msort_values\u001b[0m\u001b[0;34m(\u001b[0m\u001b[0mby\u001b[0m\u001b[0;34m=\u001b[0m\u001b[0;34m'size'\u001b[0m\u001b[0;34m,\u001b[0m \u001b[0mascending\u001b[0m\u001b[0;34m=\u001b[0m\u001b[0;32mFalse\u001b[0m\u001b[0;34m)\u001b[0m\u001b[0;34m.\u001b[0m\u001b[0mhead\u001b[0m\u001b[0;34m(\u001b[0m\u001b[0;36m10\u001b[0m\u001b[0;34m)\u001b[0m\u001b[0;34m\u001b[0m\u001b[0;34m\u001b[0m\u001b[0m\n\u001b[0m",
            "\u001b[0;31mNameError\u001b[0m: name 'channel' is not defined"
          ]
        }
      ]
    },
    {
      "cell_type": "code",
      "metadata": {
        "id": "Fcfb_YAxJQG2",
        "colab": {
          "base_uri": "https://localhost:8080/",
          "height": 166
        },
        "outputId": "66a4b7a9-b493-4cdd-fae0-456e7c737056"
      },
      "source": [
        "channel[(channel.user == 'Patryck')].sort_values(by='size', ascending=False).head(10)"
      ],
      "id": "Fcfb_YAxJQG2",
      "execution_count": null,
      "outputs": [
        {
          "output_type": "error",
          "ename": "NameError",
          "evalue": "ignored",
          "traceback": [
            "\u001b[0;31m---------------------------------------------------------------------------\u001b[0m",
            "\u001b[0;31mNameError\u001b[0m                                 Traceback (most recent call last)",
            "\u001b[0;32m<ipython-input-96-92d2bd97ff23>\u001b[0m in \u001b[0;36m<module>\u001b[0;34m()\u001b[0m\n\u001b[0;32m----> 1\u001b[0;31m \u001b[0mchannel\u001b[0m\u001b[0;34m[\u001b[0m\u001b[0;34m(\u001b[0m\u001b[0mchannel\u001b[0m\u001b[0;34m.\u001b[0m\u001b[0muser\u001b[0m \u001b[0;34m==\u001b[0m \u001b[0;34m'Patryck'\u001b[0m\u001b[0;34m)\u001b[0m\u001b[0;34m]\u001b[0m\u001b[0;34m.\u001b[0m\u001b[0msort_values\u001b[0m\u001b[0;34m(\u001b[0m\u001b[0mby\u001b[0m\u001b[0;34m=\u001b[0m\u001b[0;34m'size'\u001b[0m\u001b[0;34m,\u001b[0m \u001b[0mascending\u001b[0m\u001b[0;34m=\u001b[0m\u001b[0;32mFalse\u001b[0m\u001b[0;34m)\u001b[0m\u001b[0;34m.\u001b[0m\u001b[0mhead\u001b[0m\u001b[0;34m(\u001b[0m\u001b[0;36m10\u001b[0m\u001b[0;34m)\u001b[0m\u001b[0;34m\u001b[0m\u001b[0;34m\u001b[0m\u001b[0m\n\u001b[0m",
            "\u001b[0;31mNameError\u001b[0m: name 'channel' is not defined"
          ]
        }
      ]
    },
    {
      "cell_type": "code",
      "metadata": {
        "id": "t8UG1YfGr-z0"
      },
      "source": [
        "channel[(channel.user == 'Vithor')].sort_values(by='size', ascending=False).head(10)"
      ],
      "id": "t8UG1YfGr-z0",
      "execution_count": null,
      "outputs": []
    },
    {
      "cell_type": "markdown",
      "metadata": {
        "id": "vkf_XADVNbsG"
      },
      "source": [
        "### Categorias mais vistas nos diferentes periodos do dia"
      ],
      "id": "vkf_XADVNbsG"
    },
    {
      "cell_type": "code",
      "metadata": {
        "id": "gNWsH-3xNhrM"
      },
      "source": [
        "category_in_day = (\n",
        "    yt\n",
        "    .groupby(['user', 'period_day', 'category'])\n",
        "    .size()\n",
        "    .groupby(level=[0, 1])\n",
        "    .apply(lambda x: (x / x.sum()) * 100)\n",
        ").reset_index()"
      ],
      "id": "gNWsH-3xNhrM",
      "execution_count": null,
      "outputs": []
    },
    {
      "cell_type": "code",
      "metadata": {
        "id": "h_gHz0vENnZD"
      },
      "source": [
        "category_in_day.columns = ['user','time','category','percentage']"
      ],
      "id": "h_gHz0vENnZD",
      "execution_count": null,
      "outputs": []
    },
    {
      "cell_type": "code",
      "metadata": {
        "id": "vMvVceiDPhN-",
        "colab": {
          "base_uri": "https://localhost:8080/",
          "height": 542
        },
        "outputId": "452d5489-2e60-488b-f6ad-b0fd61088764"
      },
      "source": [
        "(\n",
        "   category_in_day\n",
        "  .query('user == \"Vithor\"')\n",
        "  .plot(\n",
        "        kind='bar',\n",
        "        x = 'time',\n",
        "        y='percentage',\n",
        "        color = 'category',\n",
        "        barmode = 'group')\n",
        ")"
      ],
      "id": "vMvVceiDPhN-",
      "execution_count": null,
      "outputs": [
        {
          "output_type": "display_data",
          "data": {
            "text/html": [
              "<html>\n",
              "<head><meta charset=\"utf-8\" /></head>\n",
              "<body>\n",
              "    <div>            <script src=\"https://cdnjs.cloudflare.com/ajax/libs/mathjax/2.7.5/MathJax.js?config=TeX-AMS-MML_SVG\"></script><script type=\"text/javascript\">if (window.MathJax) {MathJax.Hub.Config({SVG: {font: \"STIX-Web\"}});}</script>                <script type=\"text/javascript\">window.PlotlyConfig = {MathJaxConfig: 'local'};</script>\n",
              "        <script src=\"https://cdn.plot.ly/plotly-2.2.0.min.js\"></script>                <div id=\"8c6b47fa-a6f9-4282-b198-173137105d99\" class=\"plotly-graph-div\" style=\"height:525px; width:100%;\"></div>            <script type=\"text/javascript\">                                    window.PLOTLYENV=window.PLOTLYENV || {};                                    if (document.getElementById(\"8c6b47fa-a6f9-4282-b198-173137105d99\")) {                    Plotly.newPlot(                        \"8c6b47fa-a6f9-4282-b198-173137105d99\",                        [{\"alignmentgroup\":\"True\",\"hovertemplate\":\"category=Comedy<br>time=%{x}<br>percentage=%{y}<extra></extra>\",\"legendgroup\":\"Comedy\",\"marker\":{\"color\":\"#636efa\",\"pattern\":{\"shape\":\"\"}},\"name\":\"Comedy\",\"offsetgroup\":\"Comedy\",\"orientation\":\"v\",\"showlegend\":true,\"textposition\":\"auto\",\"type\":\"bar\",\"x\":[\"Madrugada\",\"Manh\\u00e3\",\"Noite\",\"Tarde\"],\"xaxis\":\"x\",\"y\":[5.5762081784386615,2.7868852459016393,3.3312769895126464,3.009328919650918],\"yaxis\":\"y\"},{\"alignmentgroup\":\"True\",\"hovertemplate\":\"category=Education<br>time=%{x}<br>percentage=%{y}<extra></extra>\",\"legendgroup\":\"Education\",\"marker\":{\"color\":\"#EF553B\",\"pattern\":{\"shape\":\"\"}},\"name\":\"Education\",\"offsetgroup\":\"Education\",\"orientation\":\"v\",\"showlegend\":true,\"textposition\":\"auto\",\"type\":\"bar\",\"x\":[\"Madrugada\",\"Manh\\u00e3\",\"Noite\",\"Tarde\"],\"xaxis\":\"x\",\"y\":[4.83271375464684,6.360655737704918,4.59592843923504,5.687631658140234],\"yaxis\":\"y\"},{\"alignmentgroup\":\"True\",\"hovertemplate\":\"category=Entertainment<br>time=%{x}<br>percentage=%{y}<extra></extra>\",\"legendgroup\":\"Entertainment\",\"marker\":{\"color\":\"#00cc96\",\"pattern\":{\"shape\":\"\"}},\"name\":\"Entertainment\",\"offsetgroup\":\"Entertainment\",\"orientation\":\"v\",\"showlegend\":true,\"textposition\":\"auto\",\"type\":\"bar\",\"x\":[\"Madrugada\",\"Manh\\u00e3\",\"Noite\",\"Tarde\"],\"xaxis\":\"x\",\"y\":[23.79182156133829,17.704918032786885,13.78778531770512,16.882335239241648],\"yaxis\":\"y\"},{\"alignmentgroup\":\"True\",\"hovertemplate\":\"category=Film & Animation<br>time=%{x}<br>percentage=%{y}<extra></extra>\",\"legendgroup\":\"Film & Animation\",\"marker\":{\"color\":\"#ab63fa\",\"pattern\":{\"shape\":\"\"}},\"name\":\"Film & Animation\",\"offsetgroup\":\"Film & Animation\",\"orientation\":\"v\",\"showlegend\":true,\"textposition\":\"auto\",\"type\":\"bar\",\"x\":[\"Madrugada\",\"Manh\\u00e3\",\"Noite\",\"Tarde\"],\"xaxis\":\"x\",\"y\":[2.2304832713754648,2.3934426229508197,2.405922270203578,2.497743003310262],\"yaxis\":\"y\"},{\"alignmentgroup\":\"True\",\"hovertemplate\":\"category=Gaming<br>time=%{x}<br>percentage=%{y}<extra></extra>\",\"legendgroup\":\"Gaming\",\"marker\":{\"color\":\"#FFA15A\",\"pattern\":{\"shape\":\"\"}},\"name\":\"Gaming\",\"offsetgroup\":\"Gaming\",\"orientation\":\"v\",\"showlegend\":true,\"textposition\":\"auto\",\"type\":\"bar\",\"x\":[\"Madrugada\",\"Manh\\u00e3\",\"Noite\",\"Tarde\"],\"xaxis\":\"x\",\"y\":[11.524163568773234,15.377049180327868,12.245527452190007,15.377670779416192],\"yaxis\":\"y\"},{\"alignmentgroup\":\"True\",\"hovertemplate\":\"category=Howto & Style<br>time=%{x}<br>percentage=%{y}<extra></extra>\",\"legendgroup\":\"Howto & Style\",\"marker\":{\"color\":\"#19d3f3\",\"pattern\":{\"shape\":\"\"}},\"name\":\"Howto & Style\",\"offsetgroup\":\"Howto & Style\",\"orientation\":\"v\",\"showlegend\":true,\"textposition\":\"auto\",\"type\":\"bar\",\"x\":[\"Madrugada\",\"Manh\\u00e3\",\"Noite\",\"Tarde\"],\"xaxis\":\"x\",\"y\":[0.37174721189591076,2.2295081967213117,1.4805675508945095,1.6551309058080048],\"yaxis\":\"y\"},{\"alignmentgroup\":\"True\",\"hovertemplate\":\"category=Music<br>time=%{x}<br>percentage=%{y}<extra></extra>\",\"legendgroup\":\"Music\",\"marker\":{\"color\":\"#FF6692\",\"pattern\":{\"shape\":\"\"}},\"name\":\"Music\",\"offsetgroup\":\"Music\",\"orientation\":\"v\",\"showlegend\":true,\"textposition\":\"auto\",\"type\":\"bar\",\"x\":[\"Madrugada\",\"Manh\\u00e3\",\"Noite\",\"Tarde\"],\"xaxis\":\"x\",\"y\":[11.524163568773234,9.639344262295083,28.22331893892659,14.986458019861571],\"yaxis\":\"y\"},{\"alignmentgroup\":\"True\",\"hovertemplate\":\"category=News & Politics<br>time=%{x}<br>percentage=%{y}<extra></extra>\",\"legendgroup\":\"News & Politics\",\"marker\":{\"color\":\"#B6E880\",\"pattern\":{\"shape\":\"\"}},\"name\":\"News & Politics\",\"offsetgroup\":\"News & Politics\",\"orientation\":\"v\",\"showlegend\":true,\"textposition\":\"auto\",\"type\":\"bar\",\"x\":[\"Madrugada\",\"Manh\\u00e3\",\"Noite\",\"Tarde\"],\"xaxis\":\"x\",\"y\":[2.2304832713754648,3.278688524590164,2.683528685996299,2.226903400541679],\"yaxis\":\"y\"},{\"alignmentgroup\":\"True\",\"hovertemplate\":\"category=People & Blogs<br>time=%{x}<br>percentage=%{y}<extra></extra>\",\"legendgroup\":\"People & Blogs\",\"marker\":{\"color\":\"#FF97FF\",\"pattern\":{\"shape\":\"\"}},\"name\":\"People & Blogs\",\"offsetgroup\":\"People & Blogs\",\"orientation\":\"v\",\"showlegend\":true,\"textposition\":\"auto\",\"type\":\"bar\",\"x\":[\"Madrugada\",\"Manh\\u00e3\",\"Noite\",\"Tarde\"],\"xaxis\":\"x\",\"y\":[19.33085501858736,25.967213114754102,20.01850709438618,25.60938910622931],\"yaxis\":\"y\"},{\"alignmentgroup\":\"True\",\"hovertemplate\":\"category=Pets & Animals<br>time=%{x}<br>percentage=%{y}<extra></extra>\",\"legendgroup\":\"Pets & Animals\",\"marker\":{\"color\":\"#FECB52\",\"pattern\":{\"shape\":\"\"}},\"name\":\"Pets & Animals\",\"offsetgroup\":\"Pets & Animals\",\"orientation\":\"v\",\"showlegend\":true,\"textposition\":\"auto\",\"type\":\"bar\",\"x\":[\"Madrugada\",\"Manh\\u00e3\",\"Noite\",\"Tarde\"],\"xaxis\":\"x\",\"y\":[2.6022304832713754,2.3934426229508197,1.3571869216533003,1.865783930183569],\"yaxis\":\"y\"},{\"alignmentgroup\":\"True\",\"hovertemplate\":\"category=Science & Technology<br>time=%{x}<br>percentage=%{y}<extra></extra>\",\"legendgroup\":\"Science & Technology\",\"marker\":{\"color\":\"#636efa\",\"pattern\":{\"shape\":\"\"}},\"name\":\"Science & Technology\",\"offsetgroup\":\"Science & Technology\",\"orientation\":\"v\",\"showlegend\":true,\"textposition\":\"auto\",\"type\":\"bar\",\"x\":[\"Madrugada\",\"Manh\\u00e3\",\"Noite\",\"Tarde\"],\"xaxis\":\"x\",\"y\":[11.524163568773234,6.524590163934427,5.1819864281307835,5.627445079747216],\"yaxis\":\"y\"},{\"alignmentgroup\":\"True\",\"hovertemplate\":\"category=Sports<br>time=%{x}<br>percentage=%{y}<extra></extra>\",\"legendgroup\":\"Sports\",\"marker\":{\"color\":\"#EF553B\",\"pattern\":{\"shape\":\"\"}},\"name\":\"Sports\",\"offsetgroup\":\"Sports\",\"orientation\":\"v\",\"showlegend\":true,\"textposition\":\"auto\",\"type\":\"bar\",\"x\":[\"Madrugada\",\"Manh\\u00e3\",\"Noite\",\"Tarde\"],\"xaxis\":\"x\",\"y\":[4.4609665427509295,4.2622950819672125,3.8556446637877855,3.370448390009028],\"yaxis\":\"y\"},{\"alignmentgroup\":\"True\",\"hovertemplate\":\"category=Autos & Vehicles<br>time=%{x}<br>percentage=%{y}<extra></extra>\",\"legendgroup\":\"Autos & Vehicles\",\"marker\":{\"color\":\"#00cc96\",\"pattern\":{\"shape\":\"\"}},\"name\":\"Autos & Vehicles\",\"offsetgroup\":\"Autos & Vehicles\",\"orientation\":\"v\",\"showlegend\":true,\"textposition\":\"auto\",\"type\":\"bar\",\"x\":[\"Manh\\u00e3\",\"Noite\",\"Tarde\"],\"xaxis\":\"x\",\"y\":[0.29508196721311475,0.061690314620604564,0.4213060487511285],\"yaxis\":\"y\"},{\"alignmentgroup\":\"True\",\"hovertemplate\":\"category=Nonprofits &Activism<br>time=%{x}<br>percentage=%{y}<extra></extra>\",\"legendgroup\":\"Nonprofits &Activism\",\"marker\":{\"color\":\"#ab63fa\",\"pattern\":{\"shape\":\"\"}},\"name\":\"Nonprofits &Activism\",\"offsetgroup\":\"Nonprofits &Activism\",\"orientation\":\"v\",\"showlegend\":true,\"textposition\":\"auto\",\"type\":\"bar\",\"x\":[\"Manh\\u00e3\",\"Noite\",\"Tarde\"],\"xaxis\":\"x\",\"y\":[0.36065573770491804,0.1850709438618137,0.24074631357207343],\"yaxis\":\"y\"},{\"alignmentgroup\":\"True\",\"hovertemplate\":\"category=Travel & Events<br>time=%{x}<br>percentage=%{y}<extra></extra>\",\"legendgroup\":\"Travel & Events\",\"marker\":{\"color\":\"#FFA15A\",\"pattern\":{\"shape\":\"\"}},\"name\":\"Travel & Events\",\"offsetgroup\":\"Travel & Events\",\"orientation\":\"v\",\"showlegend\":true,\"textposition\":\"auto\",\"type\":\"bar\",\"x\":[\"Manh\\u00e3\",\"Noite\",\"Tarde\"],\"xaxis\":\"x\",\"y\":[0.42622950819672134,0.5860579888957435,0.5115859163406561],\"yaxis\":\"y\"},{\"alignmentgroup\":\"True\",\"hovertemplate\":\"category=Trailers<br>time=%{x}<br>percentage=%{y}<extra></extra>\",\"legendgroup\":\"Trailers\",\"marker\":{\"color\":\"#19d3f3\",\"pattern\":{\"shape\":\"\"}},\"name\":\"Trailers\",\"offsetgroup\":\"Trailers\",\"orientation\":\"v\",\"showlegend\":true,\"textposition\":\"auto\",\"type\":\"bar\",\"x\":[\"Tarde\"],\"xaxis\":\"x\",\"y\":[0.03009328919650918],\"yaxis\":\"y\"}],                        {\"barmode\":\"group\",\"legend\":{\"title\":{\"text\":\"category\"},\"tracegroupgap\":0},\"margin\":{\"t\":60},\"template\":{\"data\":{\"bar\":[{\"error_x\":{\"color\":\"#2a3f5f\"},\"error_y\":{\"color\":\"#2a3f5f\"},\"marker\":{\"line\":{\"color\":\"#E5ECF6\",\"width\":0.5},\"pattern\":{\"fillmode\":\"overlay\",\"size\":10,\"solidity\":0.2}},\"type\":\"bar\"}],\"barpolar\":[{\"marker\":{\"line\":{\"color\":\"#E5ECF6\",\"width\":0.5},\"pattern\":{\"fillmode\":\"overlay\",\"size\":10,\"solidity\":0.2}},\"type\":\"barpolar\"}],\"carpet\":[{\"aaxis\":{\"endlinecolor\":\"#2a3f5f\",\"gridcolor\":\"white\",\"linecolor\":\"white\",\"minorgridcolor\":\"white\",\"startlinecolor\":\"#2a3f5f\"},\"baxis\":{\"endlinecolor\":\"#2a3f5f\",\"gridcolor\":\"white\",\"linecolor\":\"white\",\"minorgridcolor\":\"white\",\"startlinecolor\":\"#2a3f5f\"},\"type\":\"carpet\"}],\"choropleth\":[{\"colorbar\":{\"outlinewidth\":0,\"ticks\":\"\"},\"type\":\"choropleth\"}],\"contour\":[{\"colorbar\":{\"outlinewidth\":0,\"ticks\":\"\"},\"colorscale\":[[0.0,\"#0d0887\"],[0.1111111111111111,\"#46039f\"],[0.2222222222222222,\"#7201a8\"],[0.3333333333333333,\"#9c179e\"],[0.4444444444444444,\"#bd3786\"],[0.5555555555555556,\"#d8576b\"],[0.6666666666666666,\"#ed7953\"],[0.7777777777777778,\"#fb9f3a\"],[0.8888888888888888,\"#fdca26\"],[1.0,\"#f0f921\"]],\"type\":\"contour\"}],\"contourcarpet\":[{\"colorbar\":{\"outlinewidth\":0,\"ticks\":\"\"},\"type\":\"contourcarpet\"}],\"heatmap\":[{\"colorbar\":{\"outlinewidth\":0,\"ticks\":\"\"},\"colorscale\":[[0.0,\"#0d0887\"],[0.1111111111111111,\"#46039f\"],[0.2222222222222222,\"#7201a8\"],[0.3333333333333333,\"#9c179e\"],[0.4444444444444444,\"#bd3786\"],[0.5555555555555556,\"#d8576b\"],[0.6666666666666666,\"#ed7953\"],[0.7777777777777778,\"#fb9f3a\"],[0.8888888888888888,\"#fdca26\"],[1.0,\"#f0f921\"]],\"type\":\"heatmap\"}],\"heatmapgl\":[{\"colorbar\":{\"outlinewidth\":0,\"ticks\":\"\"},\"colorscale\":[[0.0,\"#0d0887\"],[0.1111111111111111,\"#46039f\"],[0.2222222222222222,\"#7201a8\"],[0.3333333333333333,\"#9c179e\"],[0.4444444444444444,\"#bd3786\"],[0.5555555555555556,\"#d8576b\"],[0.6666666666666666,\"#ed7953\"],[0.7777777777777778,\"#fb9f3a\"],[0.8888888888888888,\"#fdca26\"],[1.0,\"#f0f921\"]],\"type\":\"heatmapgl\"}],\"histogram\":[{\"marker\":{\"pattern\":{\"fillmode\":\"overlay\",\"size\":10,\"solidity\":0.2}},\"type\":\"histogram\"}],\"histogram2d\":[{\"colorbar\":{\"outlinewidth\":0,\"ticks\":\"\"},\"colorscale\":[[0.0,\"#0d0887\"],[0.1111111111111111,\"#46039f\"],[0.2222222222222222,\"#7201a8\"],[0.3333333333333333,\"#9c179e\"],[0.4444444444444444,\"#bd3786\"],[0.5555555555555556,\"#d8576b\"],[0.6666666666666666,\"#ed7953\"],[0.7777777777777778,\"#fb9f3a\"],[0.8888888888888888,\"#fdca26\"],[1.0,\"#f0f921\"]],\"type\":\"histogram2d\"}],\"histogram2dcontour\":[{\"colorbar\":{\"outlinewidth\":0,\"ticks\":\"\"},\"colorscale\":[[0.0,\"#0d0887\"],[0.1111111111111111,\"#46039f\"],[0.2222222222222222,\"#7201a8\"],[0.3333333333333333,\"#9c179e\"],[0.4444444444444444,\"#bd3786\"],[0.5555555555555556,\"#d8576b\"],[0.6666666666666666,\"#ed7953\"],[0.7777777777777778,\"#fb9f3a\"],[0.8888888888888888,\"#fdca26\"],[1.0,\"#f0f921\"]],\"type\":\"histogram2dcontour\"}],\"mesh3d\":[{\"colorbar\":{\"outlinewidth\":0,\"ticks\":\"\"},\"type\":\"mesh3d\"}],\"parcoords\":[{\"line\":{\"colorbar\":{\"outlinewidth\":0,\"ticks\":\"\"}},\"type\":\"parcoords\"}],\"pie\":[{\"automargin\":true,\"type\":\"pie\"}],\"scatter\":[{\"marker\":{\"colorbar\":{\"outlinewidth\":0,\"ticks\":\"\"}},\"type\":\"scatter\"}],\"scatter3d\":[{\"line\":{\"colorbar\":{\"outlinewidth\":0,\"ticks\":\"\"}},\"marker\":{\"colorbar\":{\"outlinewidth\":0,\"ticks\":\"\"}},\"type\":\"scatter3d\"}],\"scattercarpet\":[{\"marker\":{\"colorbar\":{\"outlinewidth\":0,\"ticks\":\"\"}},\"type\":\"scattercarpet\"}],\"scattergeo\":[{\"marker\":{\"colorbar\":{\"outlinewidth\":0,\"ticks\":\"\"}},\"type\":\"scattergeo\"}],\"scattergl\":[{\"marker\":{\"colorbar\":{\"outlinewidth\":0,\"ticks\":\"\"}},\"type\":\"scattergl\"}],\"scattermapbox\":[{\"marker\":{\"colorbar\":{\"outlinewidth\":0,\"ticks\":\"\"}},\"type\":\"scattermapbox\"}],\"scatterpolar\":[{\"marker\":{\"colorbar\":{\"outlinewidth\":0,\"ticks\":\"\"}},\"type\":\"scatterpolar\"}],\"scatterpolargl\":[{\"marker\":{\"colorbar\":{\"outlinewidth\":0,\"ticks\":\"\"}},\"type\":\"scatterpolargl\"}],\"scatterternary\":[{\"marker\":{\"colorbar\":{\"outlinewidth\":0,\"ticks\":\"\"}},\"type\":\"scatterternary\"}],\"surface\":[{\"colorbar\":{\"outlinewidth\":0,\"ticks\":\"\"},\"colorscale\":[[0.0,\"#0d0887\"],[0.1111111111111111,\"#46039f\"],[0.2222222222222222,\"#7201a8\"],[0.3333333333333333,\"#9c179e\"],[0.4444444444444444,\"#bd3786\"],[0.5555555555555556,\"#d8576b\"],[0.6666666666666666,\"#ed7953\"],[0.7777777777777778,\"#fb9f3a\"],[0.8888888888888888,\"#fdca26\"],[1.0,\"#f0f921\"]],\"type\":\"surface\"}],\"table\":[{\"cells\":{\"fill\":{\"color\":\"#EBF0F8\"},\"line\":{\"color\":\"white\"}},\"header\":{\"fill\":{\"color\":\"#C8D4E3\"},\"line\":{\"color\":\"white\"}},\"type\":\"table\"}]},\"layout\":{\"annotationdefaults\":{\"arrowcolor\":\"#2a3f5f\",\"arrowhead\":0,\"arrowwidth\":1},\"autotypenumbers\":\"strict\",\"coloraxis\":{\"colorbar\":{\"outlinewidth\":0,\"ticks\":\"\"}},\"colorscale\":{\"diverging\":[[0,\"#8e0152\"],[0.1,\"#c51b7d\"],[0.2,\"#de77ae\"],[0.3,\"#f1b6da\"],[0.4,\"#fde0ef\"],[0.5,\"#f7f7f7\"],[0.6,\"#e6f5d0\"],[0.7,\"#b8e186\"],[0.8,\"#7fbc41\"],[0.9,\"#4d9221\"],[1,\"#276419\"]],\"sequential\":[[0.0,\"#0d0887\"],[0.1111111111111111,\"#46039f\"],[0.2222222222222222,\"#7201a8\"],[0.3333333333333333,\"#9c179e\"],[0.4444444444444444,\"#bd3786\"],[0.5555555555555556,\"#d8576b\"],[0.6666666666666666,\"#ed7953\"],[0.7777777777777778,\"#fb9f3a\"],[0.8888888888888888,\"#fdca26\"],[1.0,\"#f0f921\"]],\"sequentialminus\":[[0.0,\"#0d0887\"],[0.1111111111111111,\"#46039f\"],[0.2222222222222222,\"#7201a8\"],[0.3333333333333333,\"#9c179e\"],[0.4444444444444444,\"#bd3786\"],[0.5555555555555556,\"#d8576b\"],[0.6666666666666666,\"#ed7953\"],[0.7777777777777778,\"#fb9f3a\"],[0.8888888888888888,\"#fdca26\"],[1.0,\"#f0f921\"]]},\"colorway\":[\"#636efa\",\"#EF553B\",\"#00cc96\",\"#ab63fa\",\"#FFA15A\",\"#19d3f3\",\"#FF6692\",\"#B6E880\",\"#FF97FF\",\"#FECB52\"],\"font\":{\"color\":\"#2a3f5f\"},\"geo\":{\"bgcolor\":\"white\",\"lakecolor\":\"white\",\"landcolor\":\"#E5ECF6\",\"showlakes\":true,\"showland\":true,\"subunitcolor\":\"white\"},\"hoverlabel\":{\"align\":\"left\"},\"hovermode\":\"closest\",\"mapbox\":{\"style\":\"light\"},\"paper_bgcolor\":\"white\",\"plot_bgcolor\":\"#E5ECF6\",\"polar\":{\"angularaxis\":{\"gridcolor\":\"white\",\"linecolor\":\"white\",\"ticks\":\"\"},\"bgcolor\":\"#E5ECF6\",\"radialaxis\":{\"gridcolor\":\"white\",\"linecolor\":\"white\",\"ticks\":\"\"}},\"scene\":{\"xaxis\":{\"backgroundcolor\":\"#E5ECF6\",\"gridcolor\":\"white\",\"gridwidth\":2,\"linecolor\":\"white\",\"showbackground\":true,\"ticks\":\"\",\"zerolinecolor\":\"white\"},\"yaxis\":{\"backgroundcolor\":\"#E5ECF6\",\"gridcolor\":\"white\",\"gridwidth\":2,\"linecolor\":\"white\",\"showbackground\":true,\"ticks\":\"\",\"zerolinecolor\":\"white\"},\"zaxis\":{\"backgroundcolor\":\"#E5ECF6\",\"gridcolor\":\"white\",\"gridwidth\":2,\"linecolor\":\"white\",\"showbackground\":true,\"ticks\":\"\",\"zerolinecolor\":\"white\"}},\"shapedefaults\":{\"line\":{\"color\":\"#2a3f5f\"}},\"ternary\":{\"aaxis\":{\"gridcolor\":\"white\",\"linecolor\":\"white\",\"ticks\":\"\"},\"baxis\":{\"gridcolor\":\"white\",\"linecolor\":\"white\",\"ticks\":\"\"},\"bgcolor\":\"#E5ECF6\",\"caxis\":{\"gridcolor\":\"white\",\"linecolor\":\"white\",\"ticks\":\"\"}},\"title\":{\"x\":0.05},\"xaxis\":{\"automargin\":true,\"gridcolor\":\"white\",\"linecolor\":\"white\",\"ticks\":\"\",\"title\":{\"standoff\":15},\"zerolinecolor\":\"white\",\"zerolinewidth\":2},\"yaxis\":{\"automargin\":true,\"gridcolor\":\"white\",\"linecolor\":\"white\",\"ticks\":\"\",\"title\":{\"standoff\":15},\"zerolinecolor\":\"white\",\"zerolinewidth\":2}}},\"xaxis\":{\"anchor\":\"y\",\"domain\":[0.0,1.0],\"title\":{\"text\":\"time\"}},\"yaxis\":{\"anchor\":\"x\",\"domain\":[0.0,1.0],\"title\":{\"text\":\"percentage\"}}},                        {\"responsive\": true}                    ).then(function(){\n",
              "                            \n",
              "var gd = document.getElementById('8c6b47fa-a6f9-4282-b198-173137105d99');\n",
              "var x = new MutationObserver(function (mutations, observer) {{\n",
              "        var display = window.getComputedStyle(gd).display;\n",
              "        if (!display || display === 'none') {{\n",
              "            console.log([gd, 'removed!']);\n",
              "            Plotly.purge(gd);\n",
              "            observer.disconnect();\n",
              "        }}\n",
              "}});\n",
              "\n",
              "// Listen for the removal of the full notebook cells\n",
              "var notebookContainer = gd.closest('#notebook-container');\n",
              "if (notebookContainer) {{\n",
              "    x.observe(notebookContainer, {childList: true});\n",
              "}}\n",
              "\n",
              "// Listen for the clearing of the current output cell\n",
              "var outputEl = gd.closest('.output');\n",
              "if (outputEl) {{\n",
              "    x.observe(outputEl, {childList: true});\n",
              "}}\n",
              "\n",
              "                        })                };                            </script>        </div>\n",
              "</body>\n",
              "</html>"
            ]
          },
          "metadata": {
            "tags": []
          }
        }
      ]
    },
    {
      "cell_type": "markdown",
      "metadata": {
        "id": "qKVMCUWe4D81"
      },
      "source": [
        "### Quais categorias e canais deram match entre nós? "
      ],
      "id": "qKVMCUWe4D81"
    },
    {
      "cell_type": "code",
      "metadata": {
        "colab": {
          "base_uri": "https://localhost:8080/"
        },
        "id": "67fcXUiCJGkN",
        "outputId": "f630c921-c21d-4996-ad24-cf0038567b40"
      },
      "source": [
        "yt['category'].unique()"
      ],
      "id": "67fcXUiCJGkN",
      "execution_count": null,
      "outputs": [
        {
          "output_type": "execute_result",
          "data": {
            "text/plain": [
              "array(['Entertainment', 'People & Blogs', 'Music', 'Howto & Style',\n",
              "       'Travel & Events', 'Comedy', 'Science & Technology', 'Education',\n",
              "       'News & Politics', 'Nonprofits &Activism', 'Film & Animation',\n",
              "       'Autos & Vehicles', 'Gaming', 'Pets & Animals', 'Sports',\n",
              "       'Trailers', 'Movies', '00'], dtype=object)"
            ]
          },
          "metadata": {
            "tags": []
          },
          "execution_count": 99
        }
      ]
    },
    {
      "cell_type": "code",
      "metadata": {
        "id": "ufvZ9BDaB5gx"
      },
      "source": [
        "grouped = yt[yt['category'] == 'Science & Technology'].groupby(['channel', 'user'], as_index=False).size()"
      ],
      "id": "ufvZ9BDaB5gx",
      "execution_count": null,
      "outputs": []
    },
    {
      "cell_type": "code",
      "metadata": {
        "colab": {
          "base_uri": "https://localhost:8080/"
        },
        "id": "E6MXPeFiDiaK",
        "outputId": "607541f1-aac7-4745-b1e0-c96973930e87"
      },
      "source": [
        "grouped = yt[yt['category'] == 'Music'].groupby(['channel', 'user'], as_index=False).size()\n",
        "match_list = []\n",
        "for i in grouped['channel'].unique():\n",
        "    if len(grouped[grouped['channel'] == i]['user'].unique()) == 3:\n",
        "      match_list.append(i)\n",
        "\n",
        "print(match_list)\n",
        "\n"
      ],
      "id": "E6MXPeFiDiaK",
      "execution_count": null,
      "outputs": [
        {
          "output_type": "stream",
          "text": [
            "['Various Artists - Topic']\n"
          ],
          "name": "stdout"
        }
      ]
    },
    {
      "cell_type": "code",
      "metadata": {
        "id": "Uwr__9-sDYzr"
      },
      "source": [
        "df_category_list = []\n",
        "for j in yt['category'].unique():\n",
        "  grouped = yt[yt['category'] == j].groupby(['channel', 'user'], as_index=False).size()\n",
        "  match_list = {'category': [],'channel': [], 'views_mean': []}\n",
        "  \n",
        "  for i in grouped['channel'].unique():\n",
        "      if len(grouped[grouped['channel'] == i]['user'].unique()) == 3:\n",
        "        match_list['views_mean'].append((grouped[grouped['channel'] == i]['size'].sum()) / 3)\n",
        "        match_list['category'].append(j)\n",
        "        match_list['channel'].append(i)\n",
        "  \n",
        "  df_category_list.append(pd.DataFrame(match_list))\n",
        "\n",
        "match_df = pd.concat(df_category_list)"
      ],
      "id": "Uwr__9-sDYzr",
      "execution_count": null,
      "outputs": []
    },
    {
      "cell_type": "code",
      "metadata": {
        "id": "YAz2Am463a3-",
        "colab": {
          "base_uri": "https://localhost:8080/"
        },
        "outputId": "c3149d43-acb6-4b75-f1b8-4b1c5cf0f376"
      },
      "source": [
        "match_df.category.unique()"
      ],
      "id": "YAz2Am463a3-",
      "execution_count": null,
      "outputs": [
        {
          "output_type": "execute_result",
          "data": {
            "text/plain": [
              "array(['Entertainment', 'People & Blogs', 'Music', 'Howto & Style',\n",
              "       'Travel & Events', 'Comedy', 'Science & Technology', 'Education',\n",
              "       'News & Politics', 'Nonprofits &Activism', 'Sports'], dtype=object)"
            ]
          },
          "metadata": {
            "tags": []
          },
          "execution_count": 103
        }
      ]
    },
    {
      "cell_type": "code",
      "metadata": {
        "id": "gYV3y4T414Ve"
      },
      "source": [
        "match_df.to_csv('/content/drive/Shareddrives/Data Reporting/youtube_match.csv', index=False)"
      ],
      "id": "gYV3y4T414Ve",
      "execution_count": null,
      "outputs": []
    },
    {
      "cell_type": "code",
      "metadata": {
        "colab": {
          "base_uri": "https://localhost:8080/",
          "height": 362
        },
        "id": "MFQ3DR8BM-7y",
        "outputId": "db5904f4-ecf2-4f1f-cb80-87f16e95cec0"
      },
      "source": [
        "grouped = yt[yt['category'] == 'Science & Technology'].groupby(['channel', 'user'], as_index=False).size()\n",
        "match_list = {}\n",
        "for i in grouped['channel'].unique():\n",
        "    if len(grouped[grouped['channel'] == i]['user'].unique()) == 3:\n",
        "      media = (grouped[grouped['channel'] == i]['size'].sum()) / 3\n",
        "      match_list[i] = media\n",
        "\n",
        "pd.DataFrame({'channel': match_list.keys(), 'mean': match_list.values()}).sort_values(by='mean', ascending=False).head(10)"
      ],
      "id": "MFQ3DR8BM-7y",
      "execution_count": null,
      "outputs": [
        {
          "output_type": "execute_result",
          "data": {
            "text/html": [
              "<div>\n",
              "<style scoped>\n",
              "    .dataframe tbody tr th:only-of-type {\n",
              "        vertical-align: middle;\n",
              "    }\n",
              "\n",
              "    .dataframe tbody tr th {\n",
              "        vertical-align: top;\n",
              "    }\n",
              "\n",
              "    .dataframe thead th {\n",
              "        text-align: right;\n",
              "    }\n",
              "</style>\n",
              "<table border=\"1\" class=\"dataframe\">\n",
              "  <thead>\n",
              "    <tr style=\"text-align: right;\">\n",
              "      <th></th>\n",
              "      <th>channel</th>\n",
              "      <th>mean</th>\n",
              "    </tr>\n",
              "  </thead>\n",
              "  <tbody>\n",
              "    <tr>\n",
              "      <th>3</th>\n",
              "      <td>Canaltech</td>\n",
              "      <td>37.333333</td>\n",
              "    </tr>\n",
              "    <tr>\n",
              "      <th>13</th>\n",
              "      <td>Peixe Babel</td>\n",
              "      <td>19.333333</td>\n",
              "    </tr>\n",
              "    <tr>\n",
              "      <th>14</th>\n",
              "      <td>Programação Dinâmica</td>\n",
              "      <td>14.666667</td>\n",
              "    </tr>\n",
              "    <tr>\n",
              "      <th>4</th>\n",
              "      <td>Código Fonte TV</td>\n",
              "      <td>13.666667</td>\n",
              "    </tr>\n",
              "    <tr>\n",
              "      <th>9</th>\n",
              "      <td>Filipe Deschamps</td>\n",
              "      <td>10.333333</td>\n",
              "    </tr>\n",
              "    <tr>\n",
              "      <th>15</th>\n",
              "      <td>Seja Um Data Scientist</td>\n",
              "      <td>9.666667</td>\n",
              "    </tr>\n",
              "    <tr>\n",
              "      <th>6</th>\n",
              "      <td>DevMedia</td>\n",
              "      <td>7.666667</td>\n",
              "    </tr>\n",
              "    <tr>\n",
              "      <th>8</th>\n",
              "      <td>Fabio Akita</td>\n",
              "      <td>7.000000</td>\n",
              "    </tr>\n",
              "    <tr>\n",
              "      <th>0</th>\n",
              "      <td>Alura Cursos Online</td>\n",
              "      <td>6.666667</td>\n",
              "    </tr>\n",
              "    <tr>\n",
              "      <th>1</th>\n",
              "      <td>Be!Tech</td>\n",
              "      <td>6.333333</td>\n",
              "    </tr>\n",
              "  </tbody>\n",
              "</table>\n",
              "</div>"
            ],
            "text/plain": [
              "                   channel       mean\n",
              "3                Canaltech  37.333333\n",
              "13             Peixe Babel  19.333333\n",
              "14    Programação Dinâmica  14.666667\n",
              "4          Código Fonte TV  13.666667\n",
              "9         Filipe Deschamps  10.333333\n",
              "15  Seja Um Data Scientist   9.666667\n",
              "6                 DevMedia   7.666667\n",
              "8              Fabio Akita   7.000000\n",
              "0      Alura Cursos Online   6.666667\n",
              "1                  Be!Tech   6.333333"
            ]
          },
          "metadata": {
            "tags": []
          },
          "execution_count": 105
        }
      ]
    },
    {
      "cell_type": "code",
      "metadata": {
        "colab": {
          "base_uri": "https://localhost:8080/",
          "height": 187
        },
        "id": "ovyUXbYzEzjX",
        "outputId": "cc3e8bbd-3d27-4472-8239-4d18a0d4bffa"
      },
      "source": [
        "yt[(yt['channel'] == 'Spotniks') & (yt['user'] == 'Juliana')]"
      ],
      "id": "ovyUXbYzEzjX",
      "execution_count": null,
      "outputs": [
        {
          "output_type": "execute_result",
          "data": {
            "text/html": [
              "<div>\n",
              "<style scoped>\n",
              "    .dataframe tbody tr th:only-of-type {\n",
              "        vertical-align: middle;\n",
              "    }\n",
              "\n",
              "    .dataframe tbody tr th {\n",
              "        vertical-align: top;\n",
              "    }\n",
              "\n",
              "    .dataframe thead th {\n",
              "        text-align: right;\n",
              "    }\n",
              "</style>\n",
              "<table border=\"1\" class=\"dataframe\">\n",
              "  <thead>\n",
              "    <tr style=\"text-align: right;\">\n",
              "      <th></th>\n",
              "      <th>channel</th>\n",
              "      <th>channelUrl</th>\n",
              "      <th>header</th>\n",
              "      <th>title</th>\n",
              "      <th>titleUrl</th>\n",
              "      <th>time</th>\n",
              "      <th>products</th>\n",
              "      <th>details</th>\n",
              "      <th>category</th>\n",
              "      <th>user</th>\n",
              "      <th>period_day</th>\n",
              "    </tr>\n",
              "  </thead>\n",
              "  <tbody>\n",
              "    <tr>\n",
              "      <th>1125</th>\n",
              "      <td>Spotniks</td>\n",
              "      <td>https://www.youtube.com/channel/UCr88VYLpASHOD...</td>\n",
              "      <td>YouTube</td>\n",
              "      <td>Watched \"Você me conhece como a voz do GOOGLE,...</td>\n",
              "      <td>https://www.youtube.com/watch?v=wiqiocoj91U</td>\n",
              "      <td>2021-03-03 19:12:15.068000-03:00</td>\n",
              "      <td>YouTube</td>\n",
              "      <td>NaN</td>\n",
              "      <td>News &amp; Politics</td>\n",
              "      <td>Juliana</td>\n",
              "      <td>Noite</td>\n",
              "    </tr>\n",
              "  </tbody>\n",
              "</table>\n",
              "</div>"
            ],
            "text/plain": [
              "       channel  ... period_day\n",
              "1125  Spotniks  ...      Noite\n",
              "\n",
              "[1 rows x 11 columns]"
            ]
          },
          "metadata": {
            "tags": []
          },
          "execution_count": 106
        }
      ]
    },
    {
      "cell_type": "code",
      "metadata": {
        "colab": {
          "base_uri": "https://localhost:8080/"
        },
        "id": "FZKXIL7_4bHB",
        "outputId": "e4142832-f4ea-4857-d302-9995573e5801"
      },
      "source": [
        "yt[(yt['user'] == 'Juliana') & (yt['category'] == 'Music')]['title'].value_counts(ascending=False)"
      ],
      "id": "FZKXIL7_4bHB",
      "execution_count": null,
      "outputs": [
        {
          "output_type": "execute_result",
          "data": {
            "text/plain": [
              "Watched Midian Lima - Prioridade (Live Session)                                              25\n",
              "Watched Preto no Branco - Os Sonhos de Deus ft. Juninho Black, Lukão Carvalho, Eli Soares    19\n",
              "Watched Anderson Freire feat. Gisele Nascimento - O Mapa Do Tesouro (Ao Vivo)                16\n",
              "Watched Midian Lima - Jó - COM LETRA (VideoLETRA® oficial MK Music)                          16\n",
              "Watched Preto no Branco - Ninguém Explica Deus (Ao Vivo) ft. Gabriela Rocha                  15\n",
              "                                                                                             ..\n",
              "Watched Os Barões da Pisadinha - Tipo iFood (Clipe Oficial)                                   1\n",
              "Watched Patati Patatá - Os Sentidos + Canções Animadas (+40 min)                              1\n",
              "Watched Seu Jorge - Zé do Caroço (Ao Vivo)                                                    1\n",
              "Watched Maria Rita - Como Nossos Pais                                                         1\n",
              "Watched BOLOFOFOS | LOBO MAU-LANDRO                                                           1\n",
              "Name: title, Length: 1508, dtype: int64"
            ]
          },
          "metadata": {
            "tags": []
          },
          "execution_count": 107
        }
      ]
    },
    {
      "cell_type": "code",
      "metadata": {
        "colab": {
          "base_uri": "https://localhost:8080/",
          "height": 1000
        },
        "id": "KXpFVWV_4bEA",
        "outputId": "42c995c4-1db6-4033-e084-b0a7de938d7f"
      },
      "source": [
        "yt[(yt['user'] == 'Vithor') & (yt['channel'] == 'Programação Dinâmica')]"
      ],
      "id": "KXpFVWV_4bEA",
      "execution_count": null,
      "outputs": [
        {
          "output_type": "execute_result",
          "data": {
            "text/html": [
              "<div>\n",
              "<style scoped>\n",
              "    .dataframe tbody tr th:only-of-type {\n",
              "        vertical-align: middle;\n",
              "    }\n",
              "\n",
              "    .dataframe tbody tr th {\n",
              "        vertical-align: top;\n",
              "    }\n",
              "\n",
              "    .dataframe thead th {\n",
              "        text-align: right;\n",
              "    }\n",
              "</style>\n",
              "<table border=\"1\" class=\"dataframe\">\n",
              "  <thead>\n",
              "    <tr style=\"text-align: right;\">\n",
              "      <th></th>\n",
              "      <th>channel</th>\n",
              "      <th>channelUrl</th>\n",
              "      <th>header</th>\n",
              "      <th>title</th>\n",
              "      <th>titleUrl</th>\n",
              "      <th>time</th>\n",
              "      <th>products</th>\n",
              "      <th>details</th>\n",
              "      <th>category</th>\n",
              "      <th>user</th>\n",
              "      <th>period_day</th>\n",
              "    </tr>\n",
              "  </thead>\n",
              "  <tbody>\n",
              "    <tr>\n",
              "      <th>2949</th>\n",
              "      <td>Programação Dinâmica</td>\n",
              "      <td>https://www.youtube.com/channel/UC70mr11REaCqg...</td>\n",
              "      <td>YouTube</td>\n",
              "      <td>Watched CONVERTENDO uma coluna de um DataFrame...</td>\n",
              "      <td>https://www.youtube.com/watch?v=MVd1cs7TDgA</td>\n",
              "      <td>2021-06-13 08:07:04.580000-03:00</td>\n",
              "      <td>YouTube</td>\n",
              "      <td>NaN</td>\n",
              "      <td>Education</td>\n",
              "      <td>Vithor</td>\n",
              "      <td>Manhã</td>\n",
              "    </tr>\n",
              "    <tr>\n",
              "      <th>2959</th>\n",
              "      <td>Programação Dinâmica</td>\n",
              "      <td>https://www.youtube.com/channel/UC70mr11REaCqg...</td>\n",
              "      <td>YouTube</td>\n",
              "      <td>Watched CONVERTENDO uma coluna de um DataFrame...</td>\n",
              "      <td>https://www.youtube.com/watch?v=MVd1cs7TDgA</td>\n",
              "      <td>2021-06-12 19:48:56.352000-03:00</td>\n",
              "      <td>YouTube</td>\n",
              "      <td>NaN</td>\n",
              "      <td>Education</td>\n",
              "      <td>Vithor</td>\n",
              "      <td>Noite</td>\n",
              "    </tr>\n",
              "    <tr>\n",
              "      <th>3471</th>\n",
              "      <td>Programação Dinâmica</td>\n",
              "      <td>https://www.youtube.com/channel/UC70mr11REaCqg...</td>\n",
              "      <td>YouTube</td>\n",
              "      <td>Watched Introdução ao Aprendizado de Máquina(d...</td>\n",
              "      <td>https://www.youtube.com/watch?v=QfYGV064mRI</td>\n",
              "      <td>2021-05-29 17:37:14.655000-03:00</td>\n",
              "      <td>YouTube</td>\n",
              "      <td>NaN</td>\n",
              "      <td>Science &amp; Technology</td>\n",
              "      <td>Vithor</td>\n",
              "      <td>Tarde</td>\n",
              "    </tr>\n",
              "    <tr>\n",
              "      <th>3665</th>\n",
              "      <td>Programação Dinâmica</td>\n",
              "      <td>https://www.youtube.com/channel/UC70mr11REaCqg...</td>\n",
              "      <td>YouTube</td>\n",
              "      <td>Watched CÂMERA VIRTUAL Fotorrealista com Ray T...</td>\n",
              "      <td>https://www.youtube.com/watch?v=y9beDEOk3bM</td>\n",
              "      <td>2021-05-22 18:30:41.888000-03:00</td>\n",
              "      <td>YouTube</td>\n",
              "      <td>NaN</td>\n",
              "      <td>Science &amp; Technology</td>\n",
              "      <td>Vithor</td>\n",
              "      <td>Tarde</td>\n",
              "    </tr>\n",
              "    <tr>\n",
              "      <th>4477</th>\n",
              "      <td>Programação Dinâmica</td>\n",
              "      <td>https://www.youtube.com/channel/UC70mr11REaCqg...</td>\n",
              "      <td>YouTube</td>\n",
              "      <td>Watched Explorando os dados da PNAD especial C...</td>\n",
              "      <td>https://www.youtube.com/watch?v=jMN61_T3Yl0</td>\n",
              "      <td>2021-05-01 17:09:33.929000-03:00</td>\n",
              "      <td>YouTube</td>\n",
              "      <td>NaN</td>\n",
              "      <td>Science &amp; Technology</td>\n",
              "      <td>Vithor</td>\n",
              "      <td>Tarde</td>\n",
              "    </tr>\n",
              "    <tr>\n",
              "      <th>4555</th>\n",
              "      <td>Programação Dinâmica</td>\n",
              "      <td>https://www.youtube.com/channel/UC70mr11REaCqg...</td>\n",
              "      <td>YouTube</td>\n",
              "      <td>Watched Github NÃO Basta! Como Documentar PROJ...</td>\n",
              "      <td>https://www.youtube.com/watch?v=gRxqAkWDlmA</td>\n",
              "      <td>2021-04-30 11:07:42.725000-03:00</td>\n",
              "      <td>YouTube</td>\n",
              "      <td>NaN</td>\n",
              "      <td>Education</td>\n",
              "      <td>Vithor</td>\n",
              "      <td>Manhã</td>\n",
              "    </tr>\n",
              "    <tr>\n",
              "      <th>4573</th>\n",
              "      <td>Programação Dinâmica</td>\n",
              "      <td>https://www.youtube.com/channel/UC70mr11REaCqg...</td>\n",
              "      <td>YouTube</td>\n",
              "      <td>Watched Ser AUTODIDATA NÃO é uma OPÇÃO | Hands...</td>\n",
              "      <td>https://www.youtube.com/watch?v=GKPhdBbwycA</td>\n",
              "      <td>2021-04-29 19:57:52.048000-03:00</td>\n",
              "      <td>YouTube</td>\n",
              "      <td>NaN</td>\n",
              "      <td>Education</td>\n",
              "      <td>Vithor</td>\n",
              "      <td>Noite</td>\n",
              "    </tr>\n",
              "    <tr>\n",
              "      <th>4634</th>\n",
              "      <td>Programação Dinâmica</td>\n",
              "      <td>https://www.youtube.com/channel/UC70mr11REaCqg...</td>\n",
              "      <td>YouTube</td>\n",
              "      <td>Watched Como BAIXAR e SALVAR arquivos no Googl...</td>\n",
              "      <td>https://www.youtube.com/watch?v=sbOnV78uoys</td>\n",
              "      <td>2021-04-27 20:44:57.580000-03:00</td>\n",
              "      <td>YouTube</td>\n",
              "      <td>NaN</td>\n",
              "      <td>Education</td>\n",
              "      <td>Vithor</td>\n",
              "      <td>Noite</td>\n",
              "    </tr>\n",
              "    <tr>\n",
              "      <th>4921</th>\n",
              "      <td>Programação Dinâmica</td>\n",
              "      <td>https://www.youtube.com/channel/UC70mr11REaCqg...</td>\n",
              "      <td>YouTube</td>\n",
              "      <td>Watched Como OBJETOS 3D são Representados no C...</td>\n",
              "      <td>https://www.youtube.com/watch?v=rEq17GCrGZE</td>\n",
              "      <td>2021-04-22 19:05:04.746000-03:00</td>\n",
              "      <td>YouTube</td>\n",
              "      <td>NaN</td>\n",
              "      <td>Science &amp; Technology</td>\n",
              "      <td>Vithor</td>\n",
              "      <td>Noite</td>\n",
              "    </tr>\n",
              "    <tr>\n",
              "      <th>5071</th>\n",
              "      <td>Programação Dinâmica</td>\n",
              "      <td>https://www.youtube.com/channel/UC70mr11REaCqg...</td>\n",
              "      <td>YouTube</td>\n",
              "      <td>Watched Modelagem 3D da Terra com Python | Com...</td>\n",
              "      <td>https://www.youtube.com/watch?v=6RXmgUgB-AU</td>\n",
              "      <td>2021-04-17 18:35:14.958000-03:00</td>\n",
              "      <td>YouTube</td>\n",
              "      <td>NaN</td>\n",
              "      <td>Science &amp; Technology</td>\n",
              "      <td>Vithor</td>\n",
              "      <td>Tarde</td>\n",
              "    </tr>\n",
              "    <tr>\n",
              "      <th>5234</th>\n",
              "      <td>Programação Dinâmica</td>\n",
              "      <td>https://www.youtube.com/channel/UC70mr11REaCqg...</td>\n",
              "      <td>YouTube</td>\n",
              "      <td>Watched Análise e Visualização de Dados da COV...</td>\n",
              "      <td>https://www.youtube.com/watch?v=f2OnyNQfpv0</td>\n",
              "      <td>2021-04-11 22:51:15.543000-03:00</td>\n",
              "      <td>YouTube</td>\n",
              "      <td>NaN</td>\n",
              "      <td>Science &amp; Technology</td>\n",
              "      <td>Vithor</td>\n",
              "      <td>Noite</td>\n",
              "    </tr>\n",
              "    <tr>\n",
              "      <th>5280</th>\n",
              "      <td>Programação Dinâmica</td>\n",
              "      <td>https://www.youtube.com/channel/UC70mr11REaCqg...</td>\n",
              "      <td>YouTube</td>\n",
              "      <td>Watched Extraindo dados de COVID-19 no Brasil ...</td>\n",
              "      <td>https://www.youtube.com/watch?v=gbSRoLZoFhI</td>\n",
              "      <td>2021-04-11 12:09:02.820000-03:00</td>\n",
              "      <td>YouTube</td>\n",
              "      <td>NaN</td>\n",
              "      <td>Science &amp; Technology</td>\n",
              "      <td>Vithor</td>\n",
              "      <td>Manhã</td>\n",
              "    </tr>\n",
              "    <tr>\n",
              "      <th>5528</th>\n",
              "      <td>Programação Dinâmica</td>\n",
              "      <td>https://www.youtube.com/channel/UC70mr11REaCqg...</td>\n",
              "      <td>YouTube</td>\n",
              "      <td>Watched Consumindo dados da API do YOUTUBE com...</td>\n",
              "      <td>https://www.youtube.com/watch?v=olDCJ1w3FLM</td>\n",
              "      <td>2021-03-29 14:19:05.673000-03:00</td>\n",
              "      <td>YouTube</td>\n",
              "      <td>NaN</td>\n",
              "      <td>Education</td>\n",
              "      <td>Vithor</td>\n",
              "      <td>Tarde</td>\n",
              "    </tr>\n",
              "    <tr>\n",
              "      <th>5585</th>\n",
              "      <td>Programação Dinâmica</td>\n",
              "      <td>https://www.youtube.com/channel/UC70mr11REaCqg...</td>\n",
              "      <td>YouTube</td>\n",
              "      <td>Watched Consumindo dados da API do YOUTUBE com...</td>\n",
              "      <td>https://www.youtube.com/watch?v=olDCJ1w3FLM</td>\n",
              "      <td>2021-03-27 20:26:00.671000-03:00</td>\n",
              "      <td>YouTube</td>\n",
              "      <td>NaN</td>\n",
              "      <td>Education</td>\n",
              "      <td>Vithor</td>\n",
              "      <td>Noite</td>\n",
              "    </tr>\n",
              "    <tr>\n",
              "      <th>5651</th>\n",
              "      <td>Programação Dinâmica</td>\n",
              "      <td>https://www.youtube.com/channel/UC70mr11REaCqg...</td>\n",
              "      <td>YouTube</td>\n",
              "      <td>Watched O que é um Objeto, Atributo, Método e ...</td>\n",
              "      <td>https://www.youtube.com/watch?v=gJC02P6jkRM</td>\n",
              "      <td>2021-03-22 10:23:44.564000-03:00</td>\n",
              "      <td>YouTube</td>\n",
              "      <td>NaN</td>\n",
              "      <td>Education</td>\n",
              "      <td>Vithor</td>\n",
              "      <td>Manhã</td>\n",
              "    </tr>\n",
              "    <tr>\n",
              "      <th>5672</th>\n",
              "      <td>Programação Dinâmica</td>\n",
              "      <td>https://www.youtube.com/channel/UC70mr11REaCqg...</td>\n",
              "      <td>YouTube</td>\n",
              "      <td>Watched RASPAGEM de DADOS com PYTHON usando Be...</td>\n",
              "      <td>https://www.youtube.com/watch?v=kqvWOcPog4s</td>\n",
              "      <td>2021-03-21 12:53:56.390000-03:00</td>\n",
              "      <td>YouTube</td>\n",
              "      <td>NaN</td>\n",
              "      <td>Education</td>\n",
              "      <td>Vithor</td>\n",
              "      <td>Manhã</td>\n",
              "    </tr>\n",
              "    <tr>\n",
              "      <th>5878</th>\n",
              "      <td>Programação Dinâmica</td>\n",
              "      <td>https://www.youtube.com/channel/UC70mr11REaCqg...</td>\n",
              "      <td>YouTube</td>\n",
              "      <td>Watched Filas | Estruturas de Dados #8</td>\n",
              "      <td>https://www.youtube.com/watch?v=tiee9D54tE0</td>\n",
              "      <td>2021-03-10 12:57:25.276000-03:00</td>\n",
              "      <td>YouTube</td>\n",
              "      <td>NaN</td>\n",
              "      <td>Education</td>\n",
              "      <td>Vithor</td>\n",
              "      <td>Manhã</td>\n",
              "    </tr>\n",
              "    <tr>\n",
              "      <th>6221</th>\n",
              "      <td>Programação Dinâmica</td>\n",
              "      <td>https://www.youtube.com/channel/UC70mr11REaCqg...</td>\n",
              "      <td>YouTube</td>\n",
              "      <td>Watched Conversão de Bases Numéricas | Matemát...</td>\n",
              "      <td>https://www.youtube.com/watch?v=6cvnhNJVsaI</td>\n",
              "      <td>2021-02-27 17:20:16.978000-03:00</td>\n",
              "      <td>YouTube</td>\n",
              "      <td>NaN</td>\n",
              "      <td>Education</td>\n",
              "      <td>Vithor</td>\n",
              "      <td>Tarde</td>\n",
              "    </tr>\n",
              "    <tr>\n",
              "      <th>6320</th>\n",
              "      <td>Programação Dinâmica</td>\n",
              "      <td>https://www.youtube.com/channel/UC70mr11REaCqg...</td>\n",
              "      <td>YouTube</td>\n",
              "      <td>Watched Matemática Elementar para Computação! ...</td>\n",
              "      <td>https://www.youtube.com/watch?v=nIN5_nHGk4w</td>\n",
              "      <td>2021-02-24 10:59:07.783000-03:00</td>\n",
              "      <td>YouTube</td>\n",
              "      <td>NaN</td>\n",
              "      <td>Science &amp; Technology</td>\n",
              "      <td>Vithor</td>\n",
              "      <td>Manhã</td>\n",
              "    </tr>\n",
              "    <tr>\n",
              "      <th>6329</th>\n",
              "      <td>Programação Dinâmica</td>\n",
              "      <td>https://www.youtube.com/channel/UC70mr11REaCqg...</td>\n",
              "      <td>YouTube</td>\n",
              "      <td>Watched CRESCIMENTO das vagas de CIENTISTA DE ...</td>\n",
              "      <td>https://www.youtube.com/watch?v=WI64xflIxJQ</td>\n",
              "      <td>2021-02-23 19:45:52.124000-03:00</td>\n",
              "      <td>YouTube</td>\n",
              "      <td>NaN</td>\n",
              "      <td>Education</td>\n",
              "      <td>Vithor</td>\n",
              "      <td>Noite</td>\n",
              "    </tr>\n",
              "    <tr>\n",
              "      <th>6405</th>\n",
              "      <td>Programação Dinâmica</td>\n",
              "      <td>https://www.youtube.com/channel/UC70mr11REaCqg...</td>\n",
              "      <td>YouTube</td>\n",
              "      <td>Watched Matemática Elementar para Computação! ...</td>\n",
              "      <td>https://www.youtube.com/watch?v=nIN5_nHGk4w</td>\n",
              "      <td>2021-02-21 19:11:37.511000-03:00</td>\n",
              "      <td>YouTube</td>\n",
              "      <td>NaN</td>\n",
              "      <td>Science &amp; Technology</td>\n",
              "      <td>Vithor</td>\n",
              "      <td>Noite</td>\n",
              "    </tr>\n",
              "    <tr>\n",
              "      <th>6409</th>\n",
              "      <td>Programação Dinâmica</td>\n",
              "      <td>https://www.youtube.com/channel/UC70mr11REaCqg...</td>\n",
              "      <td>YouTube</td>\n",
              "      <td>Watched Uma LINGUAGEM para CIÊNCIA de DADOS? |...</td>\n",
              "      <td>https://www.youtube.com/watch?v=Tj0CUAyxjck</td>\n",
              "      <td>2021-02-21 17:51:25.593000-03:00</td>\n",
              "      <td>YouTube</td>\n",
              "      <td>NaN</td>\n",
              "      <td>Science &amp; Technology</td>\n",
              "      <td>Vithor</td>\n",
              "      <td>Tarde</td>\n",
              "    </tr>\n",
              "    <tr>\n",
              "      <th>6425</th>\n",
              "      <td>Programação Dinâmica</td>\n",
              "      <td>https://www.youtube.com/channel/UC70mr11REaCqg...</td>\n",
              "      <td>YouTube</td>\n",
              "      <td>Watched Como criar um PLANO DE ESTUDOS para se...</td>\n",
              "      <td>https://www.youtube.com/watch?v=o8NpsLSkKUo</td>\n",
              "      <td>2021-02-21 10:53:42.673000-03:00</td>\n",
              "      <td>YouTube</td>\n",
              "      <td>NaN</td>\n",
              "      <td>Science &amp; Technology</td>\n",
              "      <td>Vithor</td>\n",
              "      <td>Manhã</td>\n",
              "    </tr>\n",
              "    <tr>\n",
              "      <th>6460</th>\n",
              "      <td>Programação Dinâmica</td>\n",
              "      <td>https://www.youtube.com/channel/UC70mr11REaCqg...</td>\n",
              "      <td>YouTube</td>\n",
              "      <td>Watched Precisa saber inglês para ser CIENTIST...</td>\n",
              "      <td>https://www.youtube.com/watch?v=RBULO6Rd2TY</td>\n",
              "      <td>2021-02-20 21:40:38.971000-02:00</td>\n",
              "      <td>YouTube</td>\n",
              "      <td>NaN</td>\n",
              "      <td>Education</td>\n",
              "      <td>Vithor</td>\n",
              "      <td>Noite</td>\n",
              "    </tr>\n",
              "    <tr>\n",
              "      <th>6475</th>\n",
              "      <td>Programação Dinâmica</td>\n",
              "      <td>https://www.youtube.com/channel/UC70mr11REaCqg...</td>\n",
              "      <td>YouTube</td>\n",
              "      <td>Watched Matemática Elementar para Computação! ...</td>\n",
              "      <td>https://www.youtube.com/watch?v=nIN5_nHGk4w</td>\n",
              "      <td>2021-02-20 19:33:38.050000-02:00</td>\n",
              "      <td>YouTube</td>\n",
              "      <td>NaN</td>\n",
              "      <td>Science &amp; Technology</td>\n",
              "      <td>Vithor</td>\n",
              "      <td>Noite</td>\n",
              "    </tr>\n",
              "    <tr>\n",
              "      <th>6662</th>\n",
              "      <td>Programação Dinâmica</td>\n",
              "      <td>https://www.youtube.com/channel/UC70mr11REaCqg...</td>\n",
              "      <td>YouTube</td>\n",
              "      <td>Watched ESTUDE ENQUANTO ELES DORMEM 🤡 Quanto t...</td>\n",
              "      <td>https://www.youtube.com/watch?v=j6hcALm0mLM</td>\n",
              "      <td>2021-02-13 11:25:12.138000-02:00</td>\n",
              "      <td>YouTube</td>\n",
              "      <td>NaN</td>\n",
              "      <td>Education</td>\n",
              "      <td>Vithor</td>\n",
              "      <td>Manhã</td>\n",
              "    </tr>\n",
              "    <tr>\n",
              "      <th>6909</th>\n",
              "      <td>Programação Dinâmica</td>\n",
              "      <td>https://www.youtube.com/channel/UC70mr11REaCqg...</td>\n",
              "      <td>YouTube</td>\n",
              "      <td>Watched RASPAGEM de DADOS com PYTHON usando Be...</td>\n",
              "      <td>https://www.youtube.com/watch?v=kqvWOcPog4s</td>\n",
              "      <td>2021-02-03 16:48:53.513000-02:00</td>\n",
              "      <td>YouTube</td>\n",
              "      <td>NaN</td>\n",
              "      <td>Education</td>\n",
              "      <td>Vithor</td>\n",
              "      <td>Tarde</td>\n",
              "    </tr>\n",
              "    <tr>\n",
              "      <th>7041</th>\n",
              "      <td>Programação Dinâmica</td>\n",
              "      <td>https://www.youtube.com/channel/UC70mr11REaCqg...</td>\n",
              "      <td>YouTube</td>\n",
              "      <td>Watched Por que e como estudar ALGORITMOS e ES...</td>\n",
              "      <td>https://www.youtube.com/watch?v=SqBgnMgFQTU</td>\n",
              "      <td>2021-01-28 00:15:46.271000-02:00</td>\n",
              "      <td>YouTube</td>\n",
              "      <td>NaN</td>\n",
              "      <td>Education</td>\n",
              "      <td>Vithor</td>\n",
              "      <td>Madrugada</td>\n",
              "    </tr>\n",
              "    <tr>\n",
              "      <th>7517</th>\n",
              "      <td>Programação Dinâmica</td>\n",
              "      <td>https://www.youtube.com/channel/UC70mr11REaCqg...</td>\n",
              "      <td>YouTube</td>\n",
              "      <td>Watched ADEUS WHATSAPP? ENTENDA OS NOVOS TERMO...</td>\n",
              "      <td>https://www.youtube.com/watch?v=qAUbkKtqqZA</td>\n",
              "      <td>2021-01-14 09:00:33.082000-02:00</td>\n",
              "      <td>YouTube</td>\n",
              "      <td>NaN</td>\n",
              "      <td>Education</td>\n",
              "      <td>Vithor</td>\n",
              "      <td>Manhã</td>\n",
              "    </tr>\n",
              "    <tr>\n",
              "      <th>10882</th>\n",
              "      <td>Programação Dinâmica</td>\n",
              "      <td>https://www.youtube.com/channel/UC70mr11REaCqg...</td>\n",
              "      <td>YouTube</td>\n",
              "      <td>Watched Desafio de dados com prêmio de CEM MIL...</td>\n",
              "      <td>https://www.youtube.com/watch?v=WycZXyscLzg</td>\n",
              "      <td>2020-10-12 12:20:18.743000-03:00</td>\n",
              "      <td>YouTube</td>\n",
              "      <td>NaN</td>\n",
              "      <td>Science &amp; Technology</td>\n",
              "      <td>Vithor</td>\n",
              "      <td>Manhã</td>\n",
              "    </tr>\n",
              "  </tbody>\n",
              "</table>\n",
              "</div>"
            ],
            "text/plain": [
              "                    channel  ... period_day\n",
              "2949   Programação Dinâmica  ...      Manhã\n",
              "2959   Programação Dinâmica  ...      Noite\n",
              "3471   Programação Dinâmica  ...      Tarde\n",
              "3665   Programação Dinâmica  ...      Tarde\n",
              "4477   Programação Dinâmica  ...      Tarde\n",
              "4555   Programação Dinâmica  ...      Manhã\n",
              "4573   Programação Dinâmica  ...      Noite\n",
              "4634   Programação Dinâmica  ...      Noite\n",
              "4921   Programação Dinâmica  ...      Noite\n",
              "5071   Programação Dinâmica  ...      Tarde\n",
              "5234   Programação Dinâmica  ...      Noite\n",
              "5280   Programação Dinâmica  ...      Manhã\n",
              "5528   Programação Dinâmica  ...      Tarde\n",
              "5585   Programação Dinâmica  ...      Noite\n",
              "5651   Programação Dinâmica  ...      Manhã\n",
              "5672   Programação Dinâmica  ...      Manhã\n",
              "5878   Programação Dinâmica  ...      Manhã\n",
              "6221   Programação Dinâmica  ...      Tarde\n",
              "6320   Programação Dinâmica  ...      Manhã\n",
              "6329   Programação Dinâmica  ...      Noite\n",
              "6405   Programação Dinâmica  ...      Noite\n",
              "6409   Programação Dinâmica  ...      Tarde\n",
              "6425   Programação Dinâmica  ...      Manhã\n",
              "6460   Programação Dinâmica  ...      Noite\n",
              "6475   Programação Dinâmica  ...      Noite\n",
              "6662   Programação Dinâmica  ...      Manhã\n",
              "6909   Programação Dinâmica  ...      Tarde\n",
              "7041   Programação Dinâmica  ...  Madrugada\n",
              "7517   Programação Dinâmica  ...      Manhã\n",
              "10882  Programação Dinâmica  ...      Manhã\n",
              "\n",
              "[30 rows x 11 columns]"
            ]
          },
          "metadata": {
            "tags": []
          },
          "execution_count": 108
        }
      ]
    },
    {
      "cell_type": "markdown",
      "metadata": {
        "id": "w0cp8XBevvuZ"
      },
      "source": [
        "## Chrome History"
      ],
      "id": "w0cp8XBevvuZ"
    },
    {
      "cell_type": "code",
      "metadata": {
        "id": "fCILwQDYTGZ-"
      },
      "source": [
        "from datetime import timezone, datetime"
      ],
      "id": "fCILwQDYTGZ-",
      "execution_count": null,
      "outputs": []
    },
    {
      "cell_type": "code",
      "metadata": {
        "id": "mlYEik2nvyfT"
      },
      "source": [
        "chr = pd.read_csv('/content/drive/Shareddrives/Data Reporting/browser_hist_linked.csv')"
      ],
      "id": "mlYEik2nvyfT",
      "execution_count": null,
      "outputs": []
    },
    {
      "cell_type": "code",
      "metadata": {
        "colab": {
          "base_uri": "https://localhost:8080/"
        },
        "id": "qhLe8PJLYP2O",
        "outputId": "6d60a9c3-3dd7-479f-cdc7-fc7531b76655"
      },
      "source": [
        "chr.info()"
      ],
      "id": "qhLe8PJLYP2O",
      "execution_count": null,
      "outputs": [
        {
          "output_type": "stream",
          "text": [
            "<class 'pandas.core.frame.DataFrame'>\n",
            "RangeIndex: 126013 entries, 0 to 126012\n",
            "Data columns (total 6 columns):\n",
            " #   Column           Non-Null Count   Dtype                      \n",
            "---  ------           --------------   -----                      \n",
            " 0   user             126013 non-null  object                     \n",
            " 1   page_transition  126013 non-null  object                     \n",
            " 2   title            123801 non-null  object                     \n",
            " 3   url              126013 non-null  object                     \n",
            " 4   time             126013 non-null  datetime64[ns, Brazil/East]\n",
            " 5   url_root         126013 non-null  object                     \n",
            "dtypes: datetime64[ns, Brazil/East](1), object(5)\n",
            "memory usage: 5.8+ MB\n"
          ],
          "name": "stdout"
        }
      ]
    },
    {
      "cell_type": "code",
      "metadata": {
        "id": "-aZPmh-nSa2l"
      },
      "source": [
        "chr['time'] = pd.to_datetime(chr['time'], utc=True)\n",
        "chr['time'] = chr['time'].dt.tz_convert(my_timezone)"
      ],
      "id": "-aZPmh-nSa2l",
      "execution_count": null,
      "outputs": []
    },
    {
      "cell_type": "code",
      "metadata": {
        "colab": {
          "base_uri": "https://localhost:8080/"
        },
        "id": "KAE3CtBeUlFj",
        "outputId": "3c1635e7-9118-4290-e1e0-c29bf8481cb2"
      },
      "source": [
        "chr[(chr.user == 'Vithor') & (chr.time.dt.year == 2021)].time.dt.month.value_counts()"
      ],
      "id": "KAE3CtBeUlFj",
      "execution_count": null,
      "outputs": [
        {
          "output_type": "execute_result",
          "data": {
            "text/plain": [
              "3    21535\n",
              "4    17477\n",
              "5    14460\n",
              "2    14006\n",
              "1    11138\n",
              "6     1272\n",
              "7      659\n",
              "Name: time, dtype: int64"
            ]
          },
          "metadata": {
            "tags": []
          },
          "execution_count": 11
        }
      ]
    },
    {
      "cell_type": "markdown",
      "metadata": {
        "id": "8aSq6HIoPzjP"
      },
      "source": [
        "### Site em comum"
      ],
      "id": "8aSq6HIoPzjP"
    },
    {
      "cell_type": "code",
      "metadata": {
        "id": "pgQxutdkbKwL"
      },
      "source": [
        "import re"
      ],
      "id": "pgQxutdkbKwL",
      "execution_count": null,
      "outputs": []
    },
    {
      "cell_type": "code",
      "metadata": {
        "id": "BiROHb3YY8g1"
      },
      "source": [
        "chr['url_root'] = chr['url'].apply(lambda x: ''.join(re.findall('https?://(?:[-\\w.]|(?:%[\\da-fA-F]{2}))+', x)))"
      ],
      "id": "BiROHb3YY8g1",
      "execution_count": null,
      "outputs": []
    },
    {
      "cell_type": "code",
      "metadata": {
        "colab": {
          "base_uri": "https://localhost:8080/"
        },
        "id": "h-x_wIKtflFQ",
        "outputId": "7147dc25-4170-4e1d-9358-246860075265"
      },
      "source": [
        "chr[chr['title'].str.contains('ifood', na=False)]['user'].unique()"
      ],
      "id": "h-x_wIKtflFQ",
      "execution_count": null,
      "outputs": [
        {
          "output_type": "execute_result",
          "data": {
            "text/plain": [
              "array(['Vithor', 'Patryck', 'Juliana'], dtype=object)"
            ]
          },
          "metadata": {
            "tags": []
          },
          "execution_count": 12
        }
      ]
    },
    {
      "cell_type": "code",
      "metadata": {
        "colab": {
          "base_uri": "https://localhost:8080/",
          "height": 422
        },
        "id": "DXhi1H-JeLEQ",
        "outputId": "8abb3950-2755-4945-dd61-0dbd3cea2e80"
      },
      "source": [
        "chr.groupby(['url_root', 'user'], as_index=False).size()"
      ],
      "id": "DXhi1H-JeLEQ",
      "execution_count": null,
      "outputs": [
        {
          "output_type": "execute_result",
          "data": {
            "text/html": [
              "<div>\n",
              "<style scoped>\n",
              "    .dataframe tbody tr th:only-of-type {\n",
              "        vertical-align: middle;\n",
              "    }\n",
              "\n",
              "    .dataframe tbody tr th {\n",
              "        vertical-align: top;\n",
              "    }\n",
              "\n",
              "    .dataframe thead th {\n",
              "        text-align: right;\n",
              "    }\n",
              "</style>\n",
              "<table border=\"1\" class=\"dataframe\">\n",
              "  <thead>\n",
              "    <tr style=\"text-align: right;\">\n",
              "      <th></th>\n",
              "      <th>url_root</th>\n",
              "      <th>user</th>\n",
              "      <th>size</th>\n",
              "    </tr>\n",
              "  </thead>\n",
              "  <tbody>\n",
              "    <tr>\n",
              "      <th>0</th>\n",
              "      <td></td>\n",
              "      <td>Juliana</td>\n",
              "      <td>15</td>\n",
              "    </tr>\n",
              "    <tr>\n",
              "      <th>1</th>\n",
              "      <td></td>\n",
              "      <td>Patryck</td>\n",
              "      <td>1118</td>\n",
              "    </tr>\n",
              "    <tr>\n",
              "      <th>2</th>\n",
              "      <td></td>\n",
              "      <td>Vithor</td>\n",
              "      <td>9978</td>\n",
              "    </tr>\n",
              "    <tr>\n",
              "      <th>3</th>\n",
              "      <td>http://119.23.8.25</td>\n",
              "      <td>Vithor</td>\n",
              "      <td>2</td>\n",
              "    </tr>\n",
              "    <tr>\n",
              "      <th>4</th>\n",
              "      <td>http://127.0.0.1</td>\n",
              "      <td>Patryck</td>\n",
              "      <td>67</td>\n",
              "    </tr>\n",
              "    <tr>\n",
              "      <th>...</th>\n",
              "      <td>...</td>\n",
              "      <td>...</td>\n",
              "      <td>...</td>\n",
              "    </tr>\n",
              "    <tr>\n",
              "      <th>4905</th>\n",
              "      <td>https://zoom.us</td>\n",
              "      <td>Vithor</td>\n",
              "      <td>9</td>\n",
              "    </tr>\n",
              "    <tr>\n",
              "      <th>4906</th>\n",
              "      <td>https://zorinos.com</td>\n",
              "      <td>Patryck</td>\n",
              "      <td>16</td>\n",
              "    </tr>\n",
              "    <tr>\n",
              "      <th>4907</th>\n",
              "      <td>https://zviybblezmc.com</td>\n",
              "      <td>Vithor</td>\n",
              "      <td>1</td>\n",
              "    </tr>\n",
              "    <tr>\n",
              "      <th>4908</th>\n",
              "      <td>https://zxgroymagqu.com</td>\n",
              "      <td>Vithor</td>\n",
              "      <td>5</td>\n",
              "    </tr>\n",
              "    <tr>\n",
              "      <th>4909</th>\n",
              "      <td>https://zz.bdstatic.com</td>\n",
              "      <td>Vithor</td>\n",
              "      <td>2</td>\n",
              "    </tr>\n",
              "  </tbody>\n",
              "</table>\n",
              "<p>4910 rows × 3 columns</p>\n",
              "</div>"
            ],
            "text/plain": [
              "                     url_root     user  size\n",
              "0                              Juliana    15\n",
              "1                              Patryck  1118\n",
              "2                               Vithor  9978\n",
              "3          http://119.23.8.25   Vithor     2\n",
              "4            http://127.0.0.1  Patryck    67\n",
              "...                       ...      ...   ...\n",
              "4905          https://zoom.us   Vithor     9\n",
              "4906      https://zorinos.com  Patryck    16\n",
              "4907  https://zviybblezmc.com   Vithor     1\n",
              "4908  https://zxgroymagqu.com   Vithor     5\n",
              "4909  https://zz.bdstatic.com   Vithor     2\n",
              "\n",
              "[4910 rows x 3 columns]"
            ]
          },
          "metadata": {
            "tags": []
          },
          "execution_count": 24
        }
      ]
    },
    {
      "cell_type": "code",
      "metadata": {
        "colab": {
          "base_uri": "https://localhost:8080/"
        },
        "id": "chgJwR15iYmV",
        "outputId": "34ec64bd-76f1-45c0-bd38-c9bb041a8699"
      },
      "source": [
        "chr.user.value_counts()"
      ],
      "id": "chgJwR15iYmV",
      "execution_count": null,
      "outputs": [
        {
          "output_type": "execute_result",
          "data": {
            "text/plain": [
              "Vithor     101675\n",
              "Patryck     23785\n",
              "Juliana       553\n",
              "Name: user, dtype: int64"
            ]
          },
          "metadata": {
            "tags": []
          },
          "execution_count": 25
        }
      ]
    },
    {
      "cell_type": "code",
      "metadata": {
        "colab": {
          "base_uri": "https://localhost:8080/"
        },
        "id": "KqYgZgD0cHOB",
        "outputId": "2aa970ef-b1fb-4096-be05-aeb3dc615bde"
      },
      "source": [
        "# for j in chr['site_root'].unique():\n",
        "grouped = chr.groupby(['url_root', 'user'], as_index=False).size()\n",
        "match_list = {}\n",
        "for i in grouped['url_root'].unique():\n",
        "    if len(grouped[grouped['url_root'] == i]['user'].unique()) == 3:\n",
        "      match_list[i] = grouped[grouped['url_root'] == i]['user'].unique()\n",
        "      #  match_list[i] = grouped[grouped['channel'] == i]['size'].sum()\n",
        "print(match_list)"
      ],
      "id": "KqYgZgD0cHOB",
      "execution_count": null,
      "outputs": [
        {
          "output_type": "stream",
          "text": [
            "{'': array(['Juliana', 'Patryck', 'Vithor'], dtype=object), 'https://accounts.google.com': array(['Juliana', 'Patryck', 'Vithor'], dtype=object), 'https://doswinuba.com': array(['Juliana', 'Patryck', 'Vithor'], dtype=object), 'https://globoplay.globo.com': array(['Juliana', 'Patryck', 'Vithor'], dtype=object), 'https://hauphuchaum.com': array(['Juliana', 'Patryck', 'Vithor'], dtype=object), 'https://mobile.bet365.com': array(['Juliana', 'Patryck', 'Vithor'], dtype=object), 'https://outlook.live.com': array(['Juliana', 'Patryck', 'Vithor'], dtype=object), 'https://www.coursera.org': array(['Juliana', 'Patryck', 'Vithor'], dtype=object), 'https://www.glassdoor.com.br': array(['Juliana', 'Patryck', 'Vithor'], dtype=object), 'https://www.google.com': array(['Juliana', 'Patryck', 'Vithor'], dtype=object), 'https://www.google.com.br': array(['Juliana', 'Patryck', 'Vithor'], dtype=object), 'https://www.linkedin.com': array(['Juliana', 'Patryck', 'Vithor'], dtype=object)}\n"
          ],
          "name": "stdout"
        }
      ]
    },
    {
      "cell_type": "markdown",
      "metadata": {
        "id": "Pn8WqeJGwim4"
      },
      "source": [
        "### Em quais horários navegamos mais na internet?"
      ],
      "id": "Pn8WqeJGwim4"
    },
    {
      "cell_type": "code",
      "metadata": {
        "id": "TTDL-HVqwH-o"
      },
      "source": [
        "time_hour_prop = (\n",
        "    chr\n",
        "    .groupby([chr.user, chr.time.dt.hour])\n",
        "    .size()\n",
        "    .groupby(level=[0])\n",
        "    .apply(lambda x: (x / x.sum()) * 100)\n",
        "    \n",
        ").reset_index()"
      ],
      "id": "TTDL-HVqwH-o",
      "execution_count": null,
      "outputs": []
    },
    {
      "cell_type": "code",
      "metadata": {
        "id": "ZOvNUodsxlj-"
      },
      "source": [
        "time_hour_prop.columns = ['user', 'time', 'percentage']"
      ],
      "id": "ZOvNUodsxlj-",
      "execution_count": null,
      "outputs": []
    },
    {
      "cell_type": "code",
      "metadata": {
        "id": "yhQCy0vrwh4n",
        "colab": {
          "base_uri": "https://localhost:8080/",
          "height": 205
        },
        "outputId": "d2ccdcc2-2592-4d25-a291-a5a3e825c9e8"
      },
      "source": [
        "time_hour_prop.head()"
      ],
      "id": "yhQCy0vrwh4n",
      "execution_count": null,
      "outputs": [
        {
          "output_type": "execute_result",
          "data": {
            "text/html": [
              "<div>\n",
              "<style scoped>\n",
              "    .dataframe tbody tr th:only-of-type {\n",
              "        vertical-align: middle;\n",
              "    }\n",
              "\n",
              "    .dataframe tbody tr th {\n",
              "        vertical-align: top;\n",
              "    }\n",
              "\n",
              "    .dataframe thead th {\n",
              "        text-align: right;\n",
              "    }\n",
              "</style>\n",
              "<table border=\"1\" class=\"dataframe\">\n",
              "  <thead>\n",
              "    <tr style=\"text-align: right;\">\n",
              "      <th></th>\n",
              "      <th>user</th>\n",
              "      <th>time</th>\n",
              "      <th>percentage</th>\n",
              "    </tr>\n",
              "  </thead>\n",
              "  <tbody>\n",
              "    <tr>\n",
              "      <th>0</th>\n",
              "      <td>Juliana</td>\n",
              "      <td>0</td>\n",
              "      <td>36.528029</td>\n",
              "    </tr>\n",
              "    <tr>\n",
              "      <th>1</th>\n",
              "      <td>Juliana</td>\n",
              "      <td>1</td>\n",
              "      <td>1.627486</td>\n",
              "    </tr>\n",
              "    <tr>\n",
              "      <th>2</th>\n",
              "      <td>Juliana</td>\n",
              "      <td>2</td>\n",
              "      <td>2.169982</td>\n",
              "    </tr>\n",
              "    <tr>\n",
              "      <th>3</th>\n",
              "      <td>Juliana</td>\n",
              "      <td>3</td>\n",
              "      <td>3.435805</td>\n",
              "    </tr>\n",
              "    <tr>\n",
              "      <th>4</th>\n",
              "      <td>Juliana</td>\n",
              "      <td>11</td>\n",
              "      <td>8.679928</td>\n",
              "    </tr>\n",
              "  </tbody>\n",
              "</table>\n",
              "</div>"
            ],
            "text/plain": [
              "      user  time  percentage\n",
              "0  Juliana     0   36.528029\n",
              "1  Juliana     1    1.627486\n",
              "2  Juliana     2    2.169982\n",
              "3  Juliana     3    3.435805\n",
              "4  Juliana    11    8.679928"
            ]
          },
          "metadata": {
            "tags": []
          },
          "execution_count": 29
        }
      ]
    },
    {
      "cell_type": "code",
      "metadata": {
        "id": "gL0YGHMhw7oR",
        "colab": {
          "base_uri": "https://localhost:8080/",
          "height": 542
        },
        "outputId": "3e72f47a-ada1-4539-9518-e514f5fe91c2"
      },
      "source": [
        "time_hour_prop.plot(kind='bar', x='time', y='percentage', color='user', barmode='group')"
      ],
      "id": "gL0YGHMhw7oR",
      "execution_count": null,
      "outputs": [
        {
          "output_type": "display_data",
          "data": {
            "text/html": [
              "<html>\n",
              "<head><meta charset=\"utf-8\" /></head>\n",
              "<body>\n",
              "    <div>            <script src=\"https://cdnjs.cloudflare.com/ajax/libs/mathjax/2.7.5/MathJax.js?config=TeX-AMS-MML_SVG\"></script><script type=\"text/javascript\">if (window.MathJax) {MathJax.Hub.Config({SVG: {font: \"STIX-Web\"}});}</script>                <script type=\"text/javascript\">window.PlotlyConfig = {MathJaxConfig: 'local'};</script>\n",
              "        <script src=\"https://cdn.plot.ly/plotly-2.2.0.min.js\"></script>                <div id=\"9fa980d7-11e5-484d-b5fe-5224876c297b\" class=\"plotly-graph-div\" style=\"height:525px; width:100%;\"></div>            <script type=\"text/javascript\">                                    window.PLOTLYENV=window.PLOTLYENV || {};                                    if (document.getElementById(\"9fa980d7-11e5-484d-b5fe-5224876c297b\")) {                    Plotly.newPlot(                        \"9fa980d7-11e5-484d-b5fe-5224876c297b\",                        [{\"alignmentgroup\":\"True\",\"hovertemplate\":\"user=Juliana<br>time=%{x}<br>percentage=%{y}<extra></extra>\",\"legendgroup\":\"Juliana\",\"marker\":{\"color\":\"#636efa\",\"pattern\":{\"shape\":\"\"}},\"name\":\"Juliana\",\"offsetgroup\":\"Juliana\",\"orientation\":\"v\",\"showlegend\":true,\"textposition\":\"auto\",\"type\":\"bar\",\"x\":[0,1,2,3,11,12,14,15,16,18,19,20,21,22,23],\"xaxis\":\"x\",\"y\":[36.52802893309223,1.62748643761302,2.1699819168173597,3.4358047016274864,8.679927667269439,0.3616636528028933,1.62748643761302,0.7233273056057866,0.3616636528028933,7.05244122965642,17.359855334538878,5.244122965641953,0.9041591320072333,7.05244122965642,6.871609403254973],\"yaxis\":\"y\"},{\"alignmentgroup\":\"True\",\"hovertemplate\":\"user=Patryck<br>time=%{x}<br>percentage=%{y}<extra></extra>\",\"legendgroup\":\"Patryck\",\"marker\":{\"color\":\"#EF553B\",\"pattern\":{\"shape\":\"\"}},\"name\":\"Patryck\",\"offsetgroup\":\"Patryck\",\"orientation\":\"v\",\"showlegend\":true,\"textposition\":\"auto\",\"type\":\"bar\",\"x\":[0,1,2,3,4,5,6,7,8,9,10,11,12,13,14,15,16,17,18,19,20,21,22,23],\"xaxis\":\"x\",\"y\":[7.735968047088501,7.735968047088501,4.628967836871978,4.460794618457011,1.7826361151986547,0.4204330460374185,0.5844019339920118,1.0174479714105529,1.0805129283161656,1.0973302501576625,0.7441664914862308,1.450494008829094,1.887744376708009,2.694975825099853,3.628337187302922,3.7544671011141477,6.121505150304814,6.058440193399202,6.365356317006516,6.247635064116039,6.285474038259407,8.787050662182047,7.727559386167752,7.7023334034055075],\"yaxis\":\"y\"},{\"alignmentgroup\":\"True\",\"hovertemplate\":\"user=Vithor<br>time=%{x}<br>percentage=%{y}<extra></extra>\",\"legendgroup\":\"Vithor\",\"marker\":{\"color\":\"#00cc96\",\"pattern\":{\"shape\":\"\"}},\"name\":\"Vithor\",\"offsetgroup\":\"Vithor\",\"orientation\":\"v\",\"showlegend\":true,\"textposition\":\"auto\",\"type\":\"bar\",\"x\":[0,1,2,3,4,5,6,7,8,9,10,11,12,13,14,15,16,17,18,19,20,21,22,23],\"xaxis\":\"x\",\"y\":[1.1625276616670766,0.304893041553971,0.06392918613228424,0.003934103761986722,0.005901155642980084,0.0914679124661913,0.14457831325301204,0.6737152692402262,3.5416769117285467,5.656257683796411,6.931890828620604,7.787558396852718,6.56601917875584,7.6901893287435446,6.753872633390706,6.748955003688223,6.146053602163757,5.9847553479223015,6.532579296778953,7.218096877305139,6.31718711581018,6.128350135234816,4.599950823702975,2.9456601917875584],\"yaxis\":\"y\"}],                        {\"barmode\":\"group\",\"legend\":{\"title\":{\"text\":\"user\"},\"tracegroupgap\":0},\"margin\":{\"t\":60},\"template\":{\"data\":{\"bar\":[{\"error_x\":{\"color\":\"#2a3f5f\"},\"error_y\":{\"color\":\"#2a3f5f\"},\"marker\":{\"line\":{\"color\":\"#E5ECF6\",\"width\":0.5},\"pattern\":{\"fillmode\":\"overlay\",\"size\":10,\"solidity\":0.2}},\"type\":\"bar\"}],\"barpolar\":[{\"marker\":{\"line\":{\"color\":\"#E5ECF6\",\"width\":0.5},\"pattern\":{\"fillmode\":\"overlay\",\"size\":10,\"solidity\":0.2}},\"type\":\"barpolar\"}],\"carpet\":[{\"aaxis\":{\"endlinecolor\":\"#2a3f5f\",\"gridcolor\":\"white\",\"linecolor\":\"white\",\"minorgridcolor\":\"white\",\"startlinecolor\":\"#2a3f5f\"},\"baxis\":{\"endlinecolor\":\"#2a3f5f\",\"gridcolor\":\"white\",\"linecolor\":\"white\",\"minorgridcolor\":\"white\",\"startlinecolor\":\"#2a3f5f\"},\"type\":\"carpet\"}],\"choropleth\":[{\"colorbar\":{\"outlinewidth\":0,\"ticks\":\"\"},\"type\":\"choropleth\"}],\"contour\":[{\"colorbar\":{\"outlinewidth\":0,\"ticks\":\"\"},\"colorscale\":[[0.0,\"#0d0887\"],[0.1111111111111111,\"#46039f\"],[0.2222222222222222,\"#7201a8\"],[0.3333333333333333,\"#9c179e\"],[0.4444444444444444,\"#bd3786\"],[0.5555555555555556,\"#d8576b\"],[0.6666666666666666,\"#ed7953\"],[0.7777777777777778,\"#fb9f3a\"],[0.8888888888888888,\"#fdca26\"],[1.0,\"#f0f921\"]],\"type\":\"contour\"}],\"contourcarpet\":[{\"colorbar\":{\"outlinewidth\":0,\"ticks\":\"\"},\"type\":\"contourcarpet\"}],\"heatmap\":[{\"colorbar\":{\"outlinewidth\":0,\"ticks\":\"\"},\"colorscale\":[[0.0,\"#0d0887\"],[0.1111111111111111,\"#46039f\"],[0.2222222222222222,\"#7201a8\"],[0.3333333333333333,\"#9c179e\"],[0.4444444444444444,\"#bd3786\"],[0.5555555555555556,\"#d8576b\"],[0.6666666666666666,\"#ed7953\"],[0.7777777777777778,\"#fb9f3a\"],[0.8888888888888888,\"#fdca26\"],[1.0,\"#f0f921\"]],\"type\":\"heatmap\"}],\"heatmapgl\":[{\"colorbar\":{\"outlinewidth\":0,\"ticks\":\"\"},\"colorscale\":[[0.0,\"#0d0887\"],[0.1111111111111111,\"#46039f\"],[0.2222222222222222,\"#7201a8\"],[0.3333333333333333,\"#9c179e\"],[0.4444444444444444,\"#bd3786\"],[0.5555555555555556,\"#d8576b\"],[0.6666666666666666,\"#ed7953\"],[0.7777777777777778,\"#fb9f3a\"],[0.8888888888888888,\"#fdca26\"],[1.0,\"#f0f921\"]],\"type\":\"heatmapgl\"}],\"histogram\":[{\"marker\":{\"pattern\":{\"fillmode\":\"overlay\",\"size\":10,\"solidity\":0.2}},\"type\":\"histogram\"}],\"histogram2d\":[{\"colorbar\":{\"outlinewidth\":0,\"ticks\":\"\"},\"colorscale\":[[0.0,\"#0d0887\"],[0.1111111111111111,\"#46039f\"],[0.2222222222222222,\"#7201a8\"],[0.3333333333333333,\"#9c179e\"],[0.4444444444444444,\"#bd3786\"],[0.5555555555555556,\"#d8576b\"],[0.6666666666666666,\"#ed7953\"],[0.7777777777777778,\"#fb9f3a\"],[0.8888888888888888,\"#fdca26\"],[1.0,\"#f0f921\"]],\"type\":\"histogram2d\"}],\"histogram2dcontour\":[{\"colorbar\":{\"outlinewidth\":0,\"ticks\":\"\"},\"colorscale\":[[0.0,\"#0d0887\"],[0.1111111111111111,\"#46039f\"],[0.2222222222222222,\"#7201a8\"],[0.3333333333333333,\"#9c179e\"],[0.4444444444444444,\"#bd3786\"],[0.5555555555555556,\"#d8576b\"],[0.6666666666666666,\"#ed7953\"],[0.7777777777777778,\"#fb9f3a\"],[0.8888888888888888,\"#fdca26\"],[1.0,\"#f0f921\"]],\"type\":\"histogram2dcontour\"}],\"mesh3d\":[{\"colorbar\":{\"outlinewidth\":0,\"ticks\":\"\"},\"type\":\"mesh3d\"}],\"parcoords\":[{\"line\":{\"colorbar\":{\"outlinewidth\":0,\"ticks\":\"\"}},\"type\":\"parcoords\"}],\"pie\":[{\"automargin\":true,\"type\":\"pie\"}],\"scatter\":[{\"marker\":{\"colorbar\":{\"outlinewidth\":0,\"ticks\":\"\"}},\"type\":\"scatter\"}],\"scatter3d\":[{\"line\":{\"colorbar\":{\"outlinewidth\":0,\"ticks\":\"\"}},\"marker\":{\"colorbar\":{\"outlinewidth\":0,\"ticks\":\"\"}},\"type\":\"scatter3d\"}],\"scattercarpet\":[{\"marker\":{\"colorbar\":{\"outlinewidth\":0,\"ticks\":\"\"}},\"type\":\"scattercarpet\"}],\"scattergeo\":[{\"marker\":{\"colorbar\":{\"outlinewidth\":0,\"ticks\":\"\"}},\"type\":\"scattergeo\"}],\"scattergl\":[{\"marker\":{\"colorbar\":{\"outlinewidth\":0,\"ticks\":\"\"}},\"type\":\"scattergl\"}],\"scattermapbox\":[{\"marker\":{\"colorbar\":{\"outlinewidth\":0,\"ticks\":\"\"}},\"type\":\"scattermapbox\"}],\"scatterpolar\":[{\"marker\":{\"colorbar\":{\"outlinewidth\":0,\"ticks\":\"\"}},\"type\":\"scatterpolar\"}],\"scatterpolargl\":[{\"marker\":{\"colorbar\":{\"outlinewidth\":0,\"ticks\":\"\"}},\"type\":\"scatterpolargl\"}],\"scatterternary\":[{\"marker\":{\"colorbar\":{\"outlinewidth\":0,\"ticks\":\"\"}},\"type\":\"scatterternary\"}],\"surface\":[{\"colorbar\":{\"outlinewidth\":0,\"ticks\":\"\"},\"colorscale\":[[0.0,\"#0d0887\"],[0.1111111111111111,\"#46039f\"],[0.2222222222222222,\"#7201a8\"],[0.3333333333333333,\"#9c179e\"],[0.4444444444444444,\"#bd3786\"],[0.5555555555555556,\"#d8576b\"],[0.6666666666666666,\"#ed7953\"],[0.7777777777777778,\"#fb9f3a\"],[0.8888888888888888,\"#fdca26\"],[1.0,\"#f0f921\"]],\"type\":\"surface\"}],\"table\":[{\"cells\":{\"fill\":{\"color\":\"#EBF0F8\"},\"line\":{\"color\":\"white\"}},\"header\":{\"fill\":{\"color\":\"#C8D4E3\"},\"line\":{\"color\":\"white\"}},\"type\":\"table\"}]},\"layout\":{\"annotationdefaults\":{\"arrowcolor\":\"#2a3f5f\",\"arrowhead\":0,\"arrowwidth\":1},\"autotypenumbers\":\"strict\",\"coloraxis\":{\"colorbar\":{\"outlinewidth\":0,\"ticks\":\"\"}},\"colorscale\":{\"diverging\":[[0,\"#8e0152\"],[0.1,\"#c51b7d\"],[0.2,\"#de77ae\"],[0.3,\"#f1b6da\"],[0.4,\"#fde0ef\"],[0.5,\"#f7f7f7\"],[0.6,\"#e6f5d0\"],[0.7,\"#b8e186\"],[0.8,\"#7fbc41\"],[0.9,\"#4d9221\"],[1,\"#276419\"]],\"sequential\":[[0.0,\"#0d0887\"],[0.1111111111111111,\"#46039f\"],[0.2222222222222222,\"#7201a8\"],[0.3333333333333333,\"#9c179e\"],[0.4444444444444444,\"#bd3786\"],[0.5555555555555556,\"#d8576b\"],[0.6666666666666666,\"#ed7953\"],[0.7777777777777778,\"#fb9f3a\"],[0.8888888888888888,\"#fdca26\"],[1.0,\"#f0f921\"]],\"sequentialminus\":[[0.0,\"#0d0887\"],[0.1111111111111111,\"#46039f\"],[0.2222222222222222,\"#7201a8\"],[0.3333333333333333,\"#9c179e\"],[0.4444444444444444,\"#bd3786\"],[0.5555555555555556,\"#d8576b\"],[0.6666666666666666,\"#ed7953\"],[0.7777777777777778,\"#fb9f3a\"],[0.8888888888888888,\"#fdca26\"],[1.0,\"#f0f921\"]]},\"colorway\":[\"#636efa\",\"#EF553B\",\"#00cc96\",\"#ab63fa\",\"#FFA15A\",\"#19d3f3\",\"#FF6692\",\"#B6E880\",\"#FF97FF\",\"#FECB52\"],\"font\":{\"color\":\"#2a3f5f\"},\"geo\":{\"bgcolor\":\"white\",\"lakecolor\":\"white\",\"landcolor\":\"#E5ECF6\",\"showlakes\":true,\"showland\":true,\"subunitcolor\":\"white\"},\"hoverlabel\":{\"align\":\"left\"},\"hovermode\":\"closest\",\"mapbox\":{\"style\":\"light\"},\"paper_bgcolor\":\"white\",\"plot_bgcolor\":\"#E5ECF6\",\"polar\":{\"angularaxis\":{\"gridcolor\":\"white\",\"linecolor\":\"white\",\"ticks\":\"\"},\"bgcolor\":\"#E5ECF6\",\"radialaxis\":{\"gridcolor\":\"white\",\"linecolor\":\"white\",\"ticks\":\"\"}},\"scene\":{\"xaxis\":{\"backgroundcolor\":\"#E5ECF6\",\"gridcolor\":\"white\",\"gridwidth\":2,\"linecolor\":\"white\",\"showbackground\":true,\"ticks\":\"\",\"zerolinecolor\":\"white\"},\"yaxis\":{\"backgroundcolor\":\"#E5ECF6\",\"gridcolor\":\"white\",\"gridwidth\":2,\"linecolor\":\"white\",\"showbackground\":true,\"ticks\":\"\",\"zerolinecolor\":\"white\"},\"zaxis\":{\"backgroundcolor\":\"#E5ECF6\",\"gridcolor\":\"white\",\"gridwidth\":2,\"linecolor\":\"white\",\"showbackground\":true,\"ticks\":\"\",\"zerolinecolor\":\"white\"}},\"shapedefaults\":{\"line\":{\"color\":\"#2a3f5f\"}},\"ternary\":{\"aaxis\":{\"gridcolor\":\"white\",\"linecolor\":\"white\",\"ticks\":\"\"},\"baxis\":{\"gridcolor\":\"white\",\"linecolor\":\"white\",\"ticks\":\"\"},\"bgcolor\":\"#E5ECF6\",\"caxis\":{\"gridcolor\":\"white\",\"linecolor\":\"white\",\"ticks\":\"\"}},\"title\":{\"x\":0.05},\"xaxis\":{\"automargin\":true,\"gridcolor\":\"white\",\"linecolor\":\"white\",\"ticks\":\"\",\"title\":{\"standoff\":15},\"zerolinecolor\":\"white\",\"zerolinewidth\":2},\"yaxis\":{\"automargin\":true,\"gridcolor\":\"white\",\"linecolor\":\"white\",\"ticks\":\"\",\"title\":{\"standoff\":15},\"zerolinecolor\":\"white\",\"zerolinewidth\":2}}},\"xaxis\":{\"anchor\":\"y\",\"domain\":[0.0,1.0],\"title\":{\"text\":\"time\"}},\"yaxis\":{\"anchor\":\"x\",\"domain\":[0.0,1.0],\"title\":{\"text\":\"percentage\"}}},                        {\"responsive\": true}                    ).then(function(){\n",
              "                            \n",
              "var gd = document.getElementById('9fa980d7-11e5-484d-b5fe-5224876c297b');\n",
              "var x = new MutationObserver(function (mutations, observer) {{\n",
              "        var display = window.getComputedStyle(gd).display;\n",
              "        if (!display || display === 'none') {{\n",
              "            console.log([gd, 'removed!']);\n",
              "            Plotly.purge(gd);\n",
              "            observer.disconnect();\n",
              "        }}\n",
              "}});\n",
              "\n",
              "// Listen for the removal of the full notebook cells\n",
              "var notebookContainer = gd.closest('#notebook-container');\n",
              "if (notebookContainer) {{\n",
              "    x.observe(notebookContainer, {childList: true});\n",
              "}}\n",
              "\n",
              "// Listen for the clearing of the current output cell\n",
              "var outputEl = gd.closest('.output');\n",
              "if (outputEl) {{\n",
              "    x.observe(outputEl, {childList: true});\n",
              "}}\n",
              "\n",
              "                        })                };                            </script>        </div>\n",
              "</body>\n",
              "</html>"
            ]
          },
          "metadata": {
            "tags": []
          }
        }
      ]
    },
    {
      "cell_type": "markdown",
      "metadata": {
        "id": "uP3dArIcypPd"
      },
      "source": [
        "### O que mais pesquisamos nos diferentes horários?"
      ],
      "id": "uP3dArIcypPd"
    },
    {
      "cell_type": "code",
      "metadata": {
        "id": "bPGL92Hm1HFb"
      },
      "source": [
        "chr_nonull = chr.dropna(axis=0)"
      ],
      "id": "bPGL92Hm1HFb",
      "execution_count": null,
      "outputs": []
    },
    {
      "cell_type": "code",
      "metadata": {
        "id": "d54zBSFhzRl_"
      },
      "source": [
        "ggl = chr_nonull[chr_nonull['title'].str.contains('Pesquisa Google')].copy()"
      ],
      "id": "d54zBSFhzRl_",
      "execution_count": null,
      "outputs": []
    },
    {
      "cell_type": "code",
      "metadata": {
        "id": "4bD7ugID1A60"
      },
      "source": [
        "ggl['title'] = ggl['title'].str[:-18]"
      ],
      "id": "4bD7ugID1A60",
      "execution_count": null,
      "outputs": []
    },
    {
      "cell_type": "code",
      "metadata": {
        "id": "iZxLQvji3GDK",
        "colab": {
          "base_uri": "https://localhost:8080/",
          "height": 205
        },
        "outputId": "5dca91e9-3b8b-47f8-d1c7-66550d9aa8a2"
      },
      "source": [
        "ggl.head()"
      ],
      "id": "iZxLQvji3GDK",
      "execution_count": null,
      "outputs": [
        {
          "output_type": "execute_result",
          "data": {
            "text/html": [
              "<div>\n",
              "<style scoped>\n",
              "    .dataframe tbody tr th:only-of-type {\n",
              "        vertical-align: middle;\n",
              "    }\n",
              "\n",
              "    .dataframe tbody tr th {\n",
              "        vertical-align: top;\n",
              "    }\n",
              "\n",
              "    .dataframe thead th {\n",
              "        text-align: right;\n",
              "    }\n",
              "</style>\n",
              "<table border=\"1\" class=\"dataframe\">\n",
              "  <thead>\n",
              "    <tr style=\"text-align: right;\">\n",
              "      <th></th>\n",
              "      <th>user</th>\n",
              "      <th>page_transition</th>\n",
              "      <th>title</th>\n",
              "      <th>url</th>\n",
              "      <th>time</th>\n",
              "      <th>url_root</th>\n",
              "    </tr>\n",
              "  </thead>\n",
              "  <tbody>\n",
              "    <tr>\n",
              "      <th>9</th>\n",
              "      <td>Vithor</td>\n",
              "      <td>RELOAD</td>\n",
              "      <td>variante delta</td>\n",
              "      <td>https://www.google.com/search?q=variante+delta...</td>\n",
              "      <td>2021-07-16 16:54:41.490182-03:00</td>\n",
              "      <td>https://www.google.com</td>\n",
              "    </tr>\n",
              "    <tr>\n",
              "      <th>10</th>\n",
              "      <td>Vithor</td>\n",
              "      <td>GENERATED</td>\n",
              "      <td>variante delta</td>\n",
              "      <td>https://www.google.com/search?q=variante+delta...</td>\n",
              "      <td>2021-07-16 09:24:12.016854-03:00</td>\n",
              "      <td>https://www.google.com</td>\n",
              "    </tr>\n",
              "    <tr>\n",
              "      <th>11</th>\n",
              "      <td>Vithor</td>\n",
              "      <td>GENERATED</td>\n",
              "      <td>variante delta</td>\n",
              "      <td>https://www.google.com/search?q=variante+delta...</td>\n",
              "      <td>2021-07-16 09:24:00.231656-03:00</td>\n",
              "      <td>https://www.google.com</td>\n",
              "    </tr>\n",
              "    <tr>\n",
              "      <th>16</th>\n",
              "      <td>Vithor</td>\n",
              "      <td>RELOAD</td>\n",
              "      <td>livd action</td>\n",
              "      <td>https://www.google.com/search?q=livd+action&amp;ne...</td>\n",
              "      <td>2021-07-15 11:27:19.065377-03:00</td>\n",
              "      <td>https://www.google.com</td>\n",
              "    </tr>\n",
              "    <tr>\n",
              "      <th>17</th>\n",
              "      <td>Vithor</td>\n",
              "      <td>FORM_SUBMIT</td>\n",
              "      <td>livd action</td>\n",
              "      <td>https://www.google.com/search?q=livd+action&amp;ne...</td>\n",
              "      <td>2021-07-15 11:08:07.131543-03:00</td>\n",
              "      <td>https://www.google.com</td>\n",
              "    </tr>\n",
              "  </tbody>\n",
              "</table>\n",
              "</div>"
            ],
            "text/plain": [
              "      user  ...                url_root\n",
              "9   Vithor  ...  https://www.google.com\n",
              "10  Vithor  ...  https://www.google.com\n",
              "11  Vithor  ...  https://www.google.com\n",
              "16  Vithor  ...  https://www.google.com\n",
              "17  Vithor  ...  https://www.google.com\n",
              "\n",
              "[5 rows x 6 columns]"
            ]
          },
          "metadata": {
            "tags": []
          },
          "execution_count": 34
        }
      ]
    },
    {
      "cell_type": "code",
      "metadata": {
        "id": "URRPdVahzdlw",
        "colab": {
          "base_uri": "https://localhost:8080/"
        },
        "outputId": "d8f2c522-9db4-4a8a-f44f-7ccc5d16346f"
      },
      "source": [
        "ggl.title.value_counts().sort_values(ascending=False).head(10)"
      ],
      "id": "URRPdVahzdlw",
      "execution_count": null,
      "outputs": [
        {
          "output_type": "execute_result",
          "data": {
            "text/plain": [
              "translate                            122\n",
              "data science wallpaper                42\n",
              "steam meme gif                        32\n",
              "temperatura                           32\n",
              "Lupin wallpaper                       29\n",
              "vamo ai ifood                         29\n",
              "patryck harley alves barros           28\n",
              "cabelo cacheado moicano masculino     28\n",
              "data science white background         27\n",
              "patryck harley                        25\n",
              "Name: title, dtype: int64"
            ]
          },
          "metadata": {
            "tags": []
          },
          "execution_count": 35
        }
      ]
    },
    {
      "cell_type": "code",
      "metadata": {
        "id": "gA1pC22H6taf"
      },
      "source": [
        "import nltk.corpus"
      ],
      "id": "gA1pC22H6taf",
      "execution_count": null,
      "outputs": []
    },
    {
      "cell_type": "code",
      "metadata": {
        "id": "N0vZl2HH7J6q",
        "colab": {
          "base_uri": "https://localhost:8080/"
        },
        "outputId": "36bd04f8-d70c-4ba5-a3d5-5f46688e903a"
      },
      "source": [
        "nltk.download('stopwords')"
      ],
      "id": "N0vZl2HH7J6q",
      "execution_count": null,
      "outputs": [
        {
          "output_type": "stream",
          "text": [
            "[nltk_data] Downloading package stopwords to /root/nltk_data...\n",
            "[nltk_data]   Unzipping corpora/stopwords.zip.\n"
          ],
          "name": "stdout"
        },
        {
          "output_type": "execute_result",
          "data": {
            "text/plain": [
              "True"
            ]
          },
          "metadata": {
            "tags": []
          },
          "execution_count": 37
        }
      ]
    },
    {
      "cell_type": "code",
      "metadata": {
        "id": "ghc45T3j0Cpg"
      },
      "source": [
        "stopwords = nltk.corpus.stopwords.words('portuguese')"
      ],
      "id": "ghc45T3j0Cpg",
      "execution_count": null,
      "outputs": []
    },
    {
      "cell_type": "code",
      "metadata": {
        "id": "eKrFDy0F6scZ",
        "colab": {
          "base_uri": "https://localhost:8080/"
        },
        "outputId": "8e1659d2-6853-41ce-f910-8b26556011eb"
      },
      "source": [
        "len(stopwords)"
      ],
      "id": "eKrFDy0F6scZ",
      "execution_count": null,
      "outputs": [
        {
          "output_type": "execute_result",
          "data": {
            "text/plain": [
              "204"
            ]
          },
          "metadata": {
            "tags": []
          },
          "execution_count": 39
        }
      ]
    },
    {
      "cell_type": "code",
      "metadata": {
        "id": "HIIt36jp7WQe"
      },
      "source": [
        "teste = ggl.copy()"
      ],
      "id": "HIIt36jp7WQe",
      "execution_count": null,
      "outputs": []
    },
    {
      "cell_type": "code",
      "metadata": {
        "id": "wD7ONpJb7ObC"
      },
      "source": [
        "teste['title'] = teste['title'].str.lower().str.split()"
      ],
      "id": "wD7ONpJb7ObC",
      "execution_count": null,
      "outputs": []
    },
    {
      "cell_type": "code",
      "metadata": {
        "id": "B21GR7XD7_19"
      },
      "source": [
        "teste['title'] = teste['title'].apply(lambda x: ' '.join([item for item in x if item not in stopwords]))"
      ],
      "id": "B21GR7XD7_19",
      "execution_count": null,
      "outputs": []
    },
    {
      "cell_type": "code",
      "metadata": {
        "id": "BPWKcaB9gh0_",
        "colab": {
          "base_uri": "https://localhost:8080/",
          "height": 595
        },
        "outputId": "3bc71116-6590-4ea6-92fe-d6b41981d3bc"
      },
      "source": [
        "teste"
      ],
      "id": "BPWKcaB9gh0_",
      "execution_count": null,
      "outputs": [
        {
          "output_type": "execute_result",
          "data": {
            "text/html": [
              "<div>\n",
              "<style scoped>\n",
              "    .dataframe tbody tr th:only-of-type {\n",
              "        vertical-align: middle;\n",
              "    }\n",
              "\n",
              "    .dataframe tbody tr th {\n",
              "        vertical-align: top;\n",
              "    }\n",
              "\n",
              "    .dataframe thead th {\n",
              "        text-align: right;\n",
              "    }\n",
              "</style>\n",
              "<table border=\"1\" class=\"dataframe\">\n",
              "  <thead>\n",
              "    <tr style=\"text-align: right;\">\n",
              "      <th></th>\n",
              "      <th>user</th>\n",
              "      <th>page_transition</th>\n",
              "      <th>title</th>\n",
              "      <th>url</th>\n",
              "      <th>time</th>\n",
              "      <th>url_root</th>\n",
              "    </tr>\n",
              "  </thead>\n",
              "  <tbody>\n",
              "    <tr>\n",
              "      <th>9</th>\n",
              "      <td>Vithor</td>\n",
              "      <td>RELOAD</td>\n",
              "      <td>variante delta</td>\n",
              "      <td>https://www.google.com/search?q=variante+delta...</td>\n",
              "      <td>2021-07-16 16:54:41.490182-03:00</td>\n",
              "      <td>https://www.google.com</td>\n",
              "    </tr>\n",
              "    <tr>\n",
              "      <th>10</th>\n",
              "      <td>Vithor</td>\n",
              "      <td>GENERATED</td>\n",
              "      <td>variante delta</td>\n",
              "      <td>https://www.google.com/search?q=variante+delta...</td>\n",
              "      <td>2021-07-16 09:24:12.016854-03:00</td>\n",
              "      <td>https://www.google.com</td>\n",
              "    </tr>\n",
              "    <tr>\n",
              "      <th>11</th>\n",
              "      <td>Vithor</td>\n",
              "      <td>GENERATED</td>\n",
              "      <td>variante delta</td>\n",
              "      <td>https://www.google.com/search?q=variante+delta...</td>\n",
              "      <td>2021-07-16 09:24:00.231656-03:00</td>\n",
              "      <td>https://www.google.com</td>\n",
              "    </tr>\n",
              "    <tr>\n",
              "      <th>16</th>\n",
              "      <td>Vithor</td>\n",
              "      <td>RELOAD</td>\n",
              "      <td>livd action</td>\n",
              "      <td>https://www.google.com/search?q=livd+action&amp;ne...</td>\n",
              "      <td>2021-07-15 11:27:19.065377-03:00</td>\n",
              "      <td>https://www.google.com</td>\n",
              "    </tr>\n",
              "    <tr>\n",
              "      <th>17</th>\n",
              "      <td>Vithor</td>\n",
              "      <td>FORM_SUBMIT</td>\n",
              "      <td>livd action</td>\n",
              "      <td>https://www.google.com/search?q=livd+action&amp;ne...</td>\n",
              "      <td>2021-07-15 11:08:07.131543-03:00</td>\n",
              "      <td>https://www.google.com</td>\n",
              "    </tr>\n",
              "    <tr>\n",
              "      <th>...</th>\n",
              "      <td>...</td>\n",
              "      <td>...</td>\n",
              "      <td>...</td>\n",
              "      <td>...</td>\n",
              "      <td>...</td>\n",
              "      <td>...</td>\n",
              "    </tr>\n",
              "    <tr>\n",
              "      <th>125992</th>\n",
              "      <td>Juliana</td>\n",
              "      <td>FORM_SUBMIT</td>\n",
              "      <td>ifood tech</td>\n",
              "      <td>https://www.google.com/search?q=ifood+tech&amp;sxs...</td>\n",
              "      <td>2021-07-21 22:24:12.483848-03:00</td>\n",
              "      <td>https://www.google.com</td>\n",
              "    </tr>\n",
              "    <tr>\n",
              "      <th>125994</th>\n",
              "      <td>Juliana</td>\n",
              "      <td>FORM_SUBMIT</td>\n",
              "      <td>foodtech significado</td>\n",
              "      <td>https://www.google.com/search?q=foodtech+signi...</td>\n",
              "      <td>2021-07-21 22:24:03.774237-03:00</td>\n",
              "      <td>https://www.google.com</td>\n",
              "    </tr>\n",
              "    <tr>\n",
              "      <th>125996</th>\n",
              "      <td>Juliana</td>\n",
              "      <td>GENERATED</td>\n",
              "      <td>ifood</td>\n",
              "      <td>https://www.google.com/search?q=ifood&amp;oq=ifood...</td>\n",
              "      <td>2021-07-21 22:23:54.012878-03:00</td>\n",
              "      <td>https://www.google.com</td>\n",
              "    </tr>\n",
              "    <tr>\n",
              "      <th>125997</th>\n",
              "      <td>Juliana</td>\n",
              "      <td>LINK</td>\n",
              "      <td>ifood</td>\n",
              "      <td>https://www.google.com/search?q=ifood&amp;client=t...</td>\n",
              "      <td>2021-07-21 22:23:50.812910-03:00</td>\n",
              "      <td>https://www.google.com</td>\n",
              "    </tr>\n",
              "    <tr>\n",
              "      <th>125998</th>\n",
              "      <td>Juliana</td>\n",
              "      <td>GENERATED</td>\n",
              "      <td>ifood</td>\n",
              "      <td>https://www.google.com/search?q=ifood&amp;oq=ifood...</td>\n",
              "      <td>2021-07-21 22:23:45.123737-03:00</td>\n",
              "      <td>https://www.google.com</td>\n",
              "    </tr>\n",
              "  </tbody>\n",
              "</table>\n",
              "<p>17518 rows × 6 columns</p>\n",
              "</div>"
            ],
            "text/plain": [
              "           user  ...                url_root\n",
              "9        Vithor  ...  https://www.google.com\n",
              "10       Vithor  ...  https://www.google.com\n",
              "11       Vithor  ...  https://www.google.com\n",
              "16       Vithor  ...  https://www.google.com\n",
              "17       Vithor  ...  https://www.google.com\n",
              "...         ...  ...                     ...\n",
              "125992  Juliana  ...  https://www.google.com\n",
              "125994  Juliana  ...  https://www.google.com\n",
              "125996  Juliana  ...  https://www.google.com\n",
              "125997  Juliana  ...  https://www.google.com\n",
              "125998  Juliana  ...  https://www.google.com\n",
              "\n",
              "[17518 rows x 6 columns]"
            ]
          },
          "metadata": {
            "tags": []
          },
          "execution_count": 43
        }
      ]
    },
    {
      "cell_type": "code",
      "metadata": {
        "id": "zy4BcmeLfk2y",
        "colab": {
          "base_uri": "https://localhost:8080/",
          "height": 422
        },
        "outputId": "add2d2fe-d67b-42ea-d748-7a38032b50d1"
      },
      "source": [
        "s = (teste.title.str.split(expand=True)).stack()\n",
        "s.index = s.index.droplevel(-1)\n",
        "s.name= 'title'\n",
        "teste = teste.drop(['title'], axis=1)\n",
        "teste = (teste.join(s))\n",
        "teste"
      ],
      "id": "zy4BcmeLfk2y",
      "execution_count": null,
      "outputs": [
        {
          "output_type": "execute_result",
          "data": {
            "text/html": [
              "<div>\n",
              "<style scoped>\n",
              "    .dataframe tbody tr th:only-of-type {\n",
              "        vertical-align: middle;\n",
              "    }\n",
              "\n",
              "    .dataframe tbody tr th {\n",
              "        vertical-align: top;\n",
              "    }\n",
              "\n",
              "    .dataframe thead th {\n",
              "        text-align: right;\n",
              "    }\n",
              "</style>\n",
              "<table border=\"1\" class=\"dataframe\">\n",
              "  <thead>\n",
              "    <tr style=\"text-align: right;\">\n",
              "      <th></th>\n",
              "      <th>user</th>\n",
              "      <th>page_transition</th>\n",
              "      <th>url</th>\n",
              "      <th>time</th>\n",
              "      <th>url_root</th>\n",
              "      <th>title</th>\n",
              "    </tr>\n",
              "  </thead>\n",
              "  <tbody>\n",
              "    <tr>\n",
              "      <th>9</th>\n",
              "      <td>Vithor</td>\n",
              "      <td>RELOAD</td>\n",
              "      <td>https://www.google.com/search?q=variante+delta...</td>\n",
              "      <td>2021-07-16 16:54:41.490182-03:00</td>\n",
              "      <td>https://www.google.com</td>\n",
              "      <td>variante</td>\n",
              "    </tr>\n",
              "    <tr>\n",
              "      <th>9</th>\n",
              "      <td>Vithor</td>\n",
              "      <td>RELOAD</td>\n",
              "      <td>https://www.google.com/search?q=variante+delta...</td>\n",
              "      <td>2021-07-16 16:54:41.490182-03:00</td>\n",
              "      <td>https://www.google.com</td>\n",
              "      <td>delta</td>\n",
              "    </tr>\n",
              "    <tr>\n",
              "      <th>10</th>\n",
              "      <td>Vithor</td>\n",
              "      <td>GENERATED</td>\n",
              "      <td>https://www.google.com/search?q=variante+delta...</td>\n",
              "      <td>2021-07-16 09:24:12.016854-03:00</td>\n",
              "      <td>https://www.google.com</td>\n",
              "      <td>variante</td>\n",
              "    </tr>\n",
              "    <tr>\n",
              "      <th>10</th>\n",
              "      <td>Vithor</td>\n",
              "      <td>GENERATED</td>\n",
              "      <td>https://www.google.com/search?q=variante+delta...</td>\n",
              "      <td>2021-07-16 09:24:12.016854-03:00</td>\n",
              "      <td>https://www.google.com</td>\n",
              "      <td>delta</td>\n",
              "    </tr>\n",
              "    <tr>\n",
              "      <th>11</th>\n",
              "      <td>Vithor</td>\n",
              "      <td>GENERATED</td>\n",
              "      <td>https://www.google.com/search?q=variante+delta...</td>\n",
              "      <td>2021-07-16 09:24:00.231656-03:00</td>\n",
              "      <td>https://www.google.com</td>\n",
              "      <td>variante</td>\n",
              "    </tr>\n",
              "    <tr>\n",
              "      <th>...</th>\n",
              "      <td>...</td>\n",
              "      <td>...</td>\n",
              "      <td>...</td>\n",
              "      <td>...</td>\n",
              "      <td>...</td>\n",
              "      <td>...</td>\n",
              "    </tr>\n",
              "    <tr>\n",
              "      <th>125994</th>\n",
              "      <td>Juliana</td>\n",
              "      <td>FORM_SUBMIT</td>\n",
              "      <td>https://www.google.com/search?q=foodtech+signi...</td>\n",
              "      <td>2021-07-21 22:24:03.774237-03:00</td>\n",
              "      <td>https://www.google.com</td>\n",
              "      <td>foodtech</td>\n",
              "    </tr>\n",
              "    <tr>\n",
              "      <th>125994</th>\n",
              "      <td>Juliana</td>\n",
              "      <td>FORM_SUBMIT</td>\n",
              "      <td>https://www.google.com/search?q=foodtech+signi...</td>\n",
              "      <td>2021-07-21 22:24:03.774237-03:00</td>\n",
              "      <td>https://www.google.com</td>\n",
              "      <td>significado</td>\n",
              "    </tr>\n",
              "    <tr>\n",
              "      <th>125996</th>\n",
              "      <td>Juliana</td>\n",
              "      <td>GENERATED</td>\n",
              "      <td>https://www.google.com/search?q=ifood&amp;oq=ifood...</td>\n",
              "      <td>2021-07-21 22:23:54.012878-03:00</td>\n",
              "      <td>https://www.google.com</td>\n",
              "      <td>ifood</td>\n",
              "    </tr>\n",
              "    <tr>\n",
              "      <th>125997</th>\n",
              "      <td>Juliana</td>\n",
              "      <td>LINK</td>\n",
              "      <td>https://www.google.com/search?q=ifood&amp;client=t...</td>\n",
              "      <td>2021-07-21 22:23:50.812910-03:00</td>\n",
              "      <td>https://www.google.com</td>\n",
              "      <td>ifood</td>\n",
              "    </tr>\n",
              "    <tr>\n",
              "      <th>125998</th>\n",
              "      <td>Juliana</td>\n",
              "      <td>GENERATED</td>\n",
              "      <td>https://www.google.com/search?q=ifood&amp;oq=ifood...</td>\n",
              "      <td>2021-07-21 22:23:45.123737-03:00</td>\n",
              "      <td>https://www.google.com</td>\n",
              "      <td>ifood</td>\n",
              "    </tr>\n",
              "  </tbody>\n",
              "</table>\n",
              "<p>49398 rows × 6 columns</p>\n",
              "</div>"
            ],
            "text/plain": [
              "           user page_transition  ...                url_root        title\n",
              "9        Vithor          RELOAD  ...  https://www.google.com     variante\n",
              "9        Vithor          RELOAD  ...  https://www.google.com        delta\n",
              "10       Vithor       GENERATED  ...  https://www.google.com     variante\n",
              "10       Vithor       GENERATED  ...  https://www.google.com        delta\n",
              "11       Vithor       GENERATED  ...  https://www.google.com     variante\n",
              "...         ...             ...  ...                     ...          ...\n",
              "125994  Juliana     FORM_SUBMIT  ...  https://www.google.com     foodtech\n",
              "125994  Juliana     FORM_SUBMIT  ...  https://www.google.com  significado\n",
              "125996  Juliana       GENERATED  ...  https://www.google.com        ifood\n",
              "125997  Juliana            LINK  ...  https://www.google.com        ifood\n",
              "125998  Juliana       GENERATED  ...  https://www.google.com        ifood\n",
              "\n",
              "[49398 rows x 6 columns]"
            ]
          },
          "metadata": {
            "tags": []
          },
          "execution_count": 44
        }
      ]
    },
    {
      "cell_type": "code",
      "metadata": {
        "id": "zYTJ36e_fo-8",
        "colab": {
          "base_uri": "https://localhost:8080/",
          "height": 422
        },
        "outputId": "a8215878-2128-4161-8d73-498168e0ef59"
      },
      "source": [
        "teste_group = (teste.groupby([teste.time.dt.hour,'title'], sort=False).size().reset_index(name='count'))[['time','title','count']]\n",
        "teste_group   "
      ],
      "id": "zYTJ36e_fo-8",
      "execution_count": null,
      "outputs": [
        {
          "output_type": "execute_result",
          "data": {
            "text/html": [
              "<div>\n",
              "<style scoped>\n",
              "    .dataframe tbody tr th:only-of-type {\n",
              "        vertical-align: middle;\n",
              "    }\n",
              "\n",
              "    .dataframe tbody tr th {\n",
              "        vertical-align: top;\n",
              "    }\n",
              "\n",
              "    .dataframe thead th {\n",
              "        text-align: right;\n",
              "    }\n",
              "</style>\n",
              "<table border=\"1\" class=\"dataframe\">\n",
              "  <thead>\n",
              "    <tr style=\"text-align: right;\">\n",
              "      <th></th>\n",
              "      <th>time</th>\n",
              "      <th>title</th>\n",
              "      <th>count</th>\n",
              "    </tr>\n",
              "  </thead>\n",
              "  <tbody>\n",
              "    <tr>\n",
              "      <th>0</th>\n",
              "      <td>19</td>\n",
              "      <td>variante</td>\n",
              "      <td>1</td>\n",
              "    </tr>\n",
              "    <tr>\n",
              "      <th>1</th>\n",
              "      <td>19</td>\n",
              "      <td>delta</td>\n",
              "      <td>1</td>\n",
              "    </tr>\n",
              "    <tr>\n",
              "      <th>2</th>\n",
              "      <td>12</td>\n",
              "      <td>variante</td>\n",
              "      <td>2</td>\n",
              "    </tr>\n",
              "    <tr>\n",
              "      <th>3</th>\n",
              "      <td>12</td>\n",
              "      <td>delta</td>\n",
              "      <td>2</td>\n",
              "    </tr>\n",
              "    <tr>\n",
              "      <th>4</th>\n",
              "      <td>14</td>\n",
              "      <td>livd</td>\n",
              "      <td>2</td>\n",
              "    </tr>\n",
              "    <tr>\n",
              "      <th>...</th>\n",
              "      <td>...</td>\n",
              "      <td>...</td>\n",
              "      <td>...</td>\n",
              "    </tr>\n",
              "    <tr>\n",
              "      <th>20187</th>\n",
              "      <td>23</td>\n",
              "      <td>salario</td>\n",
              "      <td>3</td>\n",
              "    </tr>\n",
              "    <tr>\n",
              "      <th>20188</th>\n",
              "      <td>23</td>\n",
              "      <td>analista</td>\n",
              "      <td>3</td>\n",
              "    </tr>\n",
              "    <tr>\n",
              "      <th>20189</th>\n",
              "      <td>23</td>\n",
              "      <td>junior</td>\n",
              "      <td>3</td>\n",
              "    </tr>\n",
              "    <tr>\n",
              "      <th>20190</th>\n",
              "      <td>1</td>\n",
              "      <td>dev</td>\n",
              "      <td>1</td>\n",
              "    </tr>\n",
              "    <tr>\n",
              "      <th>20191</th>\n",
              "      <td>1</td>\n",
              "      <td>foodtech</td>\n",
              "      <td>1</td>\n",
              "    </tr>\n",
              "  </tbody>\n",
              "</table>\n",
              "<p>20192 rows × 3 columns</p>\n",
              "</div>"
            ],
            "text/plain": [
              "       time     title  count\n",
              "0        19  variante      1\n",
              "1        19     delta      1\n",
              "2        12  variante      2\n",
              "3        12     delta      2\n",
              "4        14      livd      2\n",
              "...     ...       ...    ...\n",
              "20187    23   salario      3\n",
              "20188    23  analista      3\n",
              "20189    23    junior      3\n",
              "20190     1       dev      1\n",
              "20191     1  foodtech      1\n",
              "\n",
              "[20192 rows x 3 columns]"
            ]
          },
          "metadata": {
            "tags": []
          },
          "execution_count": 56
        }
      ]
    },
    {
      "cell_type": "code",
      "metadata": {
        "id": "6xDOTy4bmr5d"
      },
      "source": [
        "df_group = teste_group.groupby(['time'])['count'].transform(max) == teste_group['count']\n",
        "\n",
        "teste_group = teste_group[df_group].sort_values('time')"
      ],
      "id": "6xDOTy4bmr5d",
      "execution_count": null,
      "outputs": []
    },
    {
      "cell_type": "code",
      "metadata": {
        "id": "ZzNRVxn1scs0"
      },
      "source": [
        "teste_group['time'] = teste_group['time'].apply(time_interval_day)"
      ],
      "id": "ZzNRVxn1scs0",
      "execution_count": null,
      "outputs": []
    },
    {
      "cell_type": "code",
      "metadata": {
        "id": "w00VygRQXC6c",
        "colab": {
          "base_uri": "https://localhost:8080/",
          "height": 143
        },
        "outputId": "4cf1d123-63da-4e64-e72d-a2f9fd5c4c79"
      },
      "source": [
        "teste_group.head(3)"
      ],
      "id": "w00VygRQXC6c",
      "execution_count": null,
      "outputs": [
        {
          "output_type": "execute_result",
          "data": {
            "text/html": [
              "<div>\n",
              "<style scoped>\n",
              "    .dataframe tbody tr th:only-of-type {\n",
              "        vertical-align: middle;\n",
              "    }\n",
              "\n",
              "    .dataframe tbody tr th {\n",
              "        vertical-align: top;\n",
              "    }\n",
              "\n",
              "    .dataframe thead th {\n",
              "        text-align: right;\n",
              "    }\n",
              "</style>\n",
              "<table border=\"1\" class=\"dataframe\">\n",
              "  <thead>\n",
              "    <tr style=\"text-align: right;\">\n",
              "      <th></th>\n",
              "      <th>time</th>\n",
              "      <th>title</th>\n",
              "      <th>count</th>\n",
              "    </tr>\n",
              "  </thead>\n",
              "  <tbody>\n",
              "    <tr>\n",
              "      <th>2815</th>\n",
              "      <td>Madrugada</td>\n",
              "      <td>data</td>\n",
              "      <td>59</td>\n",
              "    </tr>\n",
              "    <tr>\n",
              "      <th>2387</th>\n",
              "      <td>Madrugada</td>\n",
              "      <td>python</td>\n",
              "      <td>36</td>\n",
              "    </tr>\n",
              "    <tr>\n",
              "      <th>19291</th>\n",
              "      <td>Madrugada</td>\n",
              "      <td>statistical</td>\n",
              "      <td>22</td>\n",
              "    </tr>\n",
              "  </tbody>\n",
              "</table>\n",
              "</div>"
            ],
            "text/plain": [
              "            time        title  count\n",
              "2815   Madrugada         data     59\n",
              "2387   Madrugada       python     36\n",
              "19291  Madrugada  statistical     22"
            ]
          },
          "metadata": {
            "tags": []
          },
          "execution_count": 63
        }
      ]
    },
    {
      "cell_type": "code",
      "metadata": {
        "id": "_xTodEL_yrpL",
        "colab": {
          "base_uri": "https://localhost:8080/",
          "height": 205
        },
        "outputId": "0fe61cb8-565f-4bc8-bcec-c4ebe23c485f"
      },
      "source": [
        "teste_group.groupby('time').max()"
      ],
      "id": "_xTodEL_yrpL",
      "execution_count": null,
      "outputs": [
        {
          "output_type": "execute_result",
          "data": {
            "text/html": [
              "<div>\n",
              "<style scoped>\n",
              "    .dataframe tbody tr th:only-of-type {\n",
              "        vertical-align: middle;\n",
              "    }\n",
              "\n",
              "    .dataframe tbody tr th {\n",
              "        vertical-align: top;\n",
              "    }\n",
              "\n",
              "    .dataframe thead th {\n",
              "        text-align: right;\n",
              "    }\n",
              "</style>\n",
              "<table border=\"1\" class=\"dataframe\">\n",
              "  <thead>\n",
              "    <tr style=\"text-align: right;\">\n",
              "      <th></th>\n",
              "      <th>title</th>\n",
              "      <th>count</th>\n",
              "    </tr>\n",
              "    <tr>\n",
              "      <th>time</th>\n",
              "      <th></th>\n",
              "      <th></th>\n",
              "    </tr>\n",
              "  </thead>\n",
              "  <tbody>\n",
              "    <tr>\n",
              "      <th>Madrugada</th>\n",
              "      <td>the</td>\n",
              "      <td>59</td>\n",
              "    </tr>\n",
              "    <tr>\n",
              "      <th>Manhã</th>\n",
              "      <td>xiaomi</td>\n",
              "      <td>78</td>\n",
              "    </tr>\n",
              "    <tr>\n",
              "      <th>Noite</th>\n",
              "      <td>python</td>\n",
              "      <td>81</td>\n",
              "    </tr>\n",
              "    <tr>\n",
              "      <th>Tarde</th>\n",
              "      <td>python</td>\n",
              "      <td>228</td>\n",
              "    </tr>\n",
              "  </tbody>\n",
              "</table>\n",
              "</div>"
            ],
            "text/plain": [
              "            title  count\n",
              "time                    \n",
              "Madrugada     the     59\n",
              "Manhã      xiaomi     78\n",
              "Noite      python     81\n",
              "Tarde      python    228"
            ]
          },
          "metadata": {
            "tags": []
          },
          "execution_count": 64
        }
      ]
    },
    {
      "cell_type": "code",
      "metadata": {
        "id": "J6QNJJmQx7Ea"
      },
      "source": [
        "sunburst_df = teste_group.reset_index()"
      ],
      "id": "J6QNJJmQx7Ea",
      "execution_count": null,
      "outputs": []
    },
    {
      "cell_type": "code",
      "metadata": {
        "id": "t-PkpX3WnLzH",
        "colab": {
          "base_uri": "https://localhost:8080/",
          "height": 542
        },
        "outputId": "5d8188dd-7323-4ec7-dae0-9b4195e82c59"
      },
      "source": [
        "import plotly.express as px\n",
        "fig = px.sunburst(sunburst_df, path=['time','title'], values='count', color='time')\n",
        "fig.show()"
      ],
      "id": "t-PkpX3WnLzH",
      "execution_count": null,
      "outputs": [
        {
          "output_type": "display_data",
          "data": {
            "text/html": [
              "<html>\n",
              "<head><meta charset=\"utf-8\" /></head>\n",
              "<body>\n",
              "    <div>            <script src=\"https://cdnjs.cloudflare.com/ajax/libs/mathjax/2.7.5/MathJax.js?config=TeX-AMS-MML_SVG\"></script><script type=\"text/javascript\">if (window.MathJax) {MathJax.Hub.Config({SVG: {font: \"STIX-Web\"}});}</script>                <script type=\"text/javascript\">window.PlotlyConfig = {MathJaxConfig: 'local'};</script>\n",
              "        <script src=\"https://cdn.plot.ly/plotly-2.2.0.min.js\"></script>                <div id=\"e6ac93aa-7c1d-4341-8d80-60e186b5f447\" class=\"plotly-graph-div\" style=\"height:525px; width:100%;\"></div>            <script type=\"text/javascript\">                                    window.PLOTLYENV=window.PLOTLYENV || {};                                    if (document.getElementById(\"e6ac93aa-7c1d-4341-8d80-60e186b5f447\")) {                    Plotly.newPlot(                        \"e6ac93aa-7c1d-4341-8d80-60e186b5f447\",                        [{\"branchvalues\":\"total\",\"customdata\":[[\"Tarde\"],[\"Manh\\u00e3\"],[\"Manh\\u00e3\"],[\"Madrugada\"],[\"Manh\\u00e3\"],[\"Madrugada\"],[\"Manh\\u00e3\"],[\"Madrugada\"],[\"Tarde\"],[\"Noite\"],[\"Manh\\u00e3\"],[\"Madrugada\"],[\"Manh\\u00e3\"],[\"Manh\\u00e3\"],[\"Madrugada\"],[\"Madrugada\"],[\"Manh\\u00e3\"],[\"Madrugada\"],[\"Manh\\u00e3\"],[\"Madrugada\"],[\"Manh\\u00e3\"],[\"Noite\"],[\"Tarde\"]],\"domain\":{\"x\":[0.0,1.0],\"y\":[0.0,1.0]},\"hovertemplate\":\"labels=%{label}<br>count=%{value}<br>parent=%{parent}<br>id=%{id}<br>time=%{customdata[0]}<extra></extra>\",\"ids\":[\"Tarde/1\",\"Manh\\u00e3/cacheado\",\"Manh\\u00e3/confus\\u00e3o\",\"Madrugada/data\",\"Manh\\u00e3/legenda\",\"Madrugada/linux\",\"Manh\\u00e3/matriz\",\"Madrugada/statistical\",\"Tarde/python\",\"Noite/python\",\"Manh\\u00e3/python\",\"Madrugada/python\",\"Manh\\u00e3/poco\",\"Manh\\u00e3/pet\",\"Madrugada/pandas\",\"Madrugada/nevrland\",\"Manh\\u00e3/morte\",\"Madrugada/the\",\"Manh\\u00e3/xiaomi\",\"Madrugada\",\"Manh\\u00e3\",\"Noite\",\"Tarde\"],\"labels\":[\"1\",\"cacheado\",\"confus\\u00e3o\",\"data\",\"legenda\",\"linux\",\"matriz\",\"statistical\",\"python\",\"python\",\"python\",\"python\",\"poco\",\"pet\",\"pandas\",\"nevrland\",\"morte\",\"the\",\"xiaomi\",\"Madrugada\",\"Manh\\u00e3\",\"Noite\",\"Tarde\"],\"marker\":{\"colors\":[\"#636efa\",\"#EF553B\",\"#EF553B\",\"#00cc96\",\"#EF553B\",\"#00cc96\",\"#EF553B\",\"#00cc96\",\"#636efa\",\"#ab63fa\",\"#EF553B\",\"#00cc96\",\"#EF553B\",\"#EF553B\",\"#00cc96\",\"#00cc96\",\"#EF553B\",\"#00cc96\",\"#EF553B\",\"#00cc96\",\"#EF553B\",\"#ab63fa\",\"#636efa\"]},\"name\":\"\",\"parents\":[\"Tarde\",\"Manh\\u00e3\",\"Manh\\u00e3\",\"Madrugada\",\"Manh\\u00e3\",\"Madrugada\",\"Manh\\u00e3\",\"Madrugada\",\"Tarde\",\"Noite\",\"Manh\\u00e3\",\"Madrugada\",\"Manh\\u00e3\",\"Manh\\u00e3\",\"Madrugada\",\"Madrugada\",\"Manh\\u00e3\",\"Madrugada\",\"Manh\\u00e3\",\"\",\"\",\"\",\"\"],\"type\":\"sunburst\",\"values\":[228,28,7,59,9,17,7,22,357,301,141,36,3,3,10,10,5,13,3,167,206,301,585]}],                        {\"legend\":{\"tracegroupgap\":0},\"margin\":{\"t\":60},\"template\":{\"data\":{\"bar\":[{\"error_x\":{\"color\":\"#2a3f5f\"},\"error_y\":{\"color\":\"#2a3f5f\"},\"marker\":{\"line\":{\"color\":\"#E5ECF6\",\"width\":0.5},\"pattern\":{\"fillmode\":\"overlay\",\"size\":10,\"solidity\":0.2}},\"type\":\"bar\"}],\"barpolar\":[{\"marker\":{\"line\":{\"color\":\"#E5ECF6\",\"width\":0.5},\"pattern\":{\"fillmode\":\"overlay\",\"size\":10,\"solidity\":0.2}},\"type\":\"barpolar\"}],\"carpet\":[{\"aaxis\":{\"endlinecolor\":\"#2a3f5f\",\"gridcolor\":\"white\",\"linecolor\":\"white\",\"minorgridcolor\":\"white\",\"startlinecolor\":\"#2a3f5f\"},\"baxis\":{\"endlinecolor\":\"#2a3f5f\",\"gridcolor\":\"white\",\"linecolor\":\"white\",\"minorgridcolor\":\"white\",\"startlinecolor\":\"#2a3f5f\"},\"type\":\"carpet\"}],\"choropleth\":[{\"colorbar\":{\"outlinewidth\":0,\"ticks\":\"\"},\"type\":\"choropleth\"}],\"contour\":[{\"colorbar\":{\"outlinewidth\":0,\"ticks\":\"\"},\"colorscale\":[[0.0,\"#0d0887\"],[0.1111111111111111,\"#46039f\"],[0.2222222222222222,\"#7201a8\"],[0.3333333333333333,\"#9c179e\"],[0.4444444444444444,\"#bd3786\"],[0.5555555555555556,\"#d8576b\"],[0.6666666666666666,\"#ed7953\"],[0.7777777777777778,\"#fb9f3a\"],[0.8888888888888888,\"#fdca26\"],[1.0,\"#f0f921\"]],\"type\":\"contour\"}],\"contourcarpet\":[{\"colorbar\":{\"outlinewidth\":0,\"ticks\":\"\"},\"type\":\"contourcarpet\"}],\"heatmap\":[{\"colorbar\":{\"outlinewidth\":0,\"ticks\":\"\"},\"colorscale\":[[0.0,\"#0d0887\"],[0.1111111111111111,\"#46039f\"],[0.2222222222222222,\"#7201a8\"],[0.3333333333333333,\"#9c179e\"],[0.4444444444444444,\"#bd3786\"],[0.5555555555555556,\"#d8576b\"],[0.6666666666666666,\"#ed7953\"],[0.7777777777777778,\"#fb9f3a\"],[0.8888888888888888,\"#fdca26\"],[1.0,\"#f0f921\"]],\"type\":\"heatmap\"}],\"heatmapgl\":[{\"colorbar\":{\"outlinewidth\":0,\"ticks\":\"\"},\"colorscale\":[[0.0,\"#0d0887\"],[0.1111111111111111,\"#46039f\"],[0.2222222222222222,\"#7201a8\"],[0.3333333333333333,\"#9c179e\"],[0.4444444444444444,\"#bd3786\"],[0.5555555555555556,\"#d8576b\"],[0.6666666666666666,\"#ed7953\"],[0.7777777777777778,\"#fb9f3a\"],[0.8888888888888888,\"#fdca26\"],[1.0,\"#f0f921\"]],\"type\":\"heatmapgl\"}],\"histogram\":[{\"marker\":{\"pattern\":{\"fillmode\":\"overlay\",\"size\":10,\"solidity\":0.2}},\"type\":\"histogram\"}],\"histogram2d\":[{\"colorbar\":{\"outlinewidth\":0,\"ticks\":\"\"},\"colorscale\":[[0.0,\"#0d0887\"],[0.1111111111111111,\"#46039f\"],[0.2222222222222222,\"#7201a8\"],[0.3333333333333333,\"#9c179e\"],[0.4444444444444444,\"#bd3786\"],[0.5555555555555556,\"#d8576b\"],[0.6666666666666666,\"#ed7953\"],[0.7777777777777778,\"#fb9f3a\"],[0.8888888888888888,\"#fdca26\"],[1.0,\"#f0f921\"]],\"type\":\"histogram2d\"}],\"histogram2dcontour\":[{\"colorbar\":{\"outlinewidth\":0,\"ticks\":\"\"},\"colorscale\":[[0.0,\"#0d0887\"],[0.1111111111111111,\"#46039f\"],[0.2222222222222222,\"#7201a8\"],[0.3333333333333333,\"#9c179e\"],[0.4444444444444444,\"#bd3786\"],[0.5555555555555556,\"#d8576b\"],[0.6666666666666666,\"#ed7953\"],[0.7777777777777778,\"#fb9f3a\"],[0.8888888888888888,\"#fdca26\"],[1.0,\"#f0f921\"]],\"type\":\"histogram2dcontour\"}],\"mesh3d\":[{\"colorbar\":{\"outlinewidth\":0,\"ticks\":\"\"},\"type\":\"mesh3d\"}],\"parcoords\":[{\"line\":{\"colorbar\":{\"outlinewidth\":0,\"ticks\":\"\"}},\"type\":\"parcoords\"}],\"pie\":[{\"automargin\":true,\"type\":\"pie\"}],\"scatter\":[{\"marker\":{\"colorbar\":{\"outlinewidth\":0,\"ticks\":\"\"}},\"type\":\"scatter\"}],\"scatter3d\":[{\"line\":{\"colorbar\":{\"outlinewidth\":0,\"ticks\":\"\"}},\"marker\":{\"colorbar\":{\"outlinewidth\":0,\"ticks\":\"\"}},\"type\":\"scatter3d\"}],\"scattercarpet\":[{\"marker\":{\"colorbar\":{\"outlinewidth\":0,\"ticks\":\"\"}},\"type\":\"scattercarpet\"}],\"scattergeo\":[{\"marker\":{\"colorbar\":{\"outlinewidth\":0,\"ticks\":\"\"}},\"type\":\"scattergeo\"}],\"scattergl\":[{\"marker\":{\"colorbar\":{\"outlinewidth\":0,\"ticks\":\"\"}},\"type\":\"scattergl\"}],\"scattermapbox\":[{\"marker\":{\"colorbar\":{\"outlinewidth\":0,\"ticks\":\"\"}},\"type\":\"scattermapbox\"}],\"scatterpolar\":[{\"marker\":{\"colorbar\":{\"outlinewidth\":0,\"ticks\":\"\"}},\"type\":\"scatterpolar\"}],\"scatterpolargl\":[{\"marker\":{\"colorbar\":{\"outlinewidth\":0,\"ticks\":\"\"}},\"type\":\"scatterpolargl\"}],\"scatterternary\":[{\"marker\":{\"colorbar\":{\"outlinewidth\":0,\"ticks\":\"\"}},\"type\":\"scatterternary\"}],\"surface\":[{\"colorbar\":{\"outlinewidth\":0,\"ticks\":\"\"},\"colorscale\":[[0.0,\"#0d0887\"],[0.1111111111111111,\"#46039f\"],[0.2222222222222222,\"#7201a8\"],[0.3333333333333333,\"#9c179e\"],[0.4444444444444444,\"#bd3786\"],[0.5555555555555556,\"#d8576b\"],[0.6666666666666666,\"#ed7953\"],[0.7777777777777778,\"#fb9f3a\"],[0.8888888888888888,\"#fdca26\"],[1.0,\"#f0f921\"]],\"type\":\"surface\"}],\"table\":[{\"cells\":{\"fill\":{\"color\":\"#EBF0F8\"},\"line\":{\"color\":\"white\"}},\"header\":{\"fill\":{\"color\":\"#C8D4E3\"},\"line\":{\"color\":\"white\"}},\"type\":\"table\"}]},\"layout\":{\"annotationdefaults\":{\"arrowcolor\":\"#2a3f5f\",\"arrowhead\":0,\"arrowwidth\":1},\"autotypenumbers\":\"strict\",\"coloraxis\":{\"colorbar\":{\"outlinewidth\":0,\"ticks\":\"\"}},\"colorscale\":{\"diverging\":[[0,\"#8e0152\"],[0.1,\"#c51b7d\"],[0.2,\"#de77ae\"],[0.3,\"#f1b6da\"],[0.4,\"#fde0ef\"],[0.5,\"#f7f7f7\"],[0.6,\"#e6f5d0\"],[0.7,\"#b8e186\"],[0.8,\"#7fbc41\"],[0.9,\"#4d9221\"],[1,\"#276419\"]],\"sequential\":[[0.0,\"#0d0887\"],[0.1111111111111111,\"#46039f\"],[0.2222222222222222,\"#7201a8\"],[0.3333333333333333,\"#9c179e\"],[0.4444444444444444,\"#bd3786\"],[0.5555555555555556,\"#d8576b\"],[0.6666666666666666,\"#ed7953\"],[0.7777777777777778,\"#fb9f3a\"],[0.8888888888888888,\"#fdca26\"],[1.0,\"#f0f921\"]],\"sequentialminus\":[[0.0,\"#0d0887\"],[0.1111111111111111,\"#46039f\"],[0.2222222222222222,\"#7201a8\"],[0.3333333333333333,\"#9c179e\"],[0.4444444444444444,\"#bd3786\"],[0.5555555555555556,\"#d8576b\"],[0.6666666666666666,\"#ed7953\"],[0.7777777777777778,\"#fb9f3a\"],[0.8888888888888888,\"#fdca26\"],[1.0,\"#f0f921\"]]},\"colorway\":[\"#636efa\",\"#EF553B\",\"#00cc96\",\"#ab63fa\",\"#FFA15A\",\"#19d3f3\",\"#FF6692\",\"#B6E880\",\"#FF97FF\",\"#FECB52\"],\"font\":{\"color\":\"#2a3f5f\"},\"geo\":{\"bgcolor\":\"white\",\"lakecolor\":\"white\",\"landcolor\":\"#E5ECF6\",\"showlakes\":true,\"showland\":true,\"subunitcolor\":\"white\"},\"hoverlabel\":{\"align\":\"left\"},\"hovermode\":\"closest\",\"mapbox\":{\"style\":\"light\"},\"paper_bgcolor\":\"white\",\"plot_bgcolor\":\"#E5ECF6\",\"polar\":{\"angularaxis\":{\"gridcolor\":\"white\",\"linecolor\":\"white\",\"ticks\":\"\"},\"bgcolor\":\"#E5ECF6\",\"radialaxis\":{\"gridcolor\":\"white\",\"linecolor\":\"white\",\"ticks\":\"\"}},\"scene\":{\"xaxis\":{\"backgroundcolor\":\"#E5ECF6\",\"gridcolor\":\"white\",\"gridwidth\":2,\"linecolor\":\"white\",\"showbackground\":true,\"ticks\":\"\",\"zerolinecolor\":\"white\"},\"yaxis\":{\"backgroundcolor\":\"#E5ECF6\",\"gridcolor\":\"white\",\"gridwidth\":2,\"linecolor\":\"white\",\"showbackground\":true,\"ticks\":\"\",\"zerolinecolor\":\"white\"},\"zaxis\":{\"backgroundcolor\":\"#E5ECF6\",\"gridcolor\":\"white\",\"gridwidth\":2,\"linecolor\":\"white\",\"showbackground\":true,\"ticks\":\"\",\"zerolinecolor\":\"white\"}},\"shapedefaults\":{\"line\":{\"color\":\"#2a3f5f\"}},\"ternary\":{\"aaxis\":{\"gridcolor\":\"white\",\"linecolor\":\"white\",\"ticks\":\"\"},\"baxis\":{\"gridcolor\":\"white\",\"linecolor\":\"white\",\"ticks\":\"\"},\"bgcolor\":\"#E5ECF6\",\"caxis\":{\"gridcolor\":\"white\",\"linecolor\":\"white\",\"ticks\":\"\"}},\"title\":{\"x\":0.05},\"xaxis\":{\"automargin\":true,\"gridcolor\":\"white\",\"linecolor\":\"white\",\"ticks\":\"\",\"title\":{\"standoff\":15},\"zerolinecolor\":\"white\",\"zerolinewidth\":2},\"yaxis\":{\"automargin\":true,\"gridcolor\":\"white\",\"linecolor\":\"white\",\"ticks\":\"\",\"title\":{\"standoff\":15},\"zerolinecolor\":\"white\",\"zerolinewidth\":2}}}},                        {\"responsive\": true}                    ).then(function(){\n",
              "                            \n",
              "var gd = document.getElementById('e6ac93aa-7c1d-4341-8d80-60e186b5f447');\n",
              "var x = new MutationObserver(function (mutations, observer) {{\n",
              "        var display = window.getComputedStyle(gd).display;\n",
              "        if (!display || display === 'none') {{\n",
              "            console.log([gd, 'removed!']);\n",
              "            Plotly.purge(gd);\n",
              "            observer.disconnect();\n",
              "        }}\n",
              "}});\n",
              "\n",
              "// Listen for the removal of the full notebook cells\n",
              "var notebookContainer = gd.closest('#notebook-container');\n",
              "if (notebookContainer) {{\n",
              "    x.observe(notebookContainer, {childList: true});\n",
              "}}\n",
              "\n",
              "// Listen for the clearing of the current output cell\n",
              "var outputEl = gd.closest('.output');\n",
              "if (outputEl) {{\n",
              "    x.observe(outputEl, {childList: true});\n",
              "}}\n",
              "\n",
              "                        })                };                            </script>        </div>\n",
              "</body>\n",
              "</html>"
            ]
          },
          "metadata": {
            "tags": []
          }
        }
      ]
    },
    {
      "cell_type": "markdown",
      "metadata": {
        "id": "4aoehtxedL4Y"
      },
      "source": [
        "### Quais palavras mais aparecem no geral?\n"
      ],
      "id": "4aoehtxedL4Y"
    },
    {
      "cell_type": "code",
      "metadata": {
        "id": "8gLrs0BWY5BB"
      },
      "source": [
        "import matplotlib.pyplot as plt\n",
        "from wordcloud import WordCloud\n"
      ],
      "id": "8gLrs0BWY5BB",
      "execution_count": null,
      "outputs": []
    },
    {
      "cell_type": "code",
      "metadata": {
        "id": "8byNVyoFbTpc"
      },
      "source": [
        "stopwords.append(\"'\")"
      ],
      "id": "8byNVyoFbTpc",
      "execution_count": null,
      "outputs": []
    },
    {
      "cell_type": "code",
      "metadata": {
        "id": "TTaoQMQ4eF1R"
      },
      "source": [
        "# List\n",
        "#chr['titleList'] = chr['title'].astype(str).str.lower().str.split().apply(lambda x: [item for item in x if item not in stopwords])\n",
        "# String\n",
        "chr['titleList'] = chr['title'].astype(str).apply(lambda x: ' '.join([word for word in x.split() if word not in (stopwords)]))"
      ],
      "id": "TTaoQMQ4eF1R",
      "execution_count": null,
      "outputs": []
    },
    {
      "cell_type": "code",
      "metadata": {
        "id": "LSm8Om0WkQ2G"
      },
      "source": [
        "chr_2021 = chr[chr.url.str.contains('medium', na=False)]"
      ],
      "id": "LSm8Om0WkQ2G",
      "execution_count": null,
      "outputs": []
    },
    {
      "cell_type": "code",
      "metadata": {
        "id": "d8e93IYGW9pW"
      },
      "source": [
        "palavras_geral = ' '.join(chr_2021['titleList'])"
      ],
      "id": "d8e93IYGW9pW",
      "execution_count": null,
      "outputs": []
    },
    {
      "cell_type": "code",
      "metadata": {
        "id": "JsHbWdV4V-Tl",
        "colab": {
          "base_uri": "https://localhost:8080/",
          "height": 466
        },
        "outputId": "55985cf7-825d-4bb2-f2ae-812110cdcc7f"
      },
      "source": [
        "wordcloud = WordCloud().generate(str(palavras_geral))\n",
        "plt.figure(figsize=[15,10])\n",
        "plt.imshow(wordcloud)\n",
        "plt.axis(\"off\")\n"
      ],
      "id": "JsHbWdV4V-Tl",
      "execution_count": null,
      "outputs": [
        {
          "output_type": "execute_result",
          "data": {
            "text/plain": [
              "(-0.5, 399.5, 199.5, -0.5)"
            ]
          },
          "metadata": {
            "tags": []
          },
          "execution_count": 52
        },
        {
          "output_type": "display_data",
          "data": {
            "image/png": "[encoded data removed]",
            "text/plain": [
              "<Figure size 1080x720 with 1 Axes>"
            ]
          },
          "metadata": {
            "tags": [],
            "needs_background": "light"
          }
        }
      ]
    },
    {
      "cell_type": "code",
      "metadata": {
        "id": "ocZv64lB8Z8e",
        "colab": {
          "base_uri": "https://localhost:8080/",
          "height": 422
        },
        "outputId": "866e8dd0-c0ae-4771-dd92-12ee357373d3"
      },
      "source": [
        "teste"
      ],
      "id": "ocZv64lB8Z8e",
      "execution_count": null,
      "outputs": [
        {
          "output_type": "execute_result",
          "data": {
            "text/html": [
              "<div>\n",
              "<style scoped>\n",
              "    .dataframe tbody tr th:only-of-type {\n",
              "        vertical-align: middle;\n",
              "    }\n",
              "\n",
              "    .dataframe tbody tr th {\n",
              "        vertical-align: top;\n",
              "    }\n",
              "\n",
              "    .dataframe thead th {\n",
              "        text-align: right;\n",
              "    }\n",
              "</style>\n",
              "<table border=\"1\" class=\"dataframe\">\n",
              "  <thead>\n",
              "    <tr style=\"text-align: right;\">\n",
              "      <th></th>\n",
              "      <th>user</th>\n",
              "      <th>page_transition</th>\n",
              "      <th>url</th>\n",
              "      <th>time</th>\n",
              "      <th>url_root</th>\n",
              "      <th>title</th>\n",
              "    </tr>\n",
              "  </thead>\n",
              "  <tbody>\n",
              "    <tr>\n",
              "      <th>9</th>\n",
              "      <td>Vithor</td>\n",
              "      <td>RELOAD</td>\n",
              "      <td>https://www.google.com/search?q=variante+delta...</td>\n",
              "      <td>2021-07-16 19:54:41.490182+00:00</td>\n",
              "      <td>https://www.google.com</td>\n",
              "      <td>variante</td>\n",
              "    </tr>\n",
              "    <tr>\n",
              "      <th>9</th>\n",
              "      <td>Vithor</td>\n",
              "      <td>RELOAD</td>\n",
              "      <td>https://www.google.com/search?q=variante+delta...</td>\n",
              "      <td>2021-07-16 19:54:41.490182+00:00</td>\n",
              "      <td>https://www.google.com</td>\n",
              "      <td>delta</td>\n",
              "    </tr>\n",
              "    <tr>\n",
              "      <th>10</th>\n",
              "      <td>Vithor</td>\n",
              "      <td>GENERATED</td>\n",
              "      <td>https://www.google.com/search?q=variante+delta...</td>\n",
              "      <td>2021-07-16 12:24:12.016854+00:00</td>\n",
              "      <td>https://www.google.com</td>\n",
              "      <td>variante</td>\n",
              "    </tr>\n",
              "    <tr>\n",
              "      <th>10</th>\n",
              "      <td>Vithor</td>\n",
              "      <td>GENERATED</td>\n",
              "      <td>https://www.google.com/search?q=variante+delta...</td>\n",
              "      <td>2021-07-16 12:24:12.016854+00:00</td>\n",
              "      <td>https://www.google.com</td>\n",
              "      <td>delta</td>\n",
              "    </tr>\n",
              "    <tr>\n",
              "      <th>11</th>\n",
              "      <td>Vithor</td>\n",
              "      <td>GENERATED</td>\n",
              "      <td>https://www.google.com/search?q=variante+delta...</td>\n",
              "      <td>2021-07-16 12:24:00.231656+00:00</td>\n",
              "      <td>https://www.google.com</td>\n",
              "      <td>variante</td>\n",
              "    </tr>\n",
              "    <tr>\n",
              "      <th>...</th>\n",
              "      <td>...</td>\n",
              "      <td>...</td>\n",
              "      <td>...</td>\n",
              "      <td>...</td>\n",
              "      <td>...</td>\n",
              "      <td>...</td>\n",
              "    </tr>\n",
              "    <tr>\n",
              "      <th>125994</th>\n",
              "      <td>Juliana</td>\n",
              "      <td>FORM_SUBMIT</td>\n",
              "      <td>https://www.google.com/search?q=foodtech+signi...</td>\n",
              "      <td>2021-07-22 01:24:03.774237+00:00</td>\n",
              "      <td>https://www.google.com</td>\n",
              "      <td>foodtech</td>\n",
              "    </tr>\n",
              "    <tr>\n",
              "      <th>125994</th>\n",
              "      <td>Juliana</td>\n",
              "      <td>FORM_SUBMIT</td>\n",
              "      <td>https://www.google.com/search?q=foodtech+signi...</td>\n",
              "      <td>2021-07-22 01:24:03.774237+00:00</td>\n",
              "      <td>https://www.google.com</td>\n",
              "      <td>significado</td>\n",
              "    </tr>\n",
              "    <tr>\n",
              "      <th>125996</th>\n",
              "      <td>Juliana</td>\n",
              "      <td>GENERATED</td>\n",
              "      <td>https://www.google.com/search?q=ifood&amp;oq=ifood...</td>\n",
              "      <td>2021-07-22 01:23:54.012878+00:00</td>\n",
              "      <td>https://www.google.com</td>\n",
              "      <td>ifood</td>\n",
              "    </tr>\n",
              "    <tr>\n",
              "      <th>125997</th>\n",
              "      <td>Juliana</td>\n",
              "      <td>LINK</td>\n",
              "      <td>https://www.google.com/search?q=ifood&amp;client=t...</td>\n",
              "      <td>2021-07-22 01:23:50.812910+00:00</td>\n",
              "      <td>https://www.google.com</td>\n",
              "      <td>ifood</td>\n",
              "    </tr>\n",
              "    <tr>\n",
              "      <th>125998</th>\n",
              "      <td>Juliana</td>\n",
              "      <td>GENERATED</td>\n",
              "      <td>https://www.google.com/search?q=ifood&amp;oq=ifood...</td>\n",
              "      <td>2021-07-22 01:23:45.123737+00:00</td>\n",
              "      <td>https://www.google.com</td>\n",
              "      <td>ifood</td>\n",
              "    </tr>\n",
              "  </tbody>\n",
              "</table>\n",
              "<p>49398 rows × 6 columns</p>\n",
              "</div>"
            ],
            "text/plain": [
              "           user page_transition  ...                url_root        title\n",
              "9        Vithor          RELOAD  ...  https://www.google.com     variante\n",
              "9        Vithor          RELOAD  ...  https://www.google.com        delta\n",
              "10       Vithor       GENERATED  ...  https://www.google.com     variante\n",
              "10       Vithor       GENERATED  ...  https://www.google.com        delta\n",
              "11       Vithor       GENERATED  ...  https://www.google.com     variante\n",
              "...         ...             ...  ...                     ...          ...\n",
              "125994  Juliana     FORM_SUBMIT  ...  https://www.google.com     foodtech\n",
              "125994  Juliana     FORM_SUBMIT  ...  https://www.google.com  significado\n",
              "125996  Juliana       GENERATED  ...  https://www.google.com        ifood\n",
              "125997  Juliana            LINK  ...  https://www.google.com        ifood\n",
              "125998  Juliana       GENERATED  ...  https://www.google.com        ifood\n",
              "\n",
              "[49398 rows x 6 columns]"
            ]
          },
          "metadata": {
            "tags": []
          },
          "execution_count": 54
        }
      ]
    },
    {
      "cell_type": "code",
      "metadata": {
        "id": "o1SeX4wHP9D9",
        "colab": {
          "base_uri": "https://localhost:8080/",
          "height": 454
        },
        "outputId": "7d3ebfbe-7911-4997-bc0a-73ced6f2beb0"
      },
      "source": [
        "teste.groupby(['title',teste.time.dt.hour]).agg({'title':'size'})"
      ],
      "id": "o1SeX4wHP9D9",
      "execution_count": null,
      "outputs": [
        {
          "output_type": "execute_result",
          "data": {
            "text/html": [
              "<div>\n",
              "<style scoped>\n",
              "    .dataframe tbody tr th:only-of-type {\n",
              "        vertical-align: middle;\n",
              "    }\n",
              "\n",
              "    .dataframe tbody tr th {\n",
              "        vertical-align: top;\n",
              "    }\n",
              "\n",
              "    .dataframe thead th {\n",
              "        text-align: right;\n",
              "    }\n",
              "</style>\n",
              "<table border=\"1\" class=\"dataframe\">\n",
              "  <thead>\n",
              "    <tr style=\"text-align: right;\">\n",
              "      <th></th>\n",
              "      <th></th>\n",
              "      <th>title</th>\n",
              "    </tr>\n",
              "    <tr>\n",
              "      <th>title</th>\n",
              "      <th>time</th>\n",
              "      <th></th>\n",
              "    </tr>\n",
              "  </thead>\n",
              "  <tbody>\n",
              "    <tr>\n",
              "      <th>!</th>\n",
              "      <th>12</th>\n",
              "      <td>2</td>\n",
              "    </tr>\n",
              "    <tr>\n",
              "      <th rowspan=\"2\" valign=\"top\">\"</th>\n",
              "      <th>0</th>\n",
              "      <td>1</td>\n",
              "    </tr>\n",
              "    <tr>\n",
              "      <th>13</th>\n",
              "      <td>1</td>\n",
              "    </tr>\n",
              "    <tr>\n",
              "      <th>\"\"</th>\n",
              "      <th>1</th>\n",
              "      <td>1</td>\n",
              "    </tr>\n",
              "    <tr>\n",
              "      <th>\"-\"</th>\n",
              "      <th>14</th>\n",
              "      <td>1</td>\n",
              "    </tr>\n",
              "    <tr>\n",
              "      <th>...</th>\n",
              "      <th>...</th>\n",
              "      <td>...</td>\n",
              "    </tr>\n",
              "    <tr>\n",
              "      <th>●</th>\n",
              "      <th>15</th>\n",
              "      <td>1</td>\n",
              "    </tr>\n",
              "    <tr>\n",
              "      <th>动漫图像背景api</th>\n",
              "      <th>10</th>\n",
              "      <td>1</td>\n",
              "    </tr>\n",
              "    <tr>\n",
              "      <th>薛小红</th>\n",
              "      <th>16</th>\n",
              "      <td>1</td>\n",
              "    </tr>\n",
              "    <tr>\n",
              "      <th>風光動漫api隨機圖像</th>\n",
              "      <th>2</th>\n",
              "      <td>1</td>\n",
              "    </tr>\n",
              "    <tr>\n",
              "      <th>👋</th>\n",
              "      <th>22</th>\n",
              "      <td>15</td>\n",
              "    </tr>\n",
              "  </tbody>\n",
              "</table>\n",
              "<p>20192 rows × 1 columns</p>\n",
              "</div>"
            ],
            "text/plain": [
              "                  title\n",
              "title       time       \n",
              "!           12        2\n",
              "\"           0         1\n",
              "            13        1\n",
              "\"\"          1         1\n",
              "\"-\"         14        1\n",
              "...                 ...\n",
              "●           15        1\n",
              "动漫图像背景api   10        1\n",
              "薛小红         16        1\n",
              "風光動漫api隨機圖像 2         1\n",
              "👋           22       15\n",
              "\n",
              "[20192 rows x 1 columns]"
            ]
          },
          "metadata": {
            "tags": []
          },
          "execution_count": 55
        }
      ]
    },
    {
      "cell_type": "markdown",
      "metadata": {
        "id": "xdoQhLxLuWyH"
      },
      "source": [
        "### O que pesquisamos antes e durante curso? "
      ],
      "id": "xdoQhLxLuWyH"
    },
    {
      "cell_type": "code",
      "metadata": {
        "id": "eACzSugGuUZY"
      },
      "source": [
        "chr.groupby(['user', chr.time.dt.year]).size()"
      ],
      "id": "eACzSugGuUZY",
      "execution_count": null,
      "outputs": []
    },
    {
      "cell_type": "markdown",
      "metadata": {
        "id": "aOkUT0irGpS0"
      },
      "source": [
        "### Quantas vezes a palavra iFood aparece no histórico geral? "
      ],
      "id": "aOkUT0irGpS0"
    },
    {
      "cell_type": "code",
      "metadata": {
        "id": "Z15_W0Q3Kklo"
      },
      "source": [
        "chr_nonull = chr.dropna(axis=0).copy()"
      ],
      "id": "Z15_W0Q3Kklo",
      "execution_count": null,
      "outputs": []
    },
    {
      "cell_type": "code",
      "metadata": {
        "id": "oPghV82hHL8L",
        "colab": {
          "base_uri": "https://localhost:8080/"
        },
        "outputId": "b024597e-3d62-4857-b0d0-2b9db1cbc84d"
      },
      "source": [
        "chr['title'].str.lower().str.contains('ifood').sum()"
      ],
      "id": "oPghV82hHL8L",
      "execution_count": null,
      "outputs": [
        {
          "output_type": "execute_result",
          "data": {
            "text/plain": [
              "944"
            ]
          },
          "metadata": {
            "tags": []
          },
          "execution_count": 68
        }
      ]
    },
    {
      "cell_type": "code",
      "metadata": {
        "id": "p1UrSG1XJxDq",
        "colab": {
          "base_uri": "https://localhost:8080/"
        },
        "outputId": "01a1ebc0-1712-4b71-f15d-625cd881faa8"
      },
      "source": [
        "chr_nonull[chr_nonull['title'].str.lower().str.contains('ifood')].groupby(['user',chr_nonull.time.dt.year]).size()"
      ],
      "id": "p1UrSG1XJxDq",
      "execution_count": null,
      "outputs": [
        {
          "output_type": "execute_result",
          "data": {
            "text/plain": [
              "user     time\n",
              "Juliana  2021     10\n",
              "Patryck  2021    208\n",
              "Vithor   2020     28\n",
              "         2021    698\n",
              "dtype: int64"
            ]
          },
          "metadata": {
            "tags": []
          },
          "execution_count": 69
        }
      ]
    },
    {
      "cell_type": "markdown",
      "metadata": {
        "id": "Riw_PuXfHamt"
      },
      "source": [
        "### Em quais horários pesquisamos mais no google?\n"
      ],
      "id": "Riw_PuXfHamt"
    },
    {
      "cell_type": "code",
      "metadata": {
        "id": "-Xy9qY4IYj7J"
      },
      "source": [
        ""
      ],
      "id": "-Xy9qY4IYj7J",
      "execution_count": null,
      "outputs": []
    },
    {
      "cell_type": "code",
      "metadata": {
        "id": "laEFSlzLKArZ"
      },
      "source": [
        "chr['google'] = chr['title'].str.contains('Pesquisa Google')"
      ],
      "id": "laEFSlzLKArZ",
      "execution_count": null,
      "outputs": []
    },
    {
      "cell_type": "code",
      "metadata": {
        "id": "IxntbK1p3XTo"
      },
      "source": [
        "# browser.groupby(['time', ''])"
      ],
      "id": "IxntbK1p3XTo",
      "execution_count": null,
      "outputs": []
    },
    {
      "cell_type": "code",
      "metadata": {
        "id": "f7CZmPtFYxG0"
      },
      "source": [
        "chr['time'] = pd.to_datetime(chr['time'], utc=True)"
      ],
      "id": "f7CZmPtFYxG0",
      "execution_count": null,
      "outputs": []
    },
    {
      "cell_type": "code",
      "metadata": {
        "id": "R1EOEZn4ZD5p"
      },
      "source": [
        "chr['period_day'] = chr['time'].dt.hour.apply(time_interval_day)"
      ],
      "id": "R1EOEZn4ZD5p",
      "execution_count": null,
      "outputs": []
    },
    {
      "cell_type": "code",
      "metadata": {
        "id": "n7M3k6pqvKEz"
      },
      "source": [
        "browser_search = chr.copy()\n",
        "browser_search['period_time'] = browser_search['time'].dt.hour.apply(time_interval_day)"
      ],
      "id": "n7M3k6pqvKEz",
      "execution_count": null,
      "outputs": []
    },
    {
      "cell_type": "code",
      "metadata": {
        "id": "JtxtUNOq4n1Q"
      },
      "source": [
        "#chr_nonull.groupby.plot(kind='line',x=time , )plot(kind='line', x=time, y=chr_null.iloc[2], color='user')\n",
        "\n",
        "browser_search = browser_search.groupby(['user', 'period_time', 'google'], as_index=False).size()\n",
        "\n",
        " \n",
        "#.plot(kind='line', x='time', y=chr_nonull.iloc[2], color='user')"
      ],
      "id": "JtxtUNOq4n1Q",
      "execution_count": null,
      "outputs": []
    },
    {
      "cell_type": "code",
      "metadata": {
        "colab": {
          "base_uri": "https://localhost:8080/",
          "height": 542
        },
        "id": "gCYCyWy4vRgt",
        "outputId": "2cd6cdd7-545f-4a34-eb16-141b82c62ba4"
      },
      "source": [
        "browser_search[browser_search.user == 'Patryck'].plot(kind='bar', x='period_time', y='size', color='google', title='Patryck', text='size')"
      ],
      "id": "gCYCyWy4vRgt",
      "execution_count": null,
      "outputs": [
        {
          "output_type": "display_data",
          "data": {
            "text/html": [
              "<html>\n",
              "<head><meta charset=\"utf-8\" /></head>\n",
              "<body>\n",
              "    <div>            <script src=\"https://cdnjs.cloudflare.com/ajax/libs/mathjax/2.7.5/MathJax.js?config=TeX-AMS-MML_SVG\"></script><script type=\"text/javascript\">if (window.MathJax) {MathJax.Hub.Config({SVG: {font: \"STIX-Web\"}});}</script>                <script type=\"text/javascript\">window.PlotlyConfig = {MathJaxConfig: 'local'};</script>\n",
              "        <script src=\"https://cdn.plot.ly/plotly-2.2.0.min.js\"></script>                <div id=\"4ca8bbbf-bb8a-4942-924f-00f8926fbe89\" class=\"plotly-graph-div\" style=\"height:525px; width:100%;\"></div>            <script type=\"text/javascript\">                                    window.PLOTLYENV=window.PLOTLYENV || {};                                    if (document.getElementById(\"4ca8bbbf-bb8a-4942-924f-00f8926fbe89\")) {                    Plotly.newPlot(                        \"4ca8bbbf-bb8a-4942-924f-00f8926fbe89\",                        [{\"alignmentgroup\":\"True\",\"hovertemplate\":\"google=False<br>period_time=%{x}<br>size=%{text}<extra></extra>\",\"legendgroup\":\"False\",\"marker\":{\"color\":\"#636efa\",\"pattern\":{\"shape\":\"\"}},\"name\":\"False\",\"offsetgroup\":\"False\",\"orientation\":\"v\",\"showlegend\":true,\"text\":[\"5741\",\"1747\",\"7891\",\"6227\"],\"textposition\":\"auto\",\"type\":\"bar\",\"x\":[\"Madrugada\",\"Manh\\u00e3\",\"Noite\",\"Tarde\"],\"xaxis\":\"x\",\"y\":[5741,1747,7891,6227],\"yaxis\":\"y\"},{\"alignmentgroup\":\"True\",\"hovertemplate\":\"google=True<br>period_time=%{x}<br>size=%{text}<extra></extra>\",\"legendgroup\":\"True\",\"marker\":{\"color\":\"#EF553B\",\"pattern\":{\"shape\":\"\"}},\"name\":\"True\",\"offsetgroup\":\"True\",\"orientation\":\"v\",\"showlegend\":true,\"text\":[\"555\",\"100\",\"742\",\"522\"],\"textposition\":\"auto\",\"type\":\"bar\",\"x\":[\"Madrugada\",\"Manh\\u00e3\",\"Noite\",\"Tarde\"],\"xaxis\":\"x\",\"y\":[555,100,742,522],\"yaxis\":\"y\"}],                        {\"barmode\":\"relative\",\"legend\":{\"title\":{\"text\":\"google\"},\"tracegroupgap\":0},\"template\":{\"data\":{\"bar\":[{\"error_x\":{\"color\":\"#2a3f5f\"},\"error_y\":{\"color\":\"#2a3f5f\"},\"marker\":{\"line\":{\"color\":\"#E5ECF6\",\"width\":0.5},\"pattern\":{\"fillmode\":\"overlay\",\"size\":10,\"solidity\":0.2}},\"type\":\"bar\"}],\"barpolar\":[{\"marker\":{\"line\":{\"color\":\"#E5ECF6\",\"width\":0.5},\"pattern\":{\"fillmode\":\"overlay\",\"size\":10,\"solidity\":0.2}},\"type\":\"barpolar\"}],\"carpet\":[{\"aaxis\":{\"endlinecolor\":\"#2a3f5f\",\"gridcolor\":\"white\",\"linecolor\":\"white\",\"minorgridcolor\":\"white\",\"startlinecolor\":\"#2a3f5f\"},\"baxis\":{\"endlinecolor\":\"#2a3f5f\",\"gridcolor\":\"white\",\"linecolor\":\"white\",\"minorgridcolor\":\"white\",\"startlinecolor\":\"#2a3f5f\"},\"type\":\"carpet\"}],\"choropleth\":[{\"colorbar\":{\"outlinewidth\":0,\"ticks\":\"\"},\"type\":\"choropleth\"}],\"contour\":[{\"colorbar\":{\"outlinewidth\":0,\"ticks\":\"\"},\"colorscale\":[[0.0,\"#0d0887\"],[0.1111111111111111,\"#46039f\"],[0.2222222222222222,\"#7201a8\"],[0.3333333333333333,\"#9c179e\"],[0.4444444444444444,\"#bd3786\"],[0.5555555555555556,\"#d8576b\"],[0.6666666666666666,\"#ed7953\"],[0.7777777777777778,\"#fb9f3a\"],[0.8888888888888888,\"#fdca26\"],[1.0,\"#f0f921\"]],\"type\":\"contour\"}],\"contourcarpet\":[{\"colorbar\":{\"outlinewidth\":0,\"ticks\":\"\"},\"type\":\"contourcarpet\"}],\"heatmap\":[{\"colorbar\":{\"outlinewidth\":0,\"ticks\":\"\"},\"colorscale\":[[0.0,\"#0d0887\"],[0.1111111111111111,\"#46039f\"],[0.2222222222222222,\"#7201a8\"],[0.3333333333333333,\"#9c179e\"],[0.4444444444444444,\"#bd3786\"],[0.5555555555555556,\"#d8576b\"],[0.6666666666666666,\"#ed7953\"],[0.7777777777777778,\"#fb9f3a\"],[0.8888888888888888,\"#fdca26\"],[1.0,\"#f0f921\"]],\"type\":\"heatmap\"}],\"heatmapgl\":[{\"colorbar\":{\"outlinewidth\":0,\"ticks\":\"\"},\"colorscale\":[[0.0,\"#0d0887\"],[0.1111111111111111,\"#46039f\"],[0.2222222222222222,\"#7201a8\"],[0.3333333333333333,\"#9c179e\"],[0.4444444444444444,\"#bd3786\"],[0.5555555555555556,\"#d8576b\"],[0.6666666666666666,\"#ed7953\"],[0.7777777777777778,\"#fb9f3a\"],[0.8888888888888888,\"#fdca26\"],[1.0,\"#f0f921\"]],\"type\":\"heatmapgl\"}],\"histogram\":[{\"marker\":{\"pattern\":{\"fillmode\":\"overlay\",\"size\":10,\"solidity\":0.2}},\"type\":\"histogram\"}],\"histogram2d\":[{\"colorbar\":{\"outlinewidth\":0,\"ticks\":\"\"},\"colorscale\":[[0.0,\"#0d0887\"],[0.1111111111111111,\"#46039f\"],[0.2222222222222222,\"#7201a8\"],[0.3333333333333333,\"#9c179e\"],[0.4444444444444444,\"#bd3786\"],[0.5555555555555556,\"#d8576b\"],[0.6666666666666666,\"#ed7953\"],[0.7777777777777778,\"#fb9f3a\"],[0.8888888888888888,\"#fdca26\"],[1.0,\"#f0f921\"]],\"type\":\"histogram2d\"}],\"histogram2dcontour\":[{\"colorbar\":{\"outlinewidth\":0,\"ticks\":\"\"},\"colorscale\":[[0.0,\"#0d0887\"],[0.1111111111111111,\"#46039f\"],[0.2222222222222222,\"#7201a8\"],[0.3333333333333333,\"#9c179e\"],[0.4444444444444444,\"#bd3786\"],[0.5555555555555556,\"#d8576b\"],[0.6666666666666666,\"#ed7953\"],[0.7777777777777778,\"#fb9f3a\"],[0.8888888888888888,\"#fdca26\"],[1.0,\"#f0f921\"]],\"type\":\"histogram2dcontour\"}],\"mesh3d\":[{\"colorbar\":{\"outlinewidth\":0,\"ticks\":\"\"},\"type\":\"mesh3d\"}],\"parcoords\":[{\"line\":{\"colorbar\":{\"outlinewidth\":0,\"ticks\":\"\"}},\"type\":\"parcoords\"}],\"pie\":[{\"automargin\":true,\"type\":\"pie\"}],\"scatter\":[{\"marker\":{\"colorbar\":{\"outlinewidth\":0,\"ticks\":\"\"}},\"type\":\"scatter\"}],\"scatter3d\":[{\"line\":{\"colorbar\":{\"outlinewidth\":0,\"ticks\":\"\"}},\"marker\":{\"colorbar\":{\"outlinewidth\":0,\"ticks\":\"\"}},\"type\":\"scatter3d\"}],\"scattercarpet\":[{\"marker\":{\"colorbar\":{\"outlinewidth\":0,\"ticks\":\"\"}},\"type\":\"scattercarpet\"}],\"scattergeo\":[{\"marker\":{\"colorbar\":{\"outlinewidth\":0,\"ticks\":\"\"}},\"type\":\"scattergeo\"}],\"scattergl\":[{\"marker\":{\"colorbar\":{\"outlinewidth\":0,\"ticks\":\"\"}},\"type\":\"scattergl\"}],\"scattermapbox\":[{\"marker\":{\"colorbar\":{\"outlinewidth\":0,\"ticks\":\"\"}},\"type\":\"scattermapbox\"}],\"scatterpolar\":[{\"marker\":{\"colorbar\":{\"outlinewidth\":0,\"ticks\":\"\"}},\"type\":\"scatterpolar\"}],\"scatterpolargl\":[{\"marker\":{\"colorbar\":{\"outlinewidth\":0,\"ticks\":\"\"}},\"type\":\"scatterpolargl\"}],\"scatterternary\":[{\"marker\":{\"colorbar\":{\"outlinewidth\":0,\"ticks\":\"\"}},\"type\":\"scatterternary\"}],\"surface\":[{\"colorbar\":{\"outlinewidth\":0,\"ticks\":\"\"},\"colorscale\":[[0.0,\"#0d0887\"],[0.1111111111111111,\"#46039f\"],[0.2222222222222222,\"#7201a8\"],[0.3333333333333333,\"#9c179e\"],[0.4444444444444444,\"#bd3786\"],[0.5555555555555556,\"#d8576b\"],[0.6666666666666666,\"#ed7953\"],[0.7777777777777778,\"#fb9f3a\"],[0.8888888888888888,\"#fdca26\"],[1.0,\"#f0f921\"]],\"type\":\"surface\"}],\"table\":[{\"cells\":{\"fill\":{\"color\":\"#EBF0F8\"},\"line\":{\"color\":\"white\"}},\"header\":{\"fill\":{\"color\":\"#C8D4E3\"},\"line\":{\"color\":\"white\"}},\"type\":\"table\"}]},\"layout\":{\"annotationdefaults\":{\"arrowcolor\":\"#2a3f5f\",\"arrowhead\":0,\"arrowwidth\":1},\"autotypenumbers\":\"strict\",\"coloraxis\":{\"colorbar\":{\"outlinewidth\":0,\"ticks\":\"\"}},\"colorscale\":{\"diverging\":[[0,\"#8e0152\"],[0.1,\"#c51b7d\"],[0.2,\"#de77ae\"],[0.3,\"#f1b6da\"],[0.4,\"#fde0ef\"],[0.5,\"#f7f7f7\"],[0.6,\"#e6f5d0\"],[0.7,\"#b8e186\"],[0.8,\"#7fbc41\"],[0.9,\"#4d9221\"],[1,\"#276419\"]],\"sequential\":[[0.0,\"#0d0887\"],[0.1111111111111111,\"#46039f\"],[0.2222222222222222,\"#7201a8\"],[0.3333333333333333,\"#9c179e\"],[0.4444444444444444,\"#bd3786\"],[0.5555555555555556,\"#d8576b\"],[0.6666666666666666,\"#ed7953\"],[0.7777777777777778,\"#fb9f3a\"],[0.8888888888888888,\"#fdca26\"],[1.0,\"#f0f921\"]],\"sequentialminus\":[[0.0,\"#0d0887\"],[0.1111111111111111,\"#46039f\"],[0.2222222222222222,\"#7201a8\"],[0.3333333333333333,\"#9c179e\"],[0.4444444444444444,\"#bd3786\"],[0.5555555555555556,\"#d8576b\"],[0.6666666666666666,\"#ed7953\"],[0.7777777777777778,\"#fb9f3a\"],[0.8888888888888888,\"#fdca26\"],[1.0,\"#f0f921\"]]},\"colorway\":[\"#636efa\",\"#EF553B\",\"#00cc96\",\"#ab63fa\",\"#FFA15A\",\"#19d3f3\",\"#FF6692\",\"#B6E880\",\"#FF97FF\",\"#FECB52\"],\"font\":{\"color\":\"#2a3f5f\"},\"geo\":{\"bgcolor\":\"white\",\"lakecolor\":\"white\",\"landcolor\":\"#E5ECF6\",\"showlakes\":true,\"showland\":true,\"subunitcolor\":\"white\"},\"hoverlabel\":{\"align\":\"left\"},\"hovermode\":\"closest\",\"mapbox\":{\"style\":\"light\"},\"paper_bgcolor\":\"white\",\"plot_bgcolor\":\"#E5ECF6\",\"polar\":{\"angularaxis\":{\"gridcolor\":\"white\",\"linecolor\":\"white\",\"ticks\":\"\"},\"bgcolor\":\"#E5ECF6\",\"radialaxis\":{\"gridcolor\":\"white\",\"linecolor\":\"white\",\"ticks\":\"\"}},\"scene\":{\"xaxis\":{\"backgroundcolor\":\"#E5ECF6\",\"gridcolor\":\"white\",\"gridwidth\":2,\"linecolor\":\"white\",\"showbackground\":true,\"ticks\":\"\",\"zerolinecolor\":\"white\"},\"yaxis\":{\"backgroundcolor\":\"#E5ECF6\",\"gridcolor\":\"white\",\"gridwidth\":2,\"linecolor\":\"white\",\"showbackground\":true,\"ticks\":\"\",\"zerolinecolor\":\"white\"},\"zaxis\":{\"backgroundcolor\":\"#E5ECF6\",\"gridcolor\":\"white\",\"gridwidth\":2,\"linecolor\":\"white\",\"showbackground\":true,\"ticks\":\"\",\"zerolinecolor\":\"white\"}},\"shapedefaults\":{\"line\":{\"color\":\"#2a3f5f\"}},\"ternary\":{\"aaxis\":{\"gridcolor\":\"white\",\"linecolor\":\"white\",\"ticks\":\"\"},\"baxis\":{\"gridcolor\":\"white\",\"linecolor\":\"white\",\"ticks\":\"\"},\"bgcolor\":\"#E5ECF6\",\"caxis\":{\"gridcolor\":\"white\",\"linecolor\":\"white\",\"ticks\":\"\"}},\"title\":{\"x\":0.05},\"xaxis\":{\"automargin\":true,\"gridcolor\":\"white\",\"linecolor\":\"white\",\"ticks\":\"\",\"title\":{\"standoff\":15},\"zerolinecolor\":\"white\",\"zerolinewidth\":2},\"yaxis\":{\"automargin\":true,\"gridcolor\":\"white\",\"linecolor\":\"white\",\"ticks\":\"\",\"title\":{\"standoff\":15},\"zerolinecolor\":\"white\",\"zerolinewidth\":2}}},\"title\":{\"text\":\"Patryck\"},\"xaxis\":{\"anchor\":\"y\",\"domain\":[0.0,1.0],\"title\":{\"text\":\"period_time\"}},\"yaxis\":{\"anchor\":\"x\",\"domain\":[0.0,1.0],\"title\":{\"text\":\"size\"}}},                        {\"responsive\": true}                    ).then(function(){\n",
              "                            \n",
              "var gd = document.getElementById('4ca8bbbf-bb8a-4942-924f-00f8926fbe89');\n",
              "var x = new MutationObserver(function (mutations, observer) {{\n",
              "        var display = window.getComputedStyle(gd).display;\n",
              "        if (!display || display === 'none') {{\n",
              "            console.log([gd, 'removed!']);\n",
              "            Plotly.purge(gd);\n",
              "            observer.disconnect();\n",
              "        }}\n",
              "}});\n",
              "\n",
              "// Listen for the removal of the full notebook cells\n",
              "var notebookContainer = gd.closest('#notebook-container');\n",
              "if (notebookContainer) {{\n",
              "    x.observe(notebookContainer, {childList: true});\n",
              "}}\n",
              "\n",
              "// Listen for the clearing of the current output cell\n",
              "var outputEl = gd.closest('.output');\n",
              "if (outputEl) {{\n",
              "    x.observe(outputEl, {childList: true});\n",
              "}}\n",
              "\n",
              "                        })                };                            </script>        </div>\n",
              "</body>\n",
              "</html>"
            ]
          },
          "metadata": {
            "tags": []
          }
        }
      ]
    },
    {
      "cell_type": "code",
      "metadata": {
        "colab": {
          "base_uri": "https://localhost:8080/",
          "height": 542
        },
        "id": "GALeAfeLxTor",
        "outputId": "b01ee4ac-1d11-45f6-9745-2822b167a2dc"
      },
      "source": [
        "browser_search[browser_search.user == 'Juliana'].plot(kind='bar', x='time', y='size', color='google',title='Juliana')"
      ],
      "id": "GALeAfeLxTor",
      "execution_count": null,
      "outputs": [
        {
          "output_type": "display_data",
          "data": {
            "text/html": [
              "<html>\n",
              "<head><meta charset=\"utf-8\" /></head>\n",
              "<body>\n",
              "    <div>            <script src=\"https://cdnjs.cloudflare.com/ajax/libs/mathjax/2.7.5/MathJax.js?config=TeX-AMS-MML_SVG\"></script><script type=\"text/javascript\">if (window.MathJax) {MathJax.Hub.Config({SVG: {font: \"STIX-Web\"}});}</script>                <script type=\"text/javascript\">window.PlotlyConfig = {MathJaxConfig: 'local'};</script>\n",
              "        <script src=\"https://cdn.plot.ly/plotly-2.2.0.min.js\"></script>                <div id=\"979ed9ae-8ebf-4b7c-a239-d374f636a0af\" class=\"plotly-graph-div\" style=\"height:525px; width:100%;\"></div>            <script type=\"text/javascript\">                                    window.PLOTLYENV=window.PLOTLYENV || {};                                    if (document.getElementById(\"979ed9ae-8ebf-4b7c-a239-d374f636a0af\")) {                    Plotly.newPlot(                        \"979ed9ae-8ebf-4b7c-a239-d374f636a0af\",                        [{\"alignmentgroup\":\"True\",\"hovertemplate\":\"google=False<br>time=%{x}<br>size=%{y}<extra></extra>\",\"legendgroup\":\"False\",\"marker\":{\"color\":\"#636efa\",\"pattern\":{\"shape\":\"\"}},\"name\":\"False\",\"offsetgroup\":\"False\",\"orientation\":\"v\",\"showlegend\":true,\"textposition\":\"auto\",\"type\":\"bar\",\"x\":[0,1,2,3,14,15,16,18,21,22,23],\"xaxis\":\"x\",\"y\":[199,9,8,14,5,4,1,9,4,15,32],\"yaxis\":\"y\"},{\"alignmentgroup\":\"True\",\"hovertemplate\":\"google=True<br>time=%{x}<br>size=%{y}<extra></extra>\",\"legendgroup\":\"True\",\"marker\":{\"color\":\"#EF553B\",\"pattern\":{\"shape\":\"\"}},\"name\":\"True\",\"offsetgroup\":\"True\",\"orientation\":\"v\",\"showlegend\":true,\"textposition\":\"auto\",\"type\":\"bar\",\"x\":[0,2,3,14,16,18,21,22,23],\"xaxis\":\"x\",\"y\":[3,4,5,4,1,1,1,1,6],\"yaxis\":\"y\"}],                        {\"barmode\":\"relative\",\"legend\":{\"title\":{\"text\":\"google\"},\"tracegroupgap\":0},\"template\":{\"data\":{\"bar\":[{\"error_x\":{\"color\":\"#2a3f5f\"},\"error_y\":{\"color\":\"#2a3f5f\"},\"marker\":{\"line\":{\"color\":\"#E5ECF6\",\"width\":0.5},\"pattern\":{\"fillmode\":\"overlay\",\"size\":10,\"solidity\":0.2}},\"type\":\"bar\"}],\"barpolar\":[{\"marker\":{\"line\":{\"color\":\"#E5ECF6\",\"width\":0.5},\"pattern\":{\"fillmode\":\"overlay\",\"size\":10,\"solidity\":0.2}},\"type\":\"barpolar\"}],\"carpet\":[{\"aaxis\":{\"endlinecolor\":\"#2a3f5f\",\"gridcolor\":\"white\",\"linecolor\":\"white\",\"minorgridcolor\":\"white\",\"startlinecolor\":\"#2a3f5f\"},\"baxis\":{\"endlinecolor\":\"#2a3f5f\",\"gridcolor\":\"white\",\"linecolor\":\"white\",\"minorgridcolor\":\"white\",\"startlinecolor\":\"#2a3f5f\"},\"type\":\"carpet\"}],\"choropleth\":[{\"colorbar\":{\"outlinewidth\":0,\"ticks\":\"\"},\"type\":\"choropleth\"}],\"contour\":[{\"colorbar\":{\"outlinewidth\":0,\"ticks\":\"\"},\"colorscale\":[[0.0,\"#0d0887\"],[0.1111111111111111,\"#46039f\"],[0.2222222222222222,\"#7201a8\"],[0.3333333333333333,\"#9c179e\"],[0.4444444444444444,\"#bd3786\"],[0.5555555555555556,\"#d8576b\"],[0.6666666666666666,\"#ed7953\"],[0.7777777777777778,\"#fb9f3a\"],[0.8888888888888888,\"#fdca26\"],[1.0,\"#f0f921\"]],\"type\":\"contour\"}],\"contourcarpet\":[{\"colorbar\":{\"outlinewidth\":0,\"ticks\":\"\"},\"type\":\"contourcarpet\"}],\"heatmap\":[{\"colorbar\":{\"outlinewidth\":0,\"ticks\":\"\"},\"colorscale\":[[0.0,\"#0d0887\"],[0.1111111111111111,\"#46039f\"],[0.2222222222222222,\"#7201a8\"],[0.3333333333333333,\"#9c179e\"],[0.4444444444444444,\"#bd3786\"],[0.5555555555555556,\"#d8576b\"],[0.6666666666666666,\"#ed7953\"],[0.7777777777777778,\"#fb9f3a\"],[0.8888888888888888,\"#fdca26\"],[1.0,\"#f0f921\"]],\"type\":\"heatmap\"}],\"heatmapgl\":[{\"colorbar\":{\"outlinewidth\":0,\"ticks\":\"\"},\"colorscale\":[[0.0,\"#0d0887\"],[0.1111111111111111,\"#46039f\"],[0.2222222222222222,\"#7201a8\"],[0.3333333333333333,\"#9c179e\"],[0.4444444444444444,\"#bd3786\"],[0.5555555555555556,\"#d8576b\"],[0.6666666666666666,\"#ed7953\"],[0.7777777777777778,\"#fb9f3a\"],[0.8888888888888888,\"#fdca26\"],[1.0,\"#f0f921\"]],\"type\":\"heatmapgl\"}],\"histogram\":[{\"marker\":{\"pattern\":{\"fillmode\":\"overlay\",\"size\":10,\"solidity\":0.2}},\"type\":\"histogram\"}],\"histogram2d\":[{\"colorbar\":{\"outlinewidth\":0,\"ticks\":\"\"},\"colorscale\":[[0.0,\"#0d0887\"],[0.1111111111111111,\"#46039f\"],[0.2222222222222222,\"#7201a8\"],[0.3333333333333333,\"#9c179e\"],[0.4444444444444444,\"#bd3786\"],[0.5555555555555556,\"#d8576b\"],[0.6666666666666666,\"#ed7953\"],[0.7777777777777778,\"#fb9f3a\"],[0.8888888888888888,\"#fdca26\"],[1.0,\"#f0f921\"]],\"type\":\"histogram2d\"}],\"histogram2dcontour\":[{\"colorbar\":{\"outlinewidth\":0,\"ticks\":\"\"},\"colorscale\":[[0.0,\"#0d0887\"],[0.1111111111111111,\"#46039f\"],[0.2222222222222222,\"#7201a8\"],[0.3333333333333333,\"#9c179e\"],[0.4444444444444444,\"#bd3786\"],[0.5555555555555556,\"#d8576b\"],[0.6666666666666666,\"#ed7953\"],[0.7777777777777778,\"#fb9f3a\"],[0.8888888888888888,\"#fdca26\"],[1.0,\"#f0f921\"]],\"type\":\"histogram2dcontour\"}],\"mesh3d\":[{\"colorbar\":{\"outlinewidth\":0,\"ticks\":\"\"},\"type\":\"mesh3d\"}],\"parcoords\":[{\"line\":{\"colorbar\":{\"outlinewidth\":0,\"ticks\":\"\"}},\"type\":\"parcoords\"}],\"pie\":[{\"automargin\":true,\"type\":\"pie\"}],\"scatter\":[{\"marker\":{\"colorbar\":{\"outlinewidth\":0,\"ticks\":\"\"}},\"type\":\"scatter\"}],\"scatter3d\":[{\"line\":{\"colorbar\":{\"outlinewidth\":0,\"ticks\":\"\"}},\"marker\":{\"colorbar\":{\"outlinewidth\":0,\"ticks\":\"\"}},\"type\":\"scatter3d\"}],\"scattercarpet\":[{\"marker\":{\"colorbar\":{\"outlinewidth\":0,\"ticks\":\"\"}},\"type\":\"scattercarpet\"}],\"scattergeo\":[{\"marker\":{\"colorbar\":{\"outlinewidth\":0,\"ticks\":\"\"}},\"type\":\"scattergeo\"}],\"scattergl\":[{\"marker\":{\"colorbar\":{\"outlinewidth\":0,\"ticks\":\"\"}},\"type\":\"scattergl\"}],\"scattermapbox\":[{\"marker\":{\"colorbar\":{\"outlinewidth\":0,\"ticks\":\"\"}},\"type\":\"scattermapbox\"}],\"scatterpolar\":[{\"marker\":{\"colorbar\":{\"outlinewidth\":0,\"ticks\":\"\"}},\"type\":\"scatterpolar\"}],\"scatterpolargl\":[{\"marker\":{\"colorbar\":{\"outlinewidth\":0,\"ticks\":\"\"}},\"type\":\"scatterpolargl\"}],\"scatterternary\":[{\"marker\":{\"colorbar\":{\"outlinewidth\":0,\"ticks\":\"\"}},\"type\":\"scatterternary\"}],\"surface\":[{\"colorbar\":{\"outlinewidth\":0,\"ticks\":\"\"},\"colorscale\":[[0.0,\"#0d0887\"],[0.1111111111111111,\"#46039f\"],[0.2222222222222222,\"#7201a8\"],[0.3333333333333333,\"#9c179e\"],[0.4444444444444444,\"#bd3786\"],[0.5555555555555556,\"#d8576b\"],[0.6666666666666666,\"#ed7953\"],[0.7777777777777778,\"#fb9f3a\"],[0.8888888888888888,\"#fdca26\"],[1.0,\"#f0f921\"]],\"type\":\"surface\"}],\"table\":[{\"cells\":{\"fill\":{\"color\":\"#EBF0F8\"},\"line\":{\"color\":\"white\"}},\"header\":{\"fill\":{\"color\":\"#C8D4E3\"},\"line\":{\"color\":\"white\"}},\"type\":\"table\"}]},\"layout\":{\"annotationdefaults\":{\"arrowcolor\":\"#2a3f5f\",\"arrowhead\":0,\"arrowwidth\":1},\"autotypenumbers\":\"strict\",\"coloraxis\":{\"colorbar\":{\"outlinewidth\":0,\"ticks\":\"\"}},\"colorscale\":{\"diverging\":[[0,\"#8e0152\"],[0.1,\"#c51b7d\"],[0.2,\"#de77ae\"],[0.3,\"#f1b6da\"],[0.4,\"#fde0ef\"],[0.5,\"#f7f7f7\"],[0.6,\"#e6f5d0\"],[0.7,\"#b8e186\"],[0.8,\"#7fbc41\"],[0.9,\"#4d9221\"],[1,\"#276419\"]],\"sequential\":[[0.0,\"#0d0887\"],[0.1111111111111111,\"#46039f\"],[0.2222222222222222,\"#7201a8\"],[0.3333333333333333,\"#9c179e\"],[0.4444444444444444,\"#bd3786\"],[0.5555555555555556,\"#d8576b\"],[0.6666666666666666,\"#ed7953\"],[0.7777777777777778,\"#fb9f3a\"],[0.8888888888888888,\"#fdca26\"],[1.0,\"#f0f921\"]],\"sequentialminus\":[[0.0,\"#0d0887\"],[0.1111111111111111,\"#46039f\"],[0.2222222222222222,\"#7201a8\"],[0.3333333333333333,\"#9c179e\"],[0.4444444444444444,\"#bd3786\"],[0.5555555555555556,\"#d8576b\"],[0.6666666666666666,\"#ed7953\"],[0.7777777777777778,\"#fb9f3a\"],[0.8888888888888888,\"#fdca26\"],[1.0,\"#f0f921\"]]},\"colorway\":[\"#636efa\",\"#EF553B\",\"#00cc96\",\"#ab63fa\",\"#FFA15A\",\"#19d3f3\",\"#FF6692\",\"#B6E880\",\"#FF97FF\",\"#FECB52\"],\"font\":{\"color\":\"#2a3f5f\"},\"geo\":{\"bgcolor\":\"white\",\"lakecolor\":\"white\",\"landcolor\":\"#E5ECF6\",\"showlakes\":true,\"showland\":true,\"subunitcolor\":\"white\"},\"hoverlabel\":{\"align\":\"left\"},\"hovermode\":\"closest\",\"mapbox\":{\"style\":\"light\"},\"paper_bgcolor\":\"white\",\"plot_bgcolor\":\"#E5ECF6\",\"polar\":{\"angularaxis\":{\"gridcolor\":\"white\",\"linecolor\":\"white\",\"ticks\":\"\"},\"bgcolor\":\"#E5ECF6\",\"radialaxis\":{\"gridcolor\":\"white\",\"linecolor\":\"white\",\"ticks\":\"\"}},\"scene\":{\"xaxis\":{\"backgroundcolor\":\"#E5ECF6\",\"gridcolor\":\"white\",\"gridwidth\":2,\"linecolor\":\"white\",\"showbackground\":true,\"ticks\":\"\",\"zerolinecolor\":\"white\"},\"yaxis\":{\"backgroundcolor\":\"#E5ECF6\",\"gridcolor\":\"white\",\"gridwidth\":2,\"linecolor\":\"white\",\"showbackground\":true,\"ticks\":\"\",\"zerolinecolor\":\"white\"},\"zaxis\":{\"backgroundcolor\":\"#E5ECF6\",\"gridcolor\":\"white\",\"gridwidth\":2,\"linecolor\":\"white\",\"showbackground\":true,\"ticks\":\"\",\"zerolinecolor\":\"white\"}},\"shapedefaults\":{\"line\":{\"color\":\"#2a3f5f\"}},\"ternary\":{\"aaxis\":{\"gridcolor\":\"white\",\"linecolor\":\"white\",\"ticks\":\"\"},\"baxis\":{\"gridcolor\":\"white\",\"linecolor\":\"white\",\"ticks\":\"\"},\"bgcolor\":\"#E5ECF6\",\"caxis\":{\"gridcolor\":\"white\",\"linecolor\":\"white\",\"ticks\":\"\"}},\"title\":{\"x\":0.05},\"xaxis\":{\"automargin\":true,\"gridcolor\":\"white\",\"linecolor\":\"white\",\"ticks\":\"\",\"title\":{\"standoff\":15},\"zerolinecolor\":\"white\",\"zerolinewidth\":2},\"yaxis\":{\"automargin\":true,\"gridcolor\":\"white\",\"linecolor\":\"white\",\"ticks\":\"\",\"title\":{\"standoff\":15},\"zerolinecolor\":\"white\",\"zerolinewidth\":2}}},\"title\":{\"text\":\"Juliana\"},\"xaxis\":{\"anchor\":\"y\",\"domain\":[0.0,1.0],\"title\":{\"text\":\"time\"}},\"yaxis\":{\"anchor\":\"x\",\"domain\":[0.0,1.0],\"title\":{\"text\":\"size\"}}},                        {\"responsive\": true}                    ).then(function(){\n",
              "                            \n",
              "var gd = document.getElementById('979ed9ae-8ebf-4b7c-a239-d374f636a0af');\n",
              "var x = new MutationObserver(function (mutations, observer) {{\n",
              "        var display = window.getComputedStyle(gd).display;\n",
              "        if (!display || display === 'none') {{\n",
              "            console.log([gd, 'removed!']);\n",
              "            Plotly.purge(gd);\n",
              "            observer.disconnect();\n",
              "        }}\n",
              "}});\n",
              "\n",
              "// Listen for the removal of the full notebook cells\n",
              "var notebookContainer = gd.closest('#notebook-container');\n",
              "if (notebookContainer) {{\n",
              "    x.observe(notebookContainer, {childList: true});\n",
              "}}\n",
              "\n",
              "// Listen for the clearing of the current output cell\n",
              "var outputEl = gd.closest('.output');\n",
              "if (outputEl) {{\n",
              "    x.observe(outputEl, {childList: true});\n",
              "}}\n",
              "\n",
              "                        })                };                            </script>        </div>\n",
              "</body>\n",
              "</html>"
            ]
          },
          "metadata": {
            "tags": []
          }
        }
      ]
    },
    {
      "cell_type": "code",
      "metadata": {
        "colab": {
          "base_uri": "https://localhost:8080/",
          "height": 542
        },
        "id": "JYC5lQ-gxkwm",
        "outputId": "d2ea8a39-df55-41c3-ee8d-79e17400a791"
      },
      "source": [
        "browser_search[browser_search.user == 'Vithor'].plot(kind='bar', x='time', y='size', color='google')"
      ],
      "id": "JYC5lQ-gxkwm",
      "execution_count": null,
      "outputs": [
        {
          "output_type": "display_data",
          "data": {
            "text/html": [
              "<html>\n",
              "<head><meta charset=\"utf-8\" /></head>\n",
              "<body>\n",
              "    <div>            <script src=\"https://cdnjs.cloudflare.com/ajax/libs/mathjax/2.7.5/MathJax.js?config=TeX-AMS-MML_SVG\"></script><script type=\"text/javascript\">if (window.MathJax) {MathJax.Hub.Config({SVG: {font: \"STIX-Web\"}});}</script>                <script type=\"text/javascript\">window.PlotlyConfig = {MathJaxConfig: 'local'};</script>\n",
              "        <script src=\"https://cdn.plot.ly/plotly-2.2.0.min.js\"></script>                <div id=\"1a302676-1b8d-4c47-8092-74a57ba1f0cd\" class=\"plotly-graph-div\" style=\"height:525px; width:100%;\"></div>            <script type=\"text/javascript\">                                    window.PLOTLYENV=window.PLOTLYENV || {};                                    if (document.getElementById(\"1a302676-1b8d-4c47-8092-74a57ba1f0cd\")) {                    Plotly.newPlot(                        \"1a302676-1b8d-4c47-8092-74a57ba1f0cd\",                        [{\"alignmentgroup\":\"True\",\"hovertemplate\":\"google=False<br>time=%{x}<br>size=%{y}<extra></extra>\",\"legendgroup\":\"False\",\"marker\":{\"color\":\"#636efa\",\"pattern\":{\"shape\":\"\"}},\"name\":\"False\",\"offsetgroup\":\"False\",\"orientation\":\"v\",\"showlegend\":true,\"textposition\":\"auto\",\"type\":\"bar\",\"x\":[0,1,2,3,4,5,6,7,8,9,10,11,12,13,14,15,16,17,18,19,20,21,22,23],\"xaxis\":\"x\",\"y\":[935,210,20,2,5,86,126,516,3065,4816,6024,6781,5704,6762,5716,5679,5429,5081,5665,6267,5601,5250,3877,2498],\"yaxis\":\"y\"},{\"alignmentgroup\":\"True\",\"hovertemplate\":\"google=True<br>time=%{x}<br>size=%{y}<extra></extra>\",\"legendgroup\":\"True\",\"marker\":{\"color\":\"#EF553B\",\"pattern\":{\"shape\":\"\"}},\"name\":\"True\",\"offsetgroup\":\"True\",\"orientation\":\"v\",\"showlegend\":true,\"textposition\":\"auto\",\"type\":\"bar\",\"x\":[0,1,2,3,4,5,6,7,8,9,10,11,12,13,14,15,16,17,18,19,20,21,22,23],\"xaxis\":\"x\",\"y\":[247,100,45,2,1,7,21,169,536,935,1024,1137,972,1057,1151,1183,820,1004,977,1072,822,981,800,497],\"yaxis\":\"y\"}],                        {\"barmode\":\"relative\",\"legend\":{\"title\":{\"text\":\"google\"},\"tracegroupgap\":0},\"margin\":{\"t\":60},\"template\":{\"data\":{\"bar\":[{\"error_x\":{\"color\":\"#2a3f5f\"},\"error_y\":{\"color\":\"#2a3f5f\"},\"marker\":{\"line\":{\"color\":\"#E5ECF6\",\"width\":0.5},\"pattern\":{\"fillmode\":\"overlay\",\"size\":10,\"solidity\":0.2}},\"type\":\"bar\"}],\"barpolar\":[{\"marker\":{\"line\":{\"color\":\"#E5ECF6\",\"width\":0.5},\"pattern\":{\"fillmode\":\"overlay\",\"size\":10,\"solidity\":0.2}},\"type\":\"barpolar\"}],\"carpet\":[{\"aaxis\":{\"endlinecolor\":\"#2a3f5f\",\"gridcolor\":\"white\",\"linecolor\":\"white\",\"minorgridcolor\":\"white\",\"startlinecolor\":\"#2a3f5f\"},\"baxis\":{\"endlinecolor\":\"#2a3f5f\",\"gridcolor\":\"white\",\"linecolor\":\"white\",\"minorgridcolor\":\"white\",\"startlinecolor\":\"#2a3f5f\"},\"type\":\"carpet\"}],\"choropleth\":[{\"colorbar\":{\"outlinewidth\":0,\"ticks\":\"\"},\"type\":\"choropleth\"}],\"contour\":[{\"colorbar\":{\"outlinewidth\":0,\"ticks\":\"\"},\"colorscale\":[[0.0,\"#0d0887\"],[0.1111111111111111,\"#46039f\"],[0.2222222222222222,\"#7201a8\"],[0.3333333333333333,\"#9c179e\"],[0.4444444444444444,\"#bd3786\"],[0.5555555555555556,\"#d8576b\"],[0.6666666666666666,\"#ed7953\"],[0.7777777777777778,\"#fb9f3a\"],[0.8888888888888888,\"#fdca26\"],[1.0,\"#f0f921\"]],\"type\":\"contour\"}],\"contourcarpet\":[{\"colorbar\":{\"outlinewidth\":0,\"ticks\":\"\"},\"type\":\"contourcarpet\"}],\"heatmap\":[{\"colorbar\":{\"outlinewidth\":0,\"ticks\":\"\"},\"colorscale\":[[0.0,\"#0d0887\"],[0.1111111111111111,\"#46039f\"],[0.2222222222222222,\"#7201a8\"],[0.3333333333333333,\"#9c179e\"],[0.4444444444444444,\"#bd3786\"],[0.5555555555555556,\"#d8576b\"],[0.6666666666666666,\"#ed7953\"],[0.7777777777777778,\"#fb9f3a\"],[0.8888888888888888,\"#fdca26\"],[1.0,\"#f0f921\"]],\"type\":\"heatmap\"}],\"heatmapgl\":[{\"colorbar\":{\"outlinewidth\":0,\"ticks\":\"\"},\"colorscale\":[[0.0,\"#0d0887\"],[0.1111111111111111,\"#46039f\"],[0.2222222222222222,\"#7201a8\"],[0.3333333333333333,\"#9c179e\"],[0.4444444444444444,\"#bd3786\"],[0.5555555555555556,\"#d8576b\"],[0.6666666666666666,\"#ed7953\"],[0.7777777777777778,\"#fb9f3a\"],[0.8888888888888888,\"#fdca26\"],[1.0,\"#f0f921\"]],\"type\":\"heatmapgl\"}],\"histogram\":[{\"marker\":{\"pattern\":{\"fillmode\":\"overlay\",\"size\":10,\"solidity\":0.2}},\"type\":\"histogram\"}],\"histogram2d\":[{\"colorbar\":{\"outlinewidth\":0,\"ticks\":\"\"},\"colorscale\":[[0.0,\"#0d0887\"],[0.1111111111111111,\"#46039f\"],[0.2222222222222222,\"#7201a8\"],[0.3333333333333333,\"#9c179e\"],[0.4444444444444444,\"#bd3786\"],[0.5555555555555556,\"#d8576b\"],[0.6666666666666666,\"#ed7953\"],[0.7777777777777778,\"#fb9f3a\"],[0.8888888888888888,\"#fdca26\"],[1.0,\"#f0f921\"]],\"type\":\"histogram2d\"}],\"histogram2dcontour\":[{\"colorbar\":{\"outlinewidth\":0,\"ticks\":\"\"},\"colorscale\":[[0.0,\"#0d0887\"],[0.1111111111111111,\"#46039f\"],[0.2222222222222222,\"#7201a8\"],[0.3333333333333333,\"#9c179e\"],[0.4444444444444444,\"#bd3786\"],[0.5555555555555556,\"#d8576b\"],[0.6666666666666666,\"#ed7953\"],[0.7777777777777778,\"#fb9f3a\"],[0.8888888888888888,\"#fdca26\"],[1.0,\"#f0f921\"]],\"type\":\"histogram2dcontour\"}],\"mesh3d\":[{\"colorbar\":{\"outlinewidth\":0,\"ticks\":\"\"},\"type\":\"mesh3d\"}],\"parcoords\":[{\"line\":{\"colorbar\":{\"outlinewidth\":0,\"ticks\":\"\"}},\"type\":\"parcoords\"}],\"pie\":[{\"automargin\":true,\"type\":\"pie\"}],\"scatter\":[{\"marker\":{\"colorbar\":{\"outlinewidth\":0,\"ticks\":\"\"}},\"type\":\"scatter\"}],\"scatter3d\":[{\"line\":{\"colorbar\":{\"outlinewidth\":0,\"ticks\":\"\"}},\"marker\":{\"colorbar\":{\"outlinewidth\":0,\"ticks\":\"\"}},\"type\":\"scatter3d\"}],\"scattercarpet\":[{\"marker\":{\"colorbar\":{\"outlinewidth\":0,\"ticks\":\"\"}},\"type\":\"scattercarpet\"}],\"scattergeo\":[{\"marker\":{\"colorbar\":{\"outlinewidth\":0,\"ticks\":\"\"}},\"type\":\"scattergeo\"}],\"scattergl\":[{\"marker\":{\"colorbar\":{\"outlinewidth\":0,\"ticks\":\"\"}},\"type\":\"scattergl\"}],\"scattermapbox\":[{\"marker\":{\"colorbar\":{\"outlinewidth\":0,\"ticks\":\"\"}},\"type\":\"scattermapbox\"}],\"scatterpolar\":[{\"marker\":{\"colorbar\":{\"outlinewidth\":0,\"ticks\":\"\"}},\"type\":\"scatterpolar\"}],\"scatterpolargl\":[{\"marker\":{\"colorbar\":{\"outlinewidth\":0,\"ticks\":\"\"}},\"type\":\"scatterpolargl\"}],\"scatterternary\":[{\"marker\":{\"colorbar\":{\"outlinewidth\":0,\"ticks\":\"\"}},\"type\":\"scatterternary\"}],\"surface\":[{\"colorbar\":{\"outlinewidth\":0,\"ticks\":\"\"},\"colorscale\":[[0.0,\"#0d0887\"],[0.1111111111111111,\"#46039f\"],[0.2222222222222222,\"#7201a8\"],[0.3333333333333333,\"#9c179e\"],[0.4444444444444444,\"#bd3786\"],[0.5555555555555556,\"#d8576b\"],[0.6666666666666666,\"#ed7953\"],[0.7777777777777778,\"#fb9f3a\"],[0.8888888888888888,\"#fdca26\"],[1.0,\"#f0f921\"]],\"type\":\"surface\"}],\"table\":[{\"cells\":{\"fill\":{\"color\":\"#EBF0F8\"},\"line\":{\"color\":\"white\"}},\"header\":{\"fill\":{\"color\":\"#C8D4E3\"},\"line\":{\"color\":\"white\"}},\"type\":\"table\"}]},\"layout\":{\"annotationdefaults\":{\"arrowcolor\":\"#2a3f5f\",\"arrowhead\":0,\"arrowwidth\":1},\"autotypenumbers\":\"strict\",\"coloraxis\":{\"colorbar\":{\"outlinewidth\":0,\"ticks\":\"\"}},\"colorscale\":{\"diverging\":[[0,\"#8e0152\"],[0.1,\"#c51b7d\"],[0.2,\"#de77ae\"],[0.3,\"#f1b6da\"],[0.4,\"#fde0ef\"],[0.5,\"#f7f7f7\"],[0.6,\"#e6f5d0\"],[0.7,\"#b8e186\"],[0.8,\"#7fbc41\"],[0.9,\"#4d9221\"],[1,\"#276419\"]],\"sequential\":[[0.0,\"#0d0887\"],[0.1111111111111111,\"#46039f\"],[0.2222222222222222,\"#7201a8\"],[0.3333333333333333,\"#9c179e\"],[0.4444444444444444,\"#bd3786\"],[0.5555555555555556,\"#d8576b\"],[0.6666666666666666,\"#ed7953\"],[0.7777777777777778,\"#fb9f3a\"],[0.8888888888888888,\"#fdca26\"],[1.0,\"#f0f921\"]],\"sequentialminus\":[[0.0,\"#0d0887\"],[0.1111111111111111,\"#46039f\"],[0.2222222222222222,\"#7201a8\"],[0.3333333333333333,\"#9c179e\"],[0.4444444444444444,\"#bd3786\"],[0.5555555555555556,\"#d8576b\"],[0.6666666666666666,\"#ed7953\"],[0.7777777777777778,\"#fb9f3a\"],[0.8888888888888888,\"#fdca26\"],[1.0,\"#f0f921\"]]},\"colorway\":[\"#636efa\",\"#EF553B\",\"#00cc96\",\"#ab63fa\",\"#FFA15A\",\"#19d3f3\",\"#FF6692\",\"#B6E880\",\"#FF97FF\",\"#FECB52\"],\"font\":{\"color\":\"#2a3f5f\"},\"geo\":{\"bgcolor\":\"white\",\"lakecolor\":\"white\",\"landcolor\":\"#E5ECF6\",\"showlakes\":true,\"showland\":true,\"subunitcolor\":\"white\"},\"hoverlabel\":{\"align\":\"left\"},\"hovermode\":\"closest\",\"mapbox\":{\"style\":\"light\"},\"paper_bgcolor\":\"white\",\"plot_bgcolor\":\"#E5ECF6\",\"polar\":{\"angularaxis\":{\"gridcolor\":\"white\",\"linecolor\":\"white\",\"ticks\":\"\"},\"bgcolor\":\"#E5ECF6\",\"radialaxis\":{\"gridcolor\":\"white\",\"linecolor\":\"white\",\"ticks\":\"\"}},\"scene\":{\"xaxis\":{\"backgroundcolor\":\"#E5ECF6\",\"gridcolor\":\"white\",\"gridwidth\":2,\"linecolor\":\"white\",\"showbackground\":true,\"ticks\":\"\",\"zerolinecolor\":\"white\"},\"yaxis\":{\"backgroundcolor\":\"#E5ECF6\",\"gridcolor\":\"white\",\"gridwidth\":2,\"linecolor\":\"white\",\"showbackground\":true,\"ticks\":\"\",\"zerolinecolor\":\"white\"},\"zaxis\":{\"backgroundcolor\":\"#E5ECF6\",\"gridcolor\":\"white\",\"gridwidth\":2,\"linecolor\":\"white\",\"showbackground\":true,\"ticks\":\"\",\"zerolinecolor\":\"white\"}},\"shapedefaults\":{\"line\":{\"color\":\"#2a3f5f\"}},\"ternary\":{\"aaxis\":{\"gridcolor\":\"white\",\"linecolor\":\"white\",\"ticks\":\"\"},\"baxis\":{\"gridcolor\":\"white\",\"linecolor\":\"white\",\"ticks\":\"\"},\"bgcolor\":\"#E5ECF6\",\"caxis\":{\"gridcolor\":\"white\",\"linecolor\":\"white\",\"ticks\":\"\"}},\"title\":{\"x\":0.05},\"xaxis\":{\"automargin\":true,\"gridcolor\":\"white\",\"linecolor\":\"white\",\"ticks\":\"\",\"title\":{\"standoff\":15},\"zerolinecolor\":\"white\",\"zerolinewidth\":2},\"yaxis\":{\"automargin\":true,\"gridcolor\":\"white\",\"linecolor\":\"white\",\"ticks\":\"\",\"title\":{\"standoff\":15},\"zerolinecolor\":\"white\",\"zerolinewidth\":2}}},\"xaxis\":{\"anchor\":\"y\",\"domain\":[0.0,1.0],\"title\":{\"text\":\"time\"}},\"yaxis\":{\"anchor\":\"x\",\"domain\":[0.0,1.0],\"title\":{\"text\":\"size\"}}},                        {\"responsive\": true}                    ).then(function(){\n",
              "                            \n",
              "var gd = document.getElementById('1a302676-1b8d-4c47-8092-74a57ba1f0cd');\n",
              "var x = new MutationObserver(function (mutations, observer) {{\n",
              "        var display = window.getComputedStyle(gd).display;\n",
              "        if (!display || display === 'none') {{\n",
              "            console.log([gd, 'removed!']);\n",
              "            Plotly.purge(gd);\n",
              "            observer.disconnect();\n",
              "        }}\n",
              "}});\n",
              "\n",
              "// Listen for the removal of the full notebook cells\n",
              "var notebookContainer = gd.closest('#notebook-container');\n",
              "if (notebookContainer) {{\n",
              "    x.observe(notebookContainer, {childList: true});\n",
              "}}\n",
              "\n",
              "// Listen for the clearing of the current output cell\n",
              "var outputEl = gd.closest('.output');\n",
              "if (outputEl) {{\n",
              "    x.observe(outputEl, {childList: true});\n",
              "}}\n",
              "\n",
              "                        })                };                            </script>        </div>\n",
              "</body>\n",
              "</html>"
            ]
          },
          "metadata": {
            "tags": []
          }
        }
      ]
    }
  ]
}